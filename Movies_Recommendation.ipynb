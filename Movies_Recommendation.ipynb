{
  "nbformat": 4,
  "nbformat_minor": 0,
  "metadata": {
    "colab": {
      "provenance": []
    },
    "kernelspec": {
      "name": "python3",
      "display_name": "Python 3"
    },
    "language_info": {
      "name": "python"
    }
  },
  "cells": [
    {
      "cell_type": "code",
      "execution_count": 1,
      "metadata": {
        "id": "WPEygxIHnEqe"
      },
      "outputs": [],
      "source": [
        "import pandas as pd"
      ]
    },
    {
      "cell_type": "code",
      "source": [
        "import numpy as np"
      ],
      "metadata": {
        "id": "I_bHkes7nsD8"
      },
      "execution_count": 2,
      "outputs": []
    },
    {
      "cell_type": "code",
      "source": [
        "df=pd.read_csv(r'https://raw.githubusercontent.com/YBI-Foundation/Dataset/main/Movies%20Recommendation.csv')"
      ],
      "metadata": {
        "id": "XNGqxprfnxaK"
      },
      "execution_count": 3,
      "outputs": []
    },
    {
      "cell_type": "code",
      "source": [
        "df.head()"
      ],
      "metadata": {
        "colab": {
          "base_uri": "https://localhost:8080/",
          "height": 672
        },
        "id": "BnwZvD7mn46A",
        "outputId": "5acf87fc-54d9-40ac-af48-b78582815872"
      },
      "execution_count": 4,
      "outputs": [
        {
          "output_type": "execute_result",
          "data": {
            "text/plain": [
              "   Movie_ID      Movie_Title                       Movie_Genre Movie_Language  \\\n",
              "0         1       Four Rooms                      Crime Comedy             en   \n",
              "1         2        Star Wars  Adventure Action Science Fiction             en   \n",
              "2         3     Finding Nemo                  Animation Family             en   \n",
              "3         4     Forrest Gump              Comedy Drama Romance             en   \n",
              "4         5  American Beauty                             Drama             en   \n",
              "\n",
              "   Movie_Budget  Movie_Popularity Movie_Release_Date  Movie_Revenue  \\\n",
              "0       4000000         22.876230         09-12-1995        4300000   \n",
              "1      11000000        126.393695         25-05-1977      775398007   \n",
              "2      94000000         85.688789         30-05-2003      940335536   \n",
              "3      55000000        138.133331         06-07-1994      677945399   \n",
              "4      15000000         80.878605         15-09-1999      356296601   \n",
              "\n",
              "   Movie_Runtime  Movie_Vote  ...  \\\n",
              "0           98.0         6.5  ...   \n",
              "1          121.0         8.1  ...   \n",
              "2          100.0         7.6  ...   \n",
              "3          142.0         8.2  ...   \n",
              "4          122.0         7.9  ...   \n",
              "\n",
              "                                      Movie_Homepage  \\\n",
              "0                                                NaN   \n",
              "1  http://www.starwars.com/films/star-wars-episod...   \n",
              "2              http://movies.disney.com/finding-nemo   \n",
              "3                                                NaN   \n",
              "4                      http://www.dreamworks.com/ab/   \n",
              "\n",
              "                                      Movie_Keywords  \\\n",
              "0          hotel new year's eve witch bet hotel room   \n",
              "1        android galaxy hermit death star lightsaber   \n",
              "2  father son relationship harbor underwater fish...   \n",
              "3  vietnam veteran hippie mentally disabled runni...   \n",
              "4  male nudity female nudity adultery midlife cri...   \n",
              "\n",
              "                                      Movie_Overview  \\\n",
              "0  It's Ted the Bellhop's first night on the job....   \n",
              "1  Princess Leia is captured and held hostage by ...   \n",
              "2  Nemo, an adventurous young clownfish, is unexp...   \n",
              "3  A man with a low IQ has accomplished great thi...   \n",
              "4  Lester Burnham, a depressed suburban father in...   \n",
              "\n",
              "                              Movie_Production_House  \\\n",
              "0  [{\"name\": \"Miramax Films\", \"id\": 14}, {\"name\":...   \n",
              "1  [{\"name\": \"Lucasfilm\", \"id\": 1}, {\"name\": \"Twe...   \n",
              "2     [{\"name\": \"Pixar Animation Studios\", \"id\": 3}]   \n",
              "3          [{\"name\": \"Paramount Pictures\", \"id\": 4}]   \n",
              "4  [{\"name\": \"DreamWorks SKG\", \"id\": 27}, {\"name\"...   \n",
              "\n",
              "                            Movie_Production_Country  \\\n",
              "0  [{\"iso_3166_1\": \"US\", \"name\": \"United States o...   \n",
              "1  [{\"iso_3166_1\": \"US\", \"name\": \"United States o...   \n",
              "2  [{\"iso_3166_1\": \"US\", \"name\": \"United States o...   \n",
              "3  [{\"iso_3166_1\": \"US\", \"name\": \"United States o...   \n",
              "4  [{\"iso_3166_1\": \"US\", \"name\": \"United States o...   \n",
              "\n",
              "                      Movie_Spoken_Language  \\\n",
              "0  [{\"iso_639_1\": \"en\", \"name\": \"English\"}]   \n",
              "1  [{\"iso_639_1\": \"en\", \"name\": \"English\"}]   \n",
              "2  [{\"iso_639_1\": \"en\", \"name\": \"English\"}]   \n",
              "3  [{\"iso_639_1\": \"en\", \"name\": \"English\"}]   \n",
              "4  [{\"iso_639_1\": \"en\", \"name\": \"English\"}]   \n",
              "\n",
              "                                       Movie_Tagline  \\\n",
              "0  Twelve outrageous guests. Four scandalous requ...   \n",
              "1       A long time ago in a galaxy far, far away...   \n",
              "2  There are 3.7 trillion fish in the ocean, they...   \n",
              "3  The world will never be the same, once you've ...   \n",
              "4                                       Look closer.   \n",
              "\n",
              "                                          Movie_Cast  \\\n",
              "0  Tim Roth Antonio Banderas Jennifer Beals Madon...   \n",
              "1  Mark Hamill Harrison Ford Carrie Fisher Peter ...   \n",
              "2  Albert Brooks Ellen DeGeneres Alexander Gould ...   \n",
              "3  Tom Hanks Robin Wright Gary Sinise Mykelti Wil...   \n",
              "4  Kevin Spacey Annette Bening Thora Birch Wes Be...   \n",
              "\n",
              "                                          Movie_Crew   Movie_Director  \n",
              "0  [{'name': 'Allison Anders', 'gender': 1, 'depa...   Allison Anders  \n",
              "1  [{'name': 'George Lucas', 'gender': 2, 'depart...     George Lucas  \n",
              "2  [{'name': 'Andrew Stanton', 'gender': 2, 'depa...   Andrew Stanton  \n",
              "3  [{'name': 'Alan Silvestri', 'gender': 2, 'depa...  Robert Zemeckis  \n",
              "4  [{'name': 'Thomas Newman', 'gender': 2, 'depar...       Sam Mendes  \n",
              "\n",
              "[5 rows x 21 columns]"
            ],
            "text/html": [
              "\n",
              "  <div id=\"df-d95a9918-cee0-4269-ab93-d6556d0bde00\" class=\"colab-df-container\">\n",
              "    <div>\n",
              "<style scoped>\n",
              "    .dataframe tbody tr th:only-of-type {\n",
              "        vertical-align: middle;\n",
              "    }\n",
              "\n",
              "    .dataframe tbody tr th {\n",
              "        vertical-align: top;\n",
              "    }\n",
              "\n",
              "    .dataframe thead th {\n",
              "        text-align: right;\n",
              "    }\n",
              "</style>\n",
              "<table border=\"1\" class=\"dataframe\">\n",
              "  <thead>\n",
              "    <tr style=\"text-align: right;\">\n",
              "      <th></th>\n",
              "      <th>Movie_ID</th>\n",
              "      <th>Movie_Title</th>\n",
              "      <th>Movie_Genre</th>\n",
              "      <th>Movie_Language</th>\n",
              "      <th>Movie_Budget</th>\n",
              "      <th>Movie_Popularity</th>\n",
              "      <th>Movie_Release_Date</th>\n",
              "      <th>Movie_Revenue</th>\n",
              "      <th>Movie_Runtime</th>\n",
              "      <th>Movie_Vote</th>\n",
              "      <th>...</th>\n",
              "      <th>Movie_Homepage</th>\n",
              "      <th>Movie_Keywords</th>\n",
              "      <th>Movie_Overview</th>\n",
              "      <th>Movie_Production_House</th>\n",
              "      <th>Movie_Production_Country</th>\n",
              "      <th>Movie_Spoken_Language</th>\n",
              "      <th>Movie_Tagline</th>\n",
              "      <th>Movie_Cast</th>\n",
              "      <th>Movie_Crew</th>\n",
              "      <th>Movie_Director</th>\n",
              "    </tr>\n",
              "  </thead>\n",
              "  <tbody>\n",
              "    <tr>\n",
              "      <th>0</th>\n",
              "      <td>1</td>\n",
              "      <td>Four Rooms</td>\n",
              "      <td>Crime Comedy</td>\n",
              "      <td>en</td>\n",
              "      <td>4000000</td>\n",
              "      <td>22.876230</td>\n",
              "      <td>09-12-1995</td>\n",
              "      <td>4300000</td>\n",
              "      <td>98.0</td>\n",
              "      <td>6.5</td>\n",
              "      <td>...</td>\n",
              "      <td>NaN</td>\n",
              "      <td>hotel new year's eve witch bet hotel room</td>\n",
              "      <td>It's Ted the Bellhop's first night on the job....</td>\n",
              "      <td>[{\"name\": \"Miramax Films\", \"id\": 14}, {\"name\":...</td>\n",
              "      <td>[{\"iso_3166_1\": \"US\", \"name\": \"United States o...</td>\n",
              "      <td>[{\"iso_639_1\": \"en\", \"name\": \"English\"}]</td>\n",
              "      <td>Twelve outrageous guests. Four scandalous requ...</td>\n",
              "      <td>Tim Roth Antonio Banderas Jennifer Beals Madon...</td>\n",
              "      <td>[{'name': 'Allison Anders', 'gender': 1, 'depa...</td>\n",
              "      <td>Allison Anders</td>\n",
              "    </tr>\n",
              "    <tr>\n",
              "      <th>1</th>\n",
              "      <td>2</td>\n",
              "      <td>Star Wars</td>\n",
              "      <td>Adventure Action Science Fiction</td>\n",
              "      <td>en</td>\n",
              "      <td>11000000</td>\n",
              "      <td>126.393695</td>\n",
              "      <td>25-05-1977</td>\n",
              "      <td>775398007</td>\n",
              "      <td>121.0</td>\n",
              "      <td>8.1</td>\n",
              "      <td>...</td>\n",
              "      <td>http://www.starwars.com/films/star-wars-episod...</td>\n",
              "      <td>android galaxy hermit death star lightsaber</td>\n",
              "      <td>Princess Leia is captured and held hostage by ...</td>\n",
              "      <td>[{\"name\": \"Lucasfilm\", \"id\": 1}, {\"name\": \"Twe...</td>\n",
              "      <td>[{\"iso_3166_1\": \"US\", \"name\": \"United States o...</td>\n",
              "      <td>[{\"iso_639_1\": \"en\", \"name\": \"English\"}]</td>\n",
              "      <td>A long time ago in a galaxy far, far away...</td>\n",
              "      <td>Mark Hamill Harrison Ford Carrie Fisher Peter ...</td>\n",
              "      <td>[{'name': 'George Lucas', 'gender': 2, 'depart...</td>\n",
              "      <td>George Lucas</td>\n",
              "    </tr>\n",
              "    <tr>\n",
              "      <th>2</th>\n",
              "      <td>3</td>\n",
              "      <td>Finding Nemo</td>\n",
              "      <td>Animation Family</td>\n",
              "      <td>en</td>\n",
              "      <td>94000000</td>\n",
              "      <td>85.688789</td>\n",
              "      <td>30-05-2003</td>\n",
              "      <td>940335536</td>\n",
              "      <td>100.0</td>\n",
              "      <td>7.6</td>\n",
              "      <td>...</td>\n",
              "      <td>http://movies.disney.com/finding-nemo</td>\n",
              "      <td>father son relationship harbor underwater fish...</td>\n",
              "      <td>Nemo, an adventurous young clownfish, is unexp...</td>\n",
              "      <td>[{\"name\": \"Pixar Animation Studios\", \"id\": 3}]</td>\n",
              "      <td>[{\"iso_3166_1\": \"US\", \"name\": \"United States o...</td>\n",
              "      <td>[{\"iso_639_1\": \"en\", \"name\": \"English\"}]</td>\n",
              "      <td>There are 3.7 trillion fish in the ocean, they...</td>\n",
              "      <td>Albert Brooks Ellen DeGeneres Alexander Gould ...</td>\n",
              "      <td>[{'name': 'Andrew Stanton', 'gender': 2, 'depa...</td>\n",
              "      <td>Andrew Stanton</td>\n",
              "    </tr>\n",
              "    <tr>\n",
              "      <th>3</th>\n",
              "      <td>4</td>\n",
              "      <td>Forrest Gump</td>\n",
              "      <td>Comedy Drama Romance</td>\n",
              "      <td>en</td>\n",
              "      <td>55000000</td>\n",
              "      <td>138.133331</td>\n",
              "      <td>06-07-1994</td>\n",
              "      <td>677945399</td>\n",
              "      <td>142.0</td>\n",
              "      <td>8.2</td>\n",
              "      <td>...</td>\n",
              "      <td>NaN</td>\n",
              "      <td>vietnam veteran hippie mentally disabled runni...</td>\n",
              "      <td>A man with a low IQ has accomplished great thi...</td>\n",
              "      <td>[{\"name\": \"Paramount Pictures\", \"id\": 4}]</td>\n",
              "      <td>[{\"iso_3166_1\": \"US\", \"name\": \"United States o...</td>\n",
              "      <td>[{\"iso_639_1\": \"en\", \"name\": \"English\"}]</td>\n",
              "      <td>The world will never be the same, once you've ...</td>\n",
              "      <td>Tom Hanks Robin Wright Gary Sinise Mykelti Wil...</td>\n",
              "      <td>[{'name': 'Alan Silvestri', 'gender': 2, 'depa...</td>\n",
              "      <td>Robert Zemeckis</td>\n",
              "    </tr>\n",
              "    <tr>\n",
              "      <th>4</th>\n",
              "      <td>5</td>\n",
              "      <td>American Beauty</td>\n",
              "      <td>Drama</td>\n",
              "      <td>en</td>\n",
              "      <td>15000000</td>\n",
              "      <td>80.878605</td>\n",
              "      <td>15-09-1999</td>\n",
              "      <td>356296601</td>\n",
              "      <td>122.0</td>\n",
              "      <td>7.9</td>\n",
              "      <td>...</td>\n",
              "      <td>http://www.dreamworks.com/ab/</td>\n",
              "      <td>male nudity female nudity adultery midlife cri...</td>\n",
              "      <td>Lester Burnham, a depressed suburban father in...</td>\n",
              "      <td>[{\"name\": \"DreamWorks SKG\", \"id\": 27}, {\"name\"...</td>\n",
              "      <td>[{\"iso_3166_1\": \"US\", \"name\": \"United States o...</td>\n",
              "      <td>[{\"iso_639_1\": \"en\", \"name\": \"English\"}]</td>\n",
              "      <td>Look closer.</td>\n",
              "      <td>Kevin Spacey Annette Bening Thora Birch Wes Be...</td>\n",
              "      <td>[{'name': 'Thomas Newman', 'gender': 2, 'depar...</td>\n",
              "      <td>Sam Mendes</td>\n",
              "    </tr>\n",
              "  </tbody>\n",
              "</table>\n",
              "<p>5 rows × 21 columns</p>\n",
              "</div>\n",
              "    <div class=\"colab-df-buttons\">\n",
              "\n",
              "  <div class=\"colab-df-container\">\n",
              "    <button class=\"colab-df-convert\" onclick=\"convertToInteractive('df-d95a9918-cee0-4269-ab93-d6556d0bde00')\"\n",
              "            title=\"Convert this dataframe to an interactive table.\"\n",
              "            style=\"display:none;\">\n",
              "\n",
              "  <svg xmlns=\"http://www.w3.org/2000/svg\" height=\"24px\" viewBox=\"0 -960 960 960\">\n",
              "    <path d=\"M120-120v-720h720v720H120Zm60-500h600v-160H180v160Zm220 220h160v-160H400v160Zm0 220h160v-160H400v160ZM180-400h160v-160H180v160Zm440 0h160v-160H620v160ZM180-180h160v-160H180v160Zm440 0h160v-160H620v160Z\"/>\n",
              "  </svg>\n",
              "    </button>\n",
              "\n",
              "  <style>\n",
              "    .colab-df-container {\n",
              "      display:flex;\n",
              "      gap: 12px;\n",
              "    }\n",
              "\n",
              "    .colab-df-convert {\n",
              "      background-color: #E8F0FE;\n",
              "      border: none;\n",
              "      border-radius: 50%;\n",
              "      cursor: pointer;\n",
              "      display: none;\n",
              "      fill: #1967D2;\n",
              "      height: 32px;\n",
              "      padding: 0 0 0 0;\n",
              "      width: 32px;\n",
              "    }\n",
              "\n",
              "    .colab-df-convert:hover {\n",
              "      background-color: #E2EBFA;\n",
              "      box-shadow: 0px 1px 2px rgba(60, 64, 67, 0.3), 0px 1px 3px 1px rgba(60, 64, 67, 0.15);\n",
              "      fill: #174EA6;\n",
              "    }\n",
              "\n",
              "    .colab-df-buttons div {\n",
              "      margin-bottom: 4px;\n",
              "    }\n",
              "\n",
              "    [theme=dark] .colab-df-convert {\n",
              "      background-color: #3B4455;\n",
              "      fill: #D2E3FC;\n",
              "    }\n",
              "\n",
              "    [theme=dark] .colab-df-convert:hover {\n",
              "      background-color: #434B5C;\n",
              "      box-shadow: 0px 1px 3px 1px rgba(0, 0, 0, 0.15);\n",
              "      filter: drop-shadow(0px 1px 2px rgba(0, 0, 0, 0.3));\n",
              "      fill: #FFFFFF;\n",
              "    }\n",
              "  </style>\n",
              "\n",
              "    <script>\n",
              "      const buttonEl =\n",
              "        document.querySelector('#df-d95a9918-cee0-4269-ab93-d6556d0bde00 button.colab-df-convert');\n",
              "      buttonEl.style.display =\n",
              "        google.colab.kernel.accessAllowed ? 'block' : 'none';\n",
              "\n",
              "      async function convertToInteractive(key) {\n",
              "        const element = document.querySelector('#df-d95a9918-cee0-4269-ab93-d6556d0bde00');\n",
              "        const dataTable =\n",
              "          await google.colab.kernel.invokeFunction('convertToInteractive',\n",
              "                                                    [key], {});\n",
              "        if (!dataTable) return;\n",
              "\n",
              "        const docLinkHtml = 'Like what you see? Visit the ' +\n",
              "          '<a target=\"_blank\" href=https://colab.research.google.com/notebooks/data_table.ipynb>data table notebook</a>'\n",
              "          + ' to learn more about interactive tables.';\n",
              "        element.innerHTML = '';\n",
              "        dataTable['output_type'] = 'display_data';\n",
              "        await google.colab.output.renderOutput(dataTable, element);\n",
              "        const docLink = document.createElement('div');\n",
              "        docLink.innerHTML = docLinkHtml;\n",
              "        element.appendChild(docLink);\n",
              "      }\n",
              "    </script>\n",
              "  </div>\n",
              "\n",
              "\n",
              "<div id=\"df-0c1d6f1d-10fd-4ab4-afbb-e9248ddda4af\">\n",
              "  <button class=\"colab-df-quickchart\" onclick=\"quickchart('df-0c1d6f1d-10fd-4ab4-afbb-e9248ddda4af')\"\n",
              "            title=\"Suggest charts.\"\n",
              "            style=\"display:none;\">\n",
              "\n",
              "<svg xmlns=\"http://www.w3.org/2000/svg\" height=\"24px\"viewBox=\"0 0 24 24\"\n",
              "     width=\"24px\">\n",
              "    <g>\n",
              "        <path d=\"M19 3H5c-1.1 0-2 .9-2 2v14c0 1.1.9 2 2 2h14c1.1 0 2-.9 2-2V5c0-1.1-.9-2-2-2zM9 17H7v-7h2v7zm4 0h-2V7h2v10zm4 0h-2v-4h2v4z\"/>\n",
              "    </g>\n",
              "</svg>\n",
              "  </button>\n",
              "\n",
              "<style>\n",
              "  .colab-df-quickchart {\n",
              "    background-color: #E8F0FE;\n",
              "    border: none;\n",
              "    border-radius: 50%;\n",
              "    cursor: pointer;\n",
              "    display: none;\n",
              "    fill: #1967D2;\n",
              "    height: 32px;\n",
              "    padding: 0 0 0 0;\n",
              "    width: 32px;\n",
              "  }\n",
              "\n",
              "  .colab-df-quickchart:hover {\n",
              "    background-color: #E2EBFA;\n",
              "    box-shadow: 0px 1px 2px rgba(60, 64, 67, 0.3), 0px 1px 3px 1px rgba(60, 64, 67, 0.15);\n",
              "    fill: #174EA6;\n",
              "  }\n",
              "\n",
              "  [theme=dark] .colab-df-quickchart {\n",
              "    background-color: #3B4455;\n",
              "    fill: #D2E3FC;\n",
              "  }\n",
              "\n",
              "  [theme=dark] .colab-df-quickchart:hover {\n",
              "    background-color: #434B5C;\n",
              "    box-shadow: 0px 1px 3px 1px rgba(0, 0, 0, 0.15);\n",
              "    filter: drop-shadow(0px 1px 2px rgba(0, 0, 0, 0.3));\n",
              "    fill: #FFFFFF;\n",
              "  }\n",
              "</style>\n",
              "\n",
              "  <script>\n",
              "    async function quickchart(key) {\n",
              "      const charts = await google.colab.kernel.invokeFunction(\n",
              "          'suggestCharts', [key], {});\n",
              "    }\n",
              "    (() => {\n",
              "      let quickchartButtonEl =\n",
              "        document.querySelector('#df-0c1d6f1d-10fd-4ab4-afbb-e9248ddda4af button');\n",
              "      quickchartButtonEl.style.display =\n",
              "        google.colab.kernel.accessAllowed ? 'block' : 'none';\n",
              "    })();\n",
              "  </script>\n",
              "</div>\n",
              "    </div>\n",
              "  </div>\n"
            ]
          },
          "metadata": {},
          "execution_count": 4
        }
      ]
    },
    {
      "cell_type": "code",
      "source": [
        "df.shape"
      ],
      "metadata": {
        "colab": {
          "base_uri": "https://localhost:8080/"
        },
        "id": "d-xWnOz8n9A6",
        "outputId": "98e00d63-3650-40ed-b90c-77f7904db181"
      },
      "execution_count": 5,
      "outputs": [
        {
          "output_type": "execute_result",
          "data": {
            "text/plain": [
              "(4760, 21)"
            ]
          },
          "metadata": {},
          "execution_count": 5
        }
      ]
    },
    {
      "cell_type": "code",
      "source": [
        "df.columns"
      ],
      "metadata": {
        "colab": {
          "base_uri": "https://localhost:8080/"
        },
        "id": "azxYsLWUoE0C",
        "outputId": "7d7072e1-ec98-4d00-bcd4-775720b579f1"
      },
      "execution_count": 6,
      "outputs": [
        {
          "output_type": "execute_result",
          "data": {
            "text/plain": [
              "Index(['Movie_ID', 'Movie_Title', 'Movie_Genre', 'Movie_Language',\n",
              "       'Movie_Budget', 'Movie_Popularity', 'Movie_Release_Date',\n",
              "       'Movie_Revenue', 'Movie_Runtime', 'Movie_Vote', 'Movie_Vote_Count',\n",
              "       'Movie_Homepage', 'Movie_Keywords', 'Movie_Overview',\n",
              "       'Movie_Production_House', 'Movie_Production_Country',\n",
              "       'Movie_Spoken_Language', 'Movie_Tagline', 'Movie_Cast', 'Movie_Crew',\n",
              "       'Movie_Director'],\n",
              "      dtype='object')"
            ]
          },
          "metadata": {},
          "execution_count": 6
        }
      ]
    },
    {
      "cell_type": "code",
      "source": [
        "df_features = df[['Movie_Genre','Movie_Keywords','Movie_Tagline','Movie_Cast','Movie_Director']].fillna('')"
      ],
      "metadata": {
        "id": "vdadbFRioJOu"
      },
      "execution_count": 7,
      "outputs": []
    },
    {
      "cell_type": "code",
      "source": [
        "df_features.shape"
      ],
      "metadata": {
        "colab": {
          "base_uri": "https://localhost:8080/"
        },
        "id": "A7dpNweho1c6",
        "outputId": "8404f270-596c-4e2d-bd03-d25dfc0c62a0"
      },
      "execution_count": 8,
      "outputs": [
        {
          "output_type": "execute_result",
          "data": {
            "text/plain": [
              "(4760, 5)"
            ]
          },
          "metadata": {},
          "execution_count": 8
        }
      ]
    },
    {
      "cell_type": "code",
      "source": [
        "df_features"
      ],
      "metadata": {
        "colab": {
          "base_uri": "https://localhost:8080/",
          "height": 493
        },
        "id": "lzP_fhfzo-FJ",
        "outputId": "6f9cb477-30ca-46ee-d816-58a37138d6b1"
      },
      "execution_count": 9,
      "outputs": [
        {
          "output_type": "execute_result",
          "data": {
            "text/plain": [
              "                           Movie_Genre  \\\n",
              "0                         Crime Comedy   \n",
              "1     Adventure Action Science Fiction   \n",
              "2                     Animation Family   \n",
              "3                 Comedy Drama Romance   \n",
              "4                                Drama   \n",
              "...                                ...   \n",
              "4755                            Horror   \n",
              "4756               Comedy Family Drama   \n",
              "4757                    Thriller Drama   \n",
              "4758                            Family   \n",
              "4759                       Documentary   \n",
              "\n",
              "                                         Movie_Keywords  \\\n",
              "0             hotel new year's eve witch bet hotel room   \n",
              "1           android galaxy hermit death star lightsaber   \n",
              "2     father son relationship harbor underwater fish...   \n",
              "3     vietnam veteran hippie mentally disabled runni...   \n",
              "4     male nudity female nudity adultery midlife cri...   \n",
              "...                                                 ...   \n",
              "4755                                                      \n",
              "4756                                                      \n",
              "4757                     christian film sex trafficking   \n",
              "4758                                                      \n",
              "4759  music actors legendary perfomer classic hollyw...   \n",
              "\n",
              "                                          Movie_Tagline  \\\n",
              "0     Twelve outrageous guests. Four scandalous requ...   \n",
              "1          A long time ago in a galaxy far, far away...   \n",
              "2     There are 3.7 trillion fish in the ocean, they...   \n",
              "3     The world will never be the same, once you've ...   \n",
              "4                                          Look closer.   \n",
              "...                                                 ...   \n",
              "4755                The hot spot where Satan's waitin'.   \n",
              "4756           It’s better to stand out than to fit in.   \n",
              "4757           She never knew it could happen to her...   \n",
              "4758                                                      \n",
              "4759                                                      \n",
              "\n",
              "                                             Movie_Cast     Movie_Director  \n",
              "0     Tim Roth Antonio Banderas Jennifer Beals Madon...     Allison Anders  \n",
              "1     Mark Hamill Harrison Ford Carrie Fisher Peter ...       George Lucas  \n",
              "2     Albert Brooks Ellen DeGeneres Alexander Gould ...     Andrew Stanton  \n",
              "3     Tom Hanks Robin Wright Gary Sinise Mykelti Wil...    Robert Zemeckis  \n",
              "4     Kevin Spacey Annette Bening Thora Birch Wes Be...         Sam Mendes  \n",
              "...                                                 ...                ...  \n",
              "4755  Lisa Hart Carroll Michael Des Barres Paul Drak...         Pece Dingo  \n",
              "4756  Roni Akurati Brighton Sharbino Jason Lee Anjul...       Frank Lotito  \n",
              "4757  Nicole Smolen Kim Baldwin Ariana Stephens Brys...       Jaco Booyens  \n",
              "4758                                                                        \n",
              "4759                                    Tony Oppedisano  Simon Napier-Bell  \n",
              "\n",
              "[4760 rows x 5 columns]"
            ],
            "text/html": [
              "\n",
              "  <div id=\"df-4a9653f5-d73f-4ab5-88d3-8e058f4b48cc\" class=\"colab-df-container\">\n",
              "    <div>\n",
              "<style scoped>\n",
              "    .dataframe tbody tr th:only-of-type {\n",
              "        vertical-align: middle;\n",
              "    }\n",
              "\n",
              "    .dataframe tbody tr th {\n",
              "        vertical-align: top;\n",
              "    }\n",
              "\n",
              "    .dataframe thead th {\n",
              "        text-align: right;\n",
              "    }\n",
              "</style>\n",
              "<table border=\"1\" class=\"dataframe\">\n",
              "  <thead>\n",
              "    <tr style=\"text-align: right;\">\n",
              "      <th></th>\n",
              "      <th>Movie_Genre</th>\n",
              "      <th>Movie_Keywords</th>\n",
              "      <th>Movie_Tagline</th>\n",
              "      <th>Movie_Cast</th>\n",
              "      <th>Movie_Director</th>\n",
              "    </tr>\n",
              "  </thead>\n",
              "  <tbody>\n",
              "    <tr>\n",
              "      <th>0</th>\n",
              "      <td>Crime Comedy</td>\n",
              "      <td>hotel new year's eve witch bet hotel room</td>\n",
              "      <td>Twelve outrageous guests. Four scandalous requ...</td>\n",
              "      <td>Tim Roth Antonio Banderas Jennifer Beals Madon...</td>\n",
              "      <td>Allison Anders</td>\n",
              "    </tr>\n",
              "    <tr>\n",
              "      <th>1</th>\n",
              "      <td>Adventure Action Science Fiction</td>\n",
              "      <td>android galaxy hermit death star lightsaber</td>\n",
              "      <td>A long time ago in a galaxy far, far away...</td>\n",
              "      <td>Mark Hamill Harrison Ford Carrie Fisher Peter ...</td>\n",
              "      <td>George Lucas</td>\n",
              "    </tr>\n",
              "    <tr>\n",
              "      <th>2</th>\n",
              "      <td>Animation Family</td>\n",
              "      <td>father son relationship harbor underwater fish...</td>\n",
              "      <td>There are 3.7 trillion fish in the ocean, they...</td>\n",
              "      <td>Albert Brooks Ellen DeGeneres Alexander Gould ...</td>\n",
              "      <td>Andrew Stanton</td>\n",
              "    </tr>\n",
              "    <tr>\n",
              "      <th>3</th>\n",
              "      <td>Comedy Drama Romance</td>\n",
              "      <td>vietnam veteran hippie mentally disabled runni...</td>\n",
              "      <td>The world will never be the same, once you've ...</td>\n",
              "      <td>Tom Hanks Robin Wright Gary Sinise Mykelti Wil...</td>\n",
              "      <td>Robert Zemeckis</td>\n",
              "    </tr>\n",
              "    <tr>\n",
              "      <th>4</th>\n",
              "      <td>Drama</td>\n",
              "      <td>male nudity female nudity adultery midlife cri...</td>\n",
              "      <td>Look closer.</td>\n",
              "      <td>Kevin Spacey Annette Bening Thora Birch Wes Be...</td>\n",
              "      <td>Sam Mendes</td>\n",
              "    </tr>\n",
              "    <tr>\n",
              "      <th>...</th>\n",
              "      <td>...</td>\n",
              "      <td>...</td>\n",
              "      <td>...</td>\n",
              "      <td>...</td>\n",
              "      <td>...</td>\n",
              "    </tr>\n",
              "    <tr>\n",
              "      <th>4755</th>\n",
              "      <td>Horror</td>\n",
              "      <td></td>\n",
              "      <td>The hot spot where Satan's waitin'.</td>\n",
              "      <td>Lisa Hart Carroll Michael Des Barres Paul Drak...</td>\n",
              "      <td>Pece Dingo</td>\n",
              "    </tr>\n",
              "    <tr>\n",
              "      <th>4756</th>\n",
              "      <td>Comedy Family Drama</td>\n",
              "      <td></td>\n",
              "      <td>It’s better to stand out than to fit in.</td>\n",
              "      <td>Roni Akurati Brighton Sharbino Jason Lee Anjul...</td>\n",
              "      <td>Frank Lotito</td>\n",
              "    </tr>\n",
              "    <tr>\n",
              "      <th>4757</th>\n",
              "      <td>Thriller Drama</td>\n",
              "      <td>christian film sex trafficking</td>\n",
              "      <td>She never knew it could happen to her...</td>\n",
              "      <td>Nicole Smolen Kim Baldwin Ariana Stephens Brys...</td>\n",
              "      <td>Jaco Booyens</td>\n",
              "    </tr>\n",
              "    <tr>\n",
              "      <th>4758</th>\n",
              "      <td>Family</td>\n",
              "      <td></td>\n",
              "      <td></td>\n",
              "      <td></td>\n",
              "      <td></td>\n",
              "    </tr>\n",
              "    <tr>\n",
              "      <th>4759</th>\n",
              "      <td>Documentary</td>\n",
              "      <td>music actors legendary perfomer classic hollyw...</td>\n",
              "      <td></td>\n",
              "      <td>Tony Oppedisano</td>\n",
              "      <td>Simon Napier-Bell</td>\n",
              "    </tr>\n",
              "  </tbody>\n",
              "</table>\n",
              "<p>4760 rows × 5 columns</p>\n",
              "</div>\n",
              "    <div class=\"colab-df-buttons\">\n",
              "\n",
              "  <div class=\"colab-df-container\">\n",
              "    <button class=\"colab-df-convert\" onclick=\"convertToInteractive('df-4a9653f5-d73f-4ab5-88d3-8e058f4b48cc')\"\n",
              "            title=\"Convert this dataframe to an interactive table.\"\n",
              "            style=\"display:none;\">\n",
              "\n",
              "  <svg xmlns=\"http://www.w3.org/2000/svg\" height=\"24px\" viewBox=\"0 -960 960 960\">\n",
              "    <path d=\"M120-120v-720h720v720H120Zm60-500h600v-160H180v160Zm220 220h160v-160H400v160Zm0 220h160v-160H400v160ZM180-400h160v-160H180v160Zm440 0h160v-160H620v160ZM180-180h160v-160H180v160Zm440 0h160v-160H620v160Z\"/>\n",
              "  </svg>\n",
              "    </button>\n",
              "\n",
              "  <style>\n",
              "    .colab-df-container {\n",
              "      display:flex;\n",
              "      gap: 12px;\n",
              "    }\n",
              "\n",
              "    .colab-df-convert {\n",
              "      background-color: #E8F0FE;\n",
              "      border: none;\n",
              "      border-radius: 50%;\n",
              "      cursor: pointer;\n",
              "      display: none;\n",
              "      fill: #1967D2;\n",
              "      height: 32px;\n",
              "      padding: 0 0 0 0;\n",
              "      width: 32px;\n",
              "    }\n",
              "\n",
              "    .colab-df-convert:hover {\n",
              "      background-color: #E2EBFA;\n",
              "      box-shadow: 0px 1px 2px rgba(60, 64, 67, 0.3), 0px 1px 3px 1px rgba(60, 64, 67, 0.15);\n",
              "      fill: #174EA6;\n",
              "    }\n",
              "\n",
              "    .colab-df-buttons div {\n",
              "      margin-bottom: 4px;\n",
              "    }\n",
              "\n",
              "    [theme=dark] .colab-df-convert {\n",
              "      background-color: #3B4455;\n",
              "      fill: #D2E3FC;\n",
              "    }\n",
              "\n",
              "    [theme=dark] .colab-df-convert:hover {\n",
              "      background-color: #434B5C;\n",
              "      box-shadow: 0px 1px 3px 1px rgba(0, 0, 0, 0.15);\n",
              "      filter: drop-shadow(0px 1px 2px rgba(0, 0, 0, 0.3));\n",
              "      fill: #FFFFFF;\n",
              "    }\n",
              "  </style>\n",
              "\n",
              "    <script>\n",
              "      const buttonEl =\n",
              "        document.querySelector('#df-4a9653f5-d73f-4ab5-88d3-8e058f4b48cc button.colab-df-convert');\n",
              "      buttonEl.style.display =\n",
              "        google.colab.kernel.accessAllowed ? 'block' : 'none';\n",
              "\n",
              "      async function convertToInteractive(key) {\n",
              "        const element = document.querySelector('#df-4a9653f5-d73f-4ab5-88d3-8e058f4b48cc');\n",
              "        const dataTable =\n",
              "          await google.colab.kernel.invokeFunction('convertToInteractive',\n",
              "                                                    [key], {});\n",
              "        if (!dataTable) return;\n",
              "\n",
              "        const docLinkHtml = 'Like what you see? Visit the ' +\n",
              "          '<a target=\"_blank\" href=https://colab.research.google.com/notebooks/data_table.ipynb>data table notebook</a>'\n",
              "          + ' to learn more about interactive tables.';\n",
              "        element.innerHTML = '';\n",
              "        dataTable['output_type'] = 'display_data';\n",
              "        await google.colab.output.renderOutput(dataTable, element);\n",
              "        const docLink = document.createElement('div');\n",
              "        docLink.innerHTML = docLinkHtml;\n",
              "        element.appendChild(docLink);\n",
              "      }\n",
              "    </script>\n",
              "  </div>\n",
              "\n",
              "\n",
              "<div id=\"df-060ce663-2d2a-4fa4-a7c0-7a9a192635cf\">\n",
              "  <button class=\"colab-df-quickchart\" onclick=\"quickchart('df-060ce663-2d2a-4fa4-a7c0-7a9a192635cf')\"\n",
              "            title=\"Suggest charts.\"\n",
              "            style=\"display:none;\">\n",
              "\n",
              "<svg xmlns=\"http://www.w3.org/2000/svg\" height=\"24px\"viewBox=\"0 0 24 24\"\n",
              "     width=\"24px\">\n",
              "    <g>\n",
              "        <path d=\"M19 3H5c-1.1 0-2 .9-2 2v14c0 1.1.9 2 2 2h14c1.1 0 2-.9 2-2V5c0-1.1-.9-2-2-2zM9 17H7v-7h2v7zm4 0h-2V7h2v10zm4 0h-2v-4h2v4z\"/>\n",
              "    </g>\n",
              "</svg>\n",
              "  </button>\n",
              "\n",
              "<style>\n",
              "  .colab-df-quickchart {\n",
              "    background-color: #E8F0FE;\n",
              "    border: none;\n",
              "    border-radius: 50%;\n",
              "    cursor: pointer;\n",
              "    display: none;\n",
              "    fill: #1967D2;\n",
              "    height: 32px;\n",
              "    padding: 0 0 0 0;\n",
              "    width: 32px;\n",
              "  }\n",
              "\n",
              "  .colab-df-quickchart:hover {\n",
              "    background-color: #E2EBFA;\n",
              "    box-shadow: 0px 1px 2px rgba(60, 64, 67, 0.3), 0px 1px 3px 1px rgba(60, 64, 67, 0.15);\n",
              "    fill: #174EA6;\n",
              "  }\n",
              "\n",
              "  [theme=dark] .colab-df-quickchart {\n",
              "    background-color: #3B4455;\n",
              "    fill: #D2E3FC;\n",
              "  }\n",
              "\n",
              "  [theme=dark] .colab-df-quickchart:hover {\n",
              "    background-color: #434B5C;\n",
              "    box-shadow: 0px 1px 3px 1px rgba(0, 0, 0, 0.15);\n",
              "    filter: drop-shadow(0px 1px 2px rgba(0, 0, 0, 0.3));\n",
              "    fill: #FFFFFF;\n",
              "  }\n",
              "</style>\n",
              "\n",
              "  <script>\n",
              "    async function quickchart(key) {\n",
              "      const charts = await google.colab.kernel.invokeFunction(\n",
              "          'suggestCharts', [key], {});\n",
              "    }\n",
              "    (() => {\n",
              "      let quickchartButtonEl =\n",
              "        document.querySelector('#df-060ce663-2d2a-4fa4-a7c0-7a9a192635cf button');\n",
              "      quickchartButtonEl.style.display =\n",
              "        google.colab.kernel.accessAllowed ? 'block' : 'none';\n",
              "    })();\n",
              "  </script>\n",
              "</div>\n",
              "    </div>\n",
              "  </div>\n"
            ]
          },
          "metadata": {},
          "execution_count": 9
        }
      ]
    },
    {
      "cell_type": "code",
      "source": [
        "x= df_features['Movie_Genre']+''+df_features['Movie_Tagline']+''+df_features['Movie_Cast']+''+df_features['Movie_Director']"
      ],
      "metadata": {
        "id": "GwLDJTWppBK6"
      },
      "execution_count": 10,
      "outputs": []
    },
    {
      "cell_type": "code",
      "source": [
        "x.shape"
      ],
      "metadata": {
        "colab": {
          "base_uri": "https://localhost:8080/"
        },
        "id": "TKr1ddYRpvVx",
        "outputId": "551e810f-038a-48ea-f66a-a21ef1320f8e"
      },
      "execution_count": 11,
      "outputs": [
        {
          "output_type": "execute_result",
          "data": {
            "text/plain": [
              "(4760,)"
            ]
          },
          "metadata": {},
          "execution_count": 11
        }
      ]
    },
    {
      "cell_type": "code",
      "source": [
        "from sklearn.feature_extraction.text import TfidfVectorizer"
      ],
      "metadata": {
        "id": "WRVpWqYXp1R5"
      },
      "execution_count": 12,
      "outputs": []
    },
    {
      "cell_type": "code",
      "source": [
        "tfidf = TfidfVectorizer()"
      ],
      "metadata": {
        "id": "YYqxgLaqqEmZ"
      },
      "execution_count": 13,
      "outputs": []
    },
    {
      "cell_type": "code",
      "source": [
        "x=tfidf.fit_transform(x)"
      ],
      "metadata": {
        "id": "p1KzWsTVqM3c"
      },
      "execution_count": 14,
      "outputs": []
    },
    {
      "cell_type": "code",
      "source": [
        "x.shape"
      ],
      "metadata": {
        "colab": {
          "base_uri": "https://localhost:8080/"
        },
        "id": "6H81uLKrqU3G",
        "outputId": "4e9a2efc-724b-48f8-cb5f-6b084645edbd"
      },
      "execution_count": 15,
      "outputs": [
        {
          "output_type": "execute_result",
          "data": {
            "text/plain": [
              "(4760, 20773)"
            ]
          },
          "metadata": {},
          "execution_count": 15
        }
      ]
    },
    {
      "cell_type": "code",
      "source": [
        "print(x)"
      ],
      "metadata": {
        "colab": {
          "base_uri": "https://localhost:8080/"
        },
        "id": "4Xf24_3ZqWlU",
        "outputId": "8044e9f7-3d9a-4532-cf54-99426a4316ba"
      },
      "execution_count": 16,
      "outputs": [
        {
          "output_type": "stream",
          "name": "stdout",
          "text": [
            "  (0, 719)\t0.18263837447168998\n",
            "  (0, 18637)\t0.22041896694563817\n",
            "  (0, 12098)\t0.16018675795760728\n",
            "  (0, 11874)\t0.19282316419373013\n",
            "  (0, 1530)\t0.20300795391577028\n",
            "  (0, 9975)\t0.11180202074365972\n",
            "  (0, 1335)\t0.15907018381718277\n",
            "  (0, 860)\t0.15697573934650574\n",
            "  (0, 16039)\t0.16018675795760728\n",
            "  (0, 18572)\t0.12807477123156424\n",
            "  (0, 11371)\t0.11480220901023723\n",
            "  (0, 13828)\t0.08007408504922321\n",
            "  (0, 6280)\t0.18263837447168998\n",
            "  (0, 20536)\t0.15239604387923\n",
            "  (0, 13564)\t0.1300588639282499\n",
            "  (0, 20157)\t0.1974028596610059\n",
            "  (0, 7244)\t0.0988379748291519\n",
            "  (0, 20115)\t0.12594220059800715\n",
            "  (0, 10048)\t0.16818592785603456\n",
            "  (0, 18108)\t0.12453278004185604\n",
            "  (0, 13911)\t0.10838557103189954\n",
            "  (0, 4620)\t0.13671804775849378\n",
            "  (0, 7128)\t0.14111896110338787\n",
            "  (0, 9045)\t0.22704631670295972\n",
            "  (0, 9632)\t0.18253328031064325\n",
            "  :\t:\n",
            "  (4756, 3517)\t0.07371153418700764\n",
            "  (4756, 9632)\t0.11380075573308818\n",
            "  (4757, 2122)\t0.3070308854517143\n",
            "  (4757, 7500)\t0.3070308854517143\n",
            "  (4757, 2472)\t0.3070308854517143\n",
            "  (4757, 932)\t0.3070308854517143\n",
            "  (4757, 17158)\t0.3070308854517143\n",
            "  (4757, 17501)\t0.27497077784312024\n",
            "  (4757, 1303)\t0.20789954915328918\n",
            "  (4757, 4021)\t0.21227888389077768\n",
            "  (4757, 8512)\t0.23215208431960302\n",
            "  (4757, 5624)\t0.2585258151190865\n",
            "  (4757, 13615)\t0.20309901743695805\n",
            "  (4757, 10716)\t0.2507182426768063\n",
            "  (4757, 8883)\t0.18631922907444445\n",
            "  (4757, 10610)\t0.191070790856661\n",
            "  (4757, 18214)\t0.11752688232984108\n",
            "  (4757, 18604)\t0.10682551476325972\n",
            "  (4757, 9770)\t0.1335084076533487\n",
            "  (4757, 13560)\t0.1601749352427589\n",
            "  (4758, 6444)\t1.0\n",
            "  (4759, 13938)\t0.5540056858546029\n",
            "  (4759, 5141)\t0.5540056858546029\n",
            "  (4759, 13430)\t0.5102444780570257\n",
            "  (4759, 1650)\t0.3546913766838091\n"
          ]
        }
      ]
    },
    {
      "cell_type": "code",
      "source": [
        "from sklearn.metrics.pairwise import cosine_similarity"
      ],
      "metadata": {
        "id": "cpifsWo6qYOi"
      },
      "execution_count": 17,
      "outputs": []
    },
    {
      "cell_type": "code",
      "source": [
        "Similarity_Score=cosine_similarity(x)"
      ],
      "metadata": {
        "id": "E1lYffcpqoir"
      },
      "execution_count": 18,
      "outputs": []
    },
    {
      "cell_type": "code",
      "source": [
        "Similarity_Score"
      ],
      "metadata": {
        "colab": {
          "base_uri": "https://localhost:8080/"
        },
        "id": "mi5Wzyyeq27Y",
        "outputId": "79f307e9-ca8f-439d-bee4-216415f2aab3"
      },
      "execution_count": 19,
      "outputs": [
        {
          "output_type": "execute_result",
          "data": {
            "text/plain": [
              "array([[1.        , 0.0217708 , 0.05725531, ..., 0.        , 0.        ,\n",
              "        0.        ],\n",
              "       [0.0217708 , 1.        , 0.01398507, ..., 0.        , 0.        ,\n",
              "        0.        ],\n",
              "       [0.05725531, 0.01398507, 1.        , ..., 0.        , 0.        ,\n",
              "        0.        ],\n",
              "       ...,\n",
              "       [0.        , 0.        , 0.        , ..., 1.        , 0.        ,\n",
              "        0.        ],\n",
              "       [0.        , 0.        , 0.        , ..., 0.        , 1.        ,\n",
              "        0.        ],\n",
              "       [0.        , 0.        , 0.        , ..., 0.        , 0.        ,\n",
              "        1.        ]])"
            ]
          },
          "metadata": {},
          "execution_count": 19
        }
      ]
    },
    {
      "cell_type": "code",
      "source": [
        "Similarity_Score.shape"
      ],
      "metadata": {
        "colab": {
          "base_uri": "https://localhost:8080/"
        },
        "id": "7WlWW4ZTq6ZY",
        "outputId": "7f549442-80cb-4d52-cffc-5a79bc144fe6"
      },
      "execution_count": 20,
      "outputs": [
        {
          "output_type": "execute_result",
          "data": {
            "text/plain": [
              "(4760, 4760)"
            ]
          },
          "metadata": {},
          "execution_count": 20
        }
      ]
    },
    {
      "cell_type": "code",
      "source": [
        "Favourite_Movie_Name=input('enter youre favourite movie name:')"
      ],
      "metadata": {
        "colab": {
          "base_uri": "https://localhost:8080/"
        },
        "id": "604fEuAmq_rM",
        "outputId": "1dcba0de-5d36-4bb0-f3cb-443431a18032"
      },
      "execution_count": 43,
      "outputs": [
        {
          "name": "stdout",
          "output_type": "stream",
          "text": [
            "enter youre favourite movie name:The Boy Next Door\n"
          ]
        }
      ]
    },
    {
      "cell_type": "code",
      "source": [
        "All_Movies_Title_List=df['Movie_Title'].tolist()"
      ],
      "metadata": {
        "id": "bWwIcEvCrdOq"
      },
      "execution_count": 24,
      "outputs": []
    },
    {
      "cell_type": "code",
      "source": [
        "import difflib"
      ],
      "metadata": {
        "id": "2PzQ4wcusTfG"
      },
      "execution_count": 25,
      "outputs": []
    },
    {
      "cell_type": "code",
      "source": [
        "Movie_Recommendation=difflib.get_close_matches(Favourite_Movie_Name,All_Movies_Title_List)\n",
        "print(Movie_Recommendation)"
      ],
      "metadata": {
        "colab": {
          "base_uri": "https://localhost:8080/"
        },
        "id": "Xrm34w1zsYH8",
        "outputId": "5b82a52c-eb2c-4e6a-a1e7-28bdbdba723a"
      },
      "execution_count": 44,
      "outputs": [
        {
          "output_type": "stream",
          "name": "stdout",
          "text": [
            "['The Boy Next Door', 'The Spy Next Door', 'The Girl Next Door']\n"
          ]
        }
      ]
    },
    {
      "cell_type": "code",
      "source": [
        "Close_Match=Movie_Recommendation[0]\n",
        "print(Close_Match)"
      ],
      "metadata": {
        "colab": {
          "base_uri": "https://localhost:8080/"
        },
        "id": "Bzn_ETe5s3vS",
        "outputId": "ced943a2-006a-4a51-c1e0-b0b0643d2a1a"
      },
      "execution_count": 45,
      "outputs": [
        {
          "output_type": "stream",
          "name": "stdout",
          "text": [
            "The Boy Next Door\n"
          ]
        }
      ]
    },
    {
      "cell_type": "code",
      "source": [
        "Index_of_close_Match_Movie= df[df.Movie_Title==Close_Match]['Movie_ID'].values[0]\n",
        "print(Index_of_close_Match_Movie)"
      ],
      "metadata": {
        "colab": {
          "base_uri": "https://localhost:8080/"
        },
        "id": "bcC_SkJetk9n",
        "outputId": "6ee66242-e35c-45f1-b949-cadad0c69283"
      },
      "execution_count": 46,
      "outputs": [
        {
          "output_type": "stream",
          "name": "stdout",
          "text": [
            "4387\n"
          ]
        }
      ]
    },
    {
      "cell_type": "code",
      "source": [
        "Recommendation_Score=list(enumerate(Similarity_Score[Index_of_close_Match_Movie]))\n",
        "print(Recommendation_Score)"
      ],
      "metadata": {
        "colab": {
          "base_uri": "https://localhost:8080/"
        },
        "id": "yLcMQwPouQBK",
        "outputId": "a75195f3-059f-4b00-88cd-8d9b442c8a66"
      },
      "execution_count": 47,
      "outputs": [
        {
          "output_type": "stream",
          "name": "stdout",
          "text": [
            "[(0, 0.0097362115761412), (1, 0.0), (2, 0.0), (3, 0.004968907295604818), (4, 0.0262474337750479), (5, 0.01910824457476542), (6, 0.0), (7, 0.00412643397970356), (8, 0.0066480674547670085), (9, 0.0), (10, 0.0), (11, 0.058907785597904314), (12, 0.006465573970815134), (13, 0.0), (14, 0.0), (15, 0.005081138855509416), (16, 0.004742804748781449), (17, 0.0293733121426406), (18, 0.005299939299950159), (19, 0.005782814150625345), (20, 0.0), (21, 0.021441142762409486), (22, 0.0), (23, 0.006181430596625102), (24, 0.0), (25, 0.004701662656585937), (26, 0.0), (27, 0.0), (28, 0.0), (29, 0.005402876044721235), (30, 0.0), (31, 0.00546434326254283), (32, 0.005061915821017384), (33, 0.004844546217931876), (34, 0.006171377143306484), (35, 0.0), (36, 0.0), (37, 0.0), (38, 0.0), (39, 0.0), (40, 0.0), (41, 0.006619635804883469), (42, 0.0), (43, 0.05692974602973108), (44, 0.004696057561258848), (45, 0.0), (46, 0.025363899226413432), (47, 0.0), (48, 0.05534310887745109), (49, 0.0), (50, 0.0), (51, 0.020943132076333512), (52, 0.04547733204944711), (53, 0.0), (54, 0.0), (55, 0.0), (56, 0.0), (57, 0.0), (58, 0.0), (59, 0.0), (60, 0.02924111815627462), (61, 0.09693740291507605), (62, 0.057659884879572375), (63, 0.004694369938936289), (64, 0.0), (65, 0.0), (66, 0.029169659982047992), (67, 0.0), (68, 0.02166466890752839), (69, 0.0), (70, 0.0), (71, 0.006033276563785109), (72, 0.0), (73, 0.0), (74, 0.06762537739820634), (75, 0.0), (76, 0.019618790606246102), (77, 0.0), (78, 0.03229247686693335), (79, 0.005822329002325709), (80, 0.03153230728407489), (81, 0.0), (82, 0.0), (83, 0.04649640303203152), (84, 0.0), (85, 0.018336595086157044), (86, 0.011065152617669171), (87, 0.019290781796675215), (88, 0.04758721476461443), (89, 0.014682475914024645), (90, 0.0), (91, 0.0), (92, 0.00515497128819758), (93, 0.0), (94, 0.029429715830941026), (95, 0.0), (96, 0.005385380486445199), (97, 0.005185165145866553), (98, 0.0), (99, 0.0), (100, 0.0), (101, 0.0), (102, 0.0), (103, 0.0052097535609243704), (104, 0.0056416428888354676), (105, 0.012836730845331603), (106, 0.010622213918199896), (107, 0.006846562229575279), (108, 0.009317422646339583), (109, 0.0059772517489111955), (110, 0.0), (111, 0.0052702450062767255), (112, 0.018911802885890727), (113, 0.004718446152744363), (114, 0.005768406215626861), (115, 0.0), (116, 0.006172289076241584), (117, 0.0), (118, 0.0), (119, 0.006222900355681219), (120, 0.023036214313681518), (121, 0.005020303460774529), (122, 0.0), (123, 0.01528995376388853), (124, 0.016538043090130114), (125, 0.03257082250733242), (126, 0.00530522522760706), (127, 0.005453406649306368), (128, 0.0), (129, 0.00378447592542648), (130, 0.0), (131, 0.0), (132, 0.005215531743323078), (133, 0.0), (134, 0.0), (135, 0.0), (136, 0.005714895031694379), (137, 0.014136036347926751), (138, 0.0), (139, 0.0), (140, 0.0), (141, 0.0), (142, 0.004578621703020294), (143, 0.0), (144, 0.013109758699256223), (145, 0.025944763500675636), (146, 0.0), (147, 0.04043803851712291), (148, 0.01167954626268437), (149, 0.01704617110321497), (150, 0.0), (151, 0.0), (152, 0.0), (153, 0.0), (154, 0.0), (155, 0.0), (156, 0.004551583071371871), (157, 0.0), (158, 0.0), (159, 0.0), (160, 0.0), (161, 0.00505284106327396), (162, 0.0), (163, 0.027785714470984126), (164, 0.0), (165, 0.004805728370821414), (166, 0.029395227904058054), (167, 0.0), (168, 0.0), (169, 0.005898507277007206), (170, 0.04282284917879667), (171, 0.0), (172, 0.013882503498285233), (173, 0.03395489147506035), (174, 0.006301446573181171), (175, 0.0), (176, 0.0), (177, 0.0), (178, 0.005871888682088561), (179, 0.0), (180, 0.015408173169166367), (181, 0.014455200299945738), (182, 0.028251113709599145), (183, 0.005104496591103586), (184, 0.0051941257724607524), (185, 0.0), (186, 0.0), (187, 0.0), (188, 0.0), (189, 0.049455645171362014), (190, 0.004726682268709118), (191, 0.0), (192, 0.006200930424908783), (193, 0.005827265941123027), (194, 0.005350831297805308), (195, 0.004843569002062778), (196, 0.0), (197, 0.005526064826391129), (198, 0.05910260290359686), (199, 0.017845037762968183), (200, 0.005496579310224098), (201, 0.014506912247274158), (202, 0.0035441086869237534), (203, 0.0), (204, 0.006019102127594864), (205, 0.0), (206, 0.006523320857949492), (207, 0.015872776664149463), (208, 0.006856961087123175), (209, 0.013666245482415147), (210, 0.02018912236089761), (211, 0.0), (212, 0.0), (213, 0.0), (214, 0.021409963448212745), (215, 0.0055034309568998754), (216, 0.045095056915320696), (217, 0.0), (218, 0.0049853054036455196), (219, 0.0), (220, 0.03307739979488494), (221, 0.005299776129267608), (222, 0.030383259317879788), (223, 0.0), (224, 0.004414693629152705), (225, 0.0), (226, 0.02307946562735691), (227, 0.006530577770891976), (228, 0.004082977824177866), (229, 0.0), (230, 0.0), (231, 0.0), (232, 0.0), (233, 0.0), (234, 0.0), (235, 0.11789284896921698), (236, 0.017085380783244536), (237, 0.0), (238, 0.005682184521722124), (239, 0.0), (240, 0.0), (241, 0.0), (242, 0.025482277756703205), (243, 0.004109464400826838), (244, 0.015213774746049194), (245, 0.0), (246, 0.0), (247, 0.0), (248, 0.0), (249, 0.0), (250, 0.0), (251, 0.01707017052161611), (252, 0.005536253844285047), (253, 0.0), (254, 0.01592533829802029), (255, 0.006034506334854131), (256, 0.004291713023906192), (257, 0.0), (258, 0.027185623704097234), (259, 0.0), (260, 0.0), (261, 0.0), (262, 0.0), (263, 0.0), (264, 0.0), (265, 0.0), (266, 0.05186189337172043), (267, 0.004912368224236329), (268, 0.0), (269, 0.004847889161616426), (270, 0.04470260334013732), (271, 0.022562426196995045), (272, 0.0), (273, 0.0), (274, 0.006569690373179864), (275, 0.0), (276, 0.04283472928366391), (277, 0.0), (278, 0.0), (279, 0.0), (280, 0.006429658811755729), (281, 0.016677858386692244), (282, 0.005448634212981461), (283, 0.003763457286498428), (284, 0.0), (285, 0.012160032447266133), (286, 0.005100074210838373), (287, 0.012742286552365966), (288, 0.0), (289, 0.0), (290, 0.0), (291, 0.0), (292, 0.07592136481893672), (293, 0.0), (294, 0.0), (295, 0.0), (296, 0.0042644896520219865), (297, 0.0), (298, 0.0), (299, 0.0), (300, 0.0), (301, 0.0), (302, 0.0), (303, 0.0), (304, 0.0), (305, 0.029994166424408202), (306, 0.02759364546807326), (307, 0.005300410493943835), (308, 0.0), (309, 0.004536001975267018), (310, 0.0), (311, 0.0), (312, 0.0), (313, 0.0), (314, 0.0), (315, 0.0), (316, 0.0), (317, 0.005338917560241396), (318, 0.006690532549181991), (319, 0.0), (320, 0.0), (321, 0.0), (322, 0.0), (323, 0.0), (324, 0.0), (325, 0.0057195407412248735), (326, 0.006980674642930272), (327, 0.0), (328, 0.0), (329, 0.0), (330, 0.0037422283049506275), (331, 0.0), (332, 0.0), (333, 0.012957400126874404), (334, 0.0), (335, 0.0), (336, 0.025462495555945222), (337, 0.0), (338, 0.0), (339, 0.0), (340, 0.0), (341, 0.0), (342, 0.005937174047799441), (343, 0.005914773057948544), (344, 0.0), (345, 0.050095926268378915), (346, 0.0), (347, 0.0), (348, 0.005820299651024094), (349, 0.005788924868787151), (350, 0.006428887101448282), (351, 0.004281672194112218), (352, 0.0), (353, 0.005890578440502435), (354, 0.0), (355, 0.005145338253719953), (356, 0.005359687142578869), (357, 0.005025361933537059), (358, 0.005583506842774406), (359, 0.005806783650955711), (360, 0.03788824404271117), (361, 0.0), (362, 0.0), (363, 0.0), (364, 0.0049664933593278355), (365, 0.0), (366, 0.027806737906142978), (367, 0.0), (368, 0.015540114901217832), (369, 0.009927771092138623), (370, 0.04533168190503262), (371, 0.05967133762745833), (372, 0.005619060466695231), (373, 0.005666188344653227), (374, 0.005462396841054301), (375, 0.0), (376, 0.0), (377, 0.0), (378, 0.0), (379, 0.0), (380, 0.0), (381, 0.0), (382, 0.0), (383, 0.0), (384, 0.0), (385, 0.01507753135746833), (386, 0.0), (387, 0.006556734688233896), (388, 0.005148234249761028), (389, 0.0), (390, 0.0), (391, 0.0), (392, 0.0), (393, 0.0), (394, 0.0), (395, 0.0), (396, 0.012414214118361735), (397, 0.0), (398, 0.0), (399, 0.0), (400, 0.00575716583984629), (401, 0.0), (402, 0.061475473313234615), (403, 0.005057422102045288), (404, 0.0), (405, 0.0), (406, 0.005860692819033454), (407, 0.004357725855846129), (408, 0.13955155194334715), (409, 0.0), (410, 0.005676960031187081), (411, 0.0), (412, 0.0), (413, 0.0), (414, 0.0), (415, 0.0), (416, 0.005647507129037259), (417, 0.12452402010129435), (418, 0.16264707753148328), (419, 0.006688901385672144), (420, 0.032366580390817495), (421, 0.0), (422, 0.0), (423, 0.0), (424, 0.0), (425, 0.0), (426, 0.02671713316753442), (427, 0.026156136147933405), (428, 0.005152003752758437), (429, 0.019373145416069583), (430, 0.005993399510284326), (431, 0.006729077541597811), (432, 0.0), (433, 0.004469422627616324), (434, 0.017020979779132542), (435, 0.010859859159089855), (436, 0.0065379228379101925), (437, 0.0059415728538016735), (438, 0.0), (439, 0.0), (440, 0.03860375566077232), (441, 0.034341850459060574), (442, 0.03152157125083423), (443, 0.00633589832291018), (444, 0.0), (445, 0.0), (446, 0.0), (447, 0.013430440484751956), (448, 0.006917796354388295), (449, 0.0), (450, 0.019921258147809474), (451, 0.0), (452, 0.004412959322946631), (453, 0.004442778534185203), (454, 0.0), (455, 0.017789677179012184), (456, 0.05066362048001639), (457, 0.004905530145785325), (458, 0.07333219661360865), (459, 0.0), (460, 0.0), (461, 0.029653116678834752), (462, 0.0), (463, 0.005333230152035304), (464, 0.005508346326175), (465, 0.005518385768335117), (466, 0.0), (467, 0.027342487471085412), (468, 0.0), (469, 0.0), (470, 0.005909796274850541), (471, 0.0053581301519279876), (472, 0.006085937714058627), (473, 0.0), (474, 0.0), (475, 0.0017939988939435845), (476, 0.0), (477, 0.0), (478, 0.0), (479, 0.01948779322163358), (480, 0.0048382432578935675), (481, 0.0058497917802409925), (482, 0.0067099032034151004), (483, 0.013541289066588873), (484, 0.0), (485, 0.014259088609049834), (486, 0.0), (487, 0.0), (488, 0.005882257037291496), (489, 0.0), (490, 0.005320796948675067), (491, 0.029618438940519038), (492, 0.0), (493, 0.00620220033992732), (494, 0.013304125737669344), (495, 0.049645827759408116), (496, 0.0049309136599750385), (497, 0.0), (498, 0.0), (499, 0.0), (500, 0.012227280614115578), (501, 0.011563778376823545), (502, 0.02090873975316656), (503, 0.0), (504, 0.0059628853289172435), (505, 0.0), (506, 0.0), (507, 0.0), (508, 0.0), (509, 0.031520335540268465), (510, 0.004211732346517819), (511, 0.0), (512, 0.033176764711497934), (513, 0.0), (514, 0.0), (515, 0.019066539921685933), (516, 0.0), (517, 0.0), (518, 0.0), (519, 0.0051255120911969055), (520, 0.0), (521, 0.0), (522, 0.005458234502544924), (523, 0.0), (524, 0.0), (525, 0.0), (526, 0.0), (527, 0.0), (528, 0.0), (529, 0.0), (530, 0.012796322324989286), (531, 0.0), (532, 0.0), (533, 0.02270975362316893), (534, 0.020893937508760584), (535, 0.0), (536, 0.0), (537, 0.0), (538, 0.0), (539, 0.0), (540, 0.0), (541, 0.0), (542, 0.0128830382876787), (543, 0.048613951671509475), (544, 0.014386072642314405), (545, 0.0), (546, 0.0), (547, 0.01566731971281614), (548, 0.0), (549, 0.0), (550, 0.0), (551, 0.006062469706391879), (552, 0.0), (553, 0.032985520132217554), (554, 0.0), (555, 0.0), (556, 0.0), (557, 0.0), (558, 0.027416991894908115), (559, 0.0), (560, 0.0), (561, 0.0), (562, 0.0317828671981781), (563, 0.00490297256932192), (564, 0.006803220560056034), (565, 0.0), (566, 0.016742230281691958), (567, 0.0), (568, 0.0), (569, 0.0), (570, 0.0), (571, 0.004430932175868501), (572, 0.0), (573, 0.0), (574, 0.0), (575, 0.0), (576, 0.0068959088518653535), (577, 0.0), (578, 0.005541918980970571), (579, 0.005610210855149956), (580, 0.005969010880337623), (581, 0.0), (582, 0.06069963920330828), (583, 0.0), (584, 0.01950352858611716), (585, 0.0), (586, 0.0), (587, 0.006079814495383221), (588, 0.0061420429606901415), (589, 0.004993545115403645), (590, 0.0727811947258573), (591, 0.0), (592, 0.024550458601040544), (593, 0.0), (594, 0.005708833192397037), (595, 0.0), (596, 0.007223928741795846), (597, 0.0), (598, 0.005881504620997325), (599, 0.0), (600, 0.0), (601, 0.0), (602, 0.0), (603, 0.0), (604, 0.005581429662012298), (605, 0.004930731838556788), (606, 0.005738199632864249), (607, 0.004256171242842009), (608, 0.005264571166520957), (609, 0.0043596042648230944), (610, 0.0), (611, 0.004882892413591412), (612, 0.005665329584484096), (613, 0.0), (614, 0.006828634373647013), (615, 0.0), (616, 0.004527185630649473), (617, 0.005041811720651793), (618, 0.0), (619, 0.0), (620, 0.0), (621, 0.0), (622, 0.06455346558186209), (623, 0.0059518456702809435), (624, 0.0), (625, 0.0), (626, 0.004517428208161711), (627, 0.009091200109648402), (628, 0.006594520267807935), (629, 0.011720446022383136), (630, 0.0), (631, 0.0), (632, 0.0), (633, 0.026172340705560338), (634, 0.0), (635, 0.0), (636, 0.07592495284899746), (637, 0.005549490074302223), (638, 0.005107889690418806), (639, 0.0), (640, 0.0), (641, 0.004046389656913175), (642, 0.005094340626119163), (643, 0.01718654388738012), (644, 0.005581049665094108), (645, 0.0), (646, 0.0), (647, 0.0), (648, 0.0), (649, 0.0), (650, 0.0), (651, 0.005460751059883164), (652, 0.03156017174783566), (653, 0.04482423154898593), (654, 0.014244424520331872), (655, 0.0051258969577915705), (656, 0.0), (657, 0.004889147470141562), (658, 0.023571153938330192), (659, 0.0052508405887501716), (660, 0.005588305373246721), (661, 0.0), (662, 0.0), (663, 0.0), (664, 0.021727446824375895), (665, 0.0), (666, 0.0), (667, 0.01575546140258405), (668, 0.05606799171854847), (669, 0.04518564075307675), (670, 0.006175562663447751), (671, 0.0), (672, 0.005030540264650415), (673, 0.005903123921452274), (674, 0.0), (675, 0.014451812973951234), (676, 0.039556698851072665), (677, 0.0), (678, 0.022942156252113897), (679, 0.0), (680, 0.0), (681, 0.0), (682, 0.013887857587165351), (683, 0.015147699721018868), (684, 0.013896114199154696), (685, 0.031515116896497906), (686, 0.0), (687, 0.0), (688, 0.006568787570874929), (689, 0.03564689757567911), (690, 0.09646545960324196), (691, 0.0), (692, 0.011213845124805298), (693, 0.005620878029461179), (694, 0.0), (695, 0.01210175789742148), (696, 0.030759748154058117), (697, 0.006287118591088489), (698, 0.049359875397045325), (699, 0.0), (700, 0.0), (701, 0.021519170948409903), (702, 0.0), (703, 0.005477085105218313), (704, 0.0), (705, 0.04098332264717129), (706, 0.0), (707, 0.004962411444672007), (708, 0.02287151210575895), (709, 0.0), (710, 0.0), (711, 0.025201608216019758), (712, 0.00581521059372022), (713, 0.0), (714, 0.0), (715, 0.0), (716, 0.006162212239027433), (717, 0.0), (718, 0.025292025964971633), (719, 0.004322643985373432), (720, 0.0), (721, 0.0063917718331378175), (722, 0.005143930356375261), (723, 0.0), (724, 0.0), (725, 0.0), (726, 0.0), (727, 0.00562203661660851), (728, 0.005957973013195122), (729, 0.00625464123175363), (730, 0.0), (731, 0.0), (732, 0.004891678846839139), (733, 0.016485989632458252), (734, 0.005515590666678242), (735, 0.007210087932646356), (736, 0.0), (737, 0.0), (738, 0.0227633165080706), (739, 0.00652751268174542), (740, 0.0), (741, 0.03432254916146884), (742, 0.005765021924963218), (743, 0.005796698146571524), (744, 0.005254707616875311), (745, 0.0), (746, 0.02437708230363093), (747, 0.0), (748, 0.0), (749, 0.0057167636544398215), (750, 0.005403808285720945), (751, 0.0), (752, 0.0), (753, 0.015235514583130527), (754, 0.0), (755, 0.006498302410903459), (756, 0.0), (757, 0.010160293313910346), (758, 0.0), (759, 0.0), (760, 0.014971075476103678), (761, 0.005696071554332157), (762, 0.0), (763, 0.0), (764, 0.0), (765, 0.03372829002218049), (766, 0.0), (767, 0.0), (768, 0.0), (769, 0.005841668937657194), (770, 0.0), (771, 0.0), (772, 0.0), (773, 0.0), (774, 0.005891103594007292), (775, 0.0), (776, 0.0), (777, 0.0), (778, 0.0), (779, 0.0), (780, 0.0), (781, 0.0), (782, 0.0), (783, 0.005463967422329395), (784, 0.0), (785, 0.0), (786, 0.0), (787, 0.0032709167236530837), (788, 0.004935166381876315), (789, 0.0), (790, 0.013679080464116599), (791, 0.0), (792, 0.0061309061030604545), (793, 0.0), (794, 0.006034306388608655), (795, 0.02726626306399476), (796, 0.004667039374568331), (797, 0.0), (798, 0.0054978593195861535), (799, 0.019303998785360335), (800, 0.004968429173565092), (801, 0.012621041813412151), (802, 0.0), (803, 0.0), (804, 0.07057011979065979), (805, 0.0), (806, 0.01803795922778337), (807, 0.0), (808, 0.0046883258175235915), (809, 0.12485089165711391), (810, 0.0), (811, 0.0), (812, 0.0), (813, 0.006270771135084058), (814, 0.0), (815, 0.00518538442238813), (816, 0.016466257162320204), (817, 0.0), (818, 0.00560458835623983), (819, 0.0), (820, 0.0), (821, 0.0), (822, 0.0), (823, 0.0), (824, 0.003922590562031552), (825, 0.0), (826, 0.006020798980367374), (827, 0.012610575476938776), (828, 0.014698958811262007), (829, 0.015242768725908915), (830, 0.005889936837045709), (831, 0.02025127607819828), (832, 0.03414618368499598), (833, 0.012578061223725982), (834, 0.0), (835, 0.0), (836, 0.0), (837, 0.0), (838, 0.005605241253846327), (839, 0.0), (840, 0.025329161131437822), (841, 0.0), (842, 0.048795698756053024), (843, 0.00473638854553626), (844, 0.006281761830411658), (845, 0.0), (846, 0.0), (847, 0.006213138059405306), (848, 0.0), (849, 0.0), (850, 0.005755632319276408), (851, 0.005246323583071037), (852, 0.005781612406780364), (853, 0.009708574950741141), (854, 0.00578595448215115), (855, 0.0), (856, 0.005158934565246268), (857, 0.006286480419170462), (858, 0.003898408081506986), (859, 0.0), (860, 0.02350007670621254), (861, 0.004315548814226713), (862, 0.0), (863, 0.0), (864, 0.0893924901930268), (865, 0.006160989888671435), (866, 0.018388749068445218), (867, 0.005770492378719545), (868, 0.0), (869, 0.012925799122478068), (870, 0.018720147745859273), (871, 0.00610883582936671), (872, 0.006196522691010251), (873, 0.0), (874, 0.01180471791871851), (875, 0.0), (876, 0.007156705751777069), (877, 0.0), (878, 0.051734832692175395), (879, 0.019644504190028802), (880, 0.005377999948358262), (881, 0.0), (882, 0.0), (883, 0.0), (884, 0.0), (885, 0.0), (886, 0.00557574663369803), (887, 0.0), (888, 0.005251703409388544), (889, 0.0), (890, 0.0), (891, 0.0), (892, 0.0), (893, 0.0), (894, 0.005930495612170655), (895, 0.0), (896, 0.020534270266913714), (897, 0.005891210055411877), (898, 0.03154690146357054), (899, 0.03468596611463281), (900, 0.04810254999964596), (901, 0.0), (902, 0.0), (903, 0.005806747244962201), (904, 0.04757585032309287), (905, 0.013520444719375949), (906, 0.0), (907, 0.031355738674465464), (908, 0.01385566805114794), (909, 0.0), (910, 0.09512327834300363), (911, 0.0), (912, 0.0), (913, 0.0), (914, 0.03186549192762829), (915, 0.012066595164049822), (916, 0.04034327575436507), (917, 0.0), (918, 0.013492997122274456), (919, 0.0), (920, 0.0), (921, 0.0), (922, 0.0), (923, 0.005407905014541715), (924, 0.004947322491300386), (925, 0.006113920429061026), (926, 0.0), (927, 0.0), (928, 0.0), (929, 0.0042112223217043885), (930, 0.03610318550683782), (931, 0.014547931412780275), (932, 0.0), (933, 0.0), (934, 0.005136937867164416), (935, 0.0), (936, 0.005105490033300055), (937, 0.02425945214707118), (938, 0.0), (939, 0.01164294181384897), (940, 0.004025211330145961), (941, 0.0), (942, 0.015292853297118218), (943, 0.0), (944, 0.005620047686616912), (945, 0.0), (946, 0.0), (947, 0.023874903933412836), (948, 0.015587419259965202), (949, 0.0), (950, 0.0), (951, 0.005086509851349169), (952, 0.005407175606851766), (953, 0.004416723515851488), (954, 0.0), (955, 0.0), (956, 0.0), (957, 0.004797557868588024), (958, 0.0), (959, 0.02779795169346824), (960, 0.0), (961, 0.0), (962, 0.027160167110409493), (963, 0.005552013790321784), (964, 0.0), (965, 0.0), (966, 0.006066521998313877), (967, 0.005642125760821275), (968, 0.004838488025658056), (969, 0.005602909599245826), (970, 0.0), (971, 0.0), (972, 0.0), (973, 0.0), (974, 0.0), (975, 0.005268623719053659), (976, 0.014957892431023117), (977, 0.0), (978, 0.0), (979, 0.0), (980, 0.005951047459058872), (981, 0.11941148804989306), (982, 0.0), (983, 0.0), (984, 0.03264804619845872), (985, 0.0064746463210756345), (986, 0.01903756866422813), (987, 0.0), (988, 0.018595820467130438), (989, 0.021056733184571328), (990, 0.0), (991, 0.005427988927567796), (992, 0.0), (993, 0.0), (994, 0.014653014532644266), (995, 0.022710979439856397), (996, 0.0), (997, 0.0), (998, 0.03541468446984725), (999, 0.006993093624956259), (1000, 0.019606983281599148), (1001, 0.005606340172772252), (1002, 0.00561624259557284), (1003, 0.0), (1004, 0.022364944635755328), (1005, 0.004652473748741376), (1006, 0.0064455580888879635), (1007, 0.005844930210261289), (1008, 0.0), (1009, 0.05131888473255677), (1010, 0.0), (1011, 0.028530441275220548), (1012, 0.0), (1013, 0.0), (1014, 0.0), (1015, 0.005776340232668216), (1016, 0.0), (1017, 0.005610798915999596), (1018, 0.011850233428441607), (1019, 0.0), (1020, 0.006230706124863195), (1021, 0.00593898311892032), (1022, 0.0), (1023, 0.0056727894060410655), (1024, 0.01422090137562757), (1025, 0.03453447536188147), (1026, 0.005454464223281885), (1027, 0.005691980913980458), (1028, 0.0), (1029, 0.0), (1030, 0.0055443488625261), (1031, 0.0), (1032, 0.0), (1033, 0.0), (1034, 0.006068660870895437), (1035, 0.018589578293855578), (1036, 0.0), (1037, 0.0), (1038, 0.0), (1039, 0.0), (1040, 0.004900939860855903), (1041, 0.005471034967412791), (1042, 0.0), (1043, 0.0), (1044, 0.005898883998329017), (1045, 0.0), (1046, 0.0), (1047, 0.11179805423382175), (1048, 0.0), (1049, 0.006611788441539627), (1050, 0.018170949145184162), (1051, 0.0), (1052, 0.005188720312654602), (1053, 0.024610734505243134), (1054, 0.0), (1055, 0.0), (1056, 0.0), (1057, 0.0), (1058, 0.041414488740285665), (1059, 0.0), (1060, 0.0057857787528591345), (1061, 0.03591628075028003), (1062, 0.0), (1063, 0.013273735621978732), (1064, 0.052416051618858164), (1065, 0.005172719499146407), (1066, 0.0), (1067, 0.0), (1068, 0.01408374853731418), (1069, 0.0), (1070, 0.0), (1071, 0.005447875487881542), (1072, 0.0), (1073, 0.0), (1074, 0.013645198161041807), (1075, 0.00587010323930012), (1076, 0.0), (1077, 0.006612014515917176), (1078, 0.00529410120305651), (1079, 0.005673568227293848), (1080, 0.037272306809410904), (1081, 0.0), (1082, 0.0), (1083, 0.006366996119425374), (1084, 0.005663687290823074), (1085, 0.0), (1086, 0.0), (1087, 0.0), (1088, 0.004312743923150221), (1089, 0.029306334633980732), (1090, 0.020080140468813543), (1091, 0.0), (1092, 0.0), (1093, 0.0), (1094, 0.0), (1095, 0.0), (1096, 0.0), (1097, 0.0), (1098, 0.0), (1099, 0.0), (1100, 0.0), (1101, 0.0), (1102, 0.005671873350513863), (1103, 0.0), (1104, 0.0), (1105, 0.0), (1106, 0.0), (1107, 0.0053832485323635675), (1108, 0.02554883263523625), (1109, 0.032656793193266136), (1110, 0.0), (1111, 0.0), (1112, 0.0), (1113, 0.0), (1114, 0.0), (1115, 0.0), (1116, 0.01473224707349494), (1117, 0.0), (1118, 0.0), (1119, 0.022524731630836868), (1120, 0.0), (1121, 0.0), (1122, 0.005983297932087024), (1123, 0.00603116442780364), (1124, 0.0), (1125, 0.013364240583413156), (1126, 0.0), (1127, 0.0), (1128, 0.01430005747414083), (1129, 0.0), (1130, 0.0), (1131, 0.006067143069362562), (1132, 0.03041129557647171), (1133, 0.0), (1134, 0.0), (1135, 0.0), (1136, 0.00559118832201609), (1137, 0.0), (1138, 0.005417462364172469), (1139, 0.0), (1140, 0.006182188358435547), (1141, 0.02085149255602099), (1142, 0.02917902647037234), (1143, 0.0), (1144, 0.0), (1145, 0.0), (1146, 0.0), (1147, 0.0), (1148, 0.01628136247751271), (1149, 0.0), (1150, 0.0), (1151, 0.0), (1152, 0.0), (1153, 0.0), (1154, 0.0), (1155, 0.027565363209240065), (1156, 0.0), (1157, 0.0), (1158, 0.0), (1159, 0.0), (1160, 0.019553396679045477), (1161, 0.005641634328904622), (1162, 0.0), (1163, 0.005860657522896777), (1164, 0.0), (1165, 0.0), (1166, 0.02590552192613407), (1167, 0.0), (1168, 0.0), (1169, 0.0), (1170, 0.005700777561260741), (1171, 0.0), (1172, 0.0), (1173, 0.0), (1174, 0.0), (1175, 0.005606965148888056), (1176, 0.006105211434414156), (1177, 0.005478852645474129), (1178, 0.0), (1179, 0.005670514691893098), (1180, 0.0), (1181, 0.0), (1182, 0.006765446878519877), (1183, 0.017917923822724682), (1184, 0.022604541792173596), (1185, 0.07883162841827851), (1186, 0.00524289970975148), (1187, 0.006820744739873788), (1188, 0.006080597480827147), (1189, 0.0), (1190, 0.0), (1191, 0.005624385849095057), (1192, 0.005604886633036405), (1193, 0.036346192141561914), (1194, 0.0), (1195, 0.0), (1196, 0.0), (1197, 0.0), (1198, 0.0), (1199, 0.005217504627671187), (1200, 0.0), (1201, 0.0), (1202, 0.005298416825621886), (1203, 0.0), (1204, 0.0), (1205, 0.0), (1206, 0.005558813872960265), (1207, 0.0), (1208, 0.006333691551332302), (1209, 0.005229652797556288), (1210, 0.025091562329474612), (1211, 0.0), (1212, 0.0), (1213, 0.0), (1214, 0.0), (1215, 0.0049478003308180115), (1216, 0.005103324571499083), (1217, 0.005509615868285148), (1218, 0.0), (1219, 0.004793810359019733), (1220, 0.006143447299216759), (1221, 0.0), (1222, 0.0), (1223, 0.005852756857932824), (1224, 0.019736170511674766), (1225, 0.006210230401355774), (1226, 0.0), (1227, 0.05461535500028335), (1228, 0.0), (1229, 0.005844530737425108), (1230, 0.01486116666089271), (1231, 0.01258957339280903), (1232, 0.020058263808482475), (1233, 0.0), (1234, 0.020960040558024622), (1235, 0.0), (1236, 0.011728777915068074), (1237, 0.05974773241689973), (1238, 0.0), (1239, 0.0), (1240, 0.0), (1241, 0.004951119972859369), (1242, 0.0), (1243, 0.0), (1244, 0.0), (1245, 0.005815346678006554), (1246, 0.0), (1247, 0.005492328420044772), (1248, 0.018123458544038552), (1249, 0.0), (1250, 0.0), (1251, 0.004798739034210796), (1252, 0.020026707985119404), (1253, 0.0), (1254, 0.0), (1255, 0.005166877342346706), (1256, 0.0), (1257, 0.03272275540520195), (1258, 0.0), (1259, 0.0), (1260, 0.0), (1261, 0.0055540131587194), (1262, 0.0), (1263, 0.0), (1264, 0.006575580504966938), (1265, 0.0), (1266, 0.03332285162946704), (1267, 0.0), (1268, 0.0), (1269, 0.0), (1270, 0.027683656460185207), (1271, 0.0), (1272, 0.0), (1273, 0.005859315617706241), (1274, 0.023094999624035172), (1275, 0.022497325198849734), (1276, 0.010618533419027725), (1277, 0.0), (1278, 0.0), (1279, 0.0), (1280, 0.0), (1281, 0.021892043230176756), (1282, 0.0), (1283, 0.0), (1284, 0.0), (1285, 0.0), (1286, 0.005748575584755703), (1287, 0.0), (1288, 0.0), (1289, 0.0), (1290, 0.016914372940069335), (1291, 0.0), (1292, 0.03804048380966911), (1293, 0.0), (1294, 0.0), (1295, 0.0), (1296, 0.0), (1297, 0.0), (1298, 0.0), (1299, 0.0), (1300, 0.01164663521609548), (1301, 0.0), (1302, 0.0), (1303, 0.004844666087748172), (1304, 0.0), (1305, 0.004746847980881845), (1306, 0.0038760105715585605), (1307, 0.0), (1308, 0.058633940745246846), (1309, 0.0), (1310, 0.0), (1311, 0.0), (1312, 0.0), (1313, 0.005908250293383465), (1314, 0.012574885211019519), (1315, 0.02480121832114487), (1316, 0.0), (1317, 0.010368323444465028), (1318, 0.035612646670419724), (1319, 0.0), (1320, 0.010559180948778071), (1321, 0.0), (1322, 0.0), (1323, 0.0), (1324, 0.006035406380138252), (1325, 0.005770773760710491), (1326, 0.0), (1327, 0.021517311627668817), (1328, 0.0), (1329, 0.0), (1330, 0.0), (1331, 0.0), (1332, 0.0), (1333, 0.0), (1334, 0.019453814646194195), (1335, 0.005464846765005572), (1336, 0.028518965104157044), (1337, 0.018729194651454624), (1338, 0.0056786204186792585), (1339, 0.014163372103352086), (1340, 0.005659615070275407), (1341, 0.0), (1342, 0.0), (1343, 0.015762173167314302), (1344, 0.0), (1345, 0.0), (1346, 0.04976965920400262), (1347, 0.02864542121577242), (1348, 0.012427067362618333), (1349, 0.006688869287975801), (1350, 0.006235325810969376), (1351, 0.0038812825951741628), (1352, 0.00561877700001996), (1353, 0.0), (1354, 0.0), (1355, 0.0), (1356, 0.004797241352392367), (1357, 0.004990949293931895), (1358, 0.0), (1359, 0.0), (1360, 0.017711135517272415), (1361, 0.0), (1362, 0.0), (1363, 0.0), (1364, 0.006367267598764229), (1365, 0.0047165572873732325), (1366, 0.0), (1367, 0.0), (1368, 0.0), (1369, 0.01100347693419438), (1370, 0.005031300001015044), (1371, 0.01227470157742978), (1372, 0.0054739443332098665), (1373, 0.0), (1374, 0.0), (1375, 0.034433029407490864), (1376, 0.0), (1377, 0.017705676778181734), (1378, 0.005651639367787278), (1379, 0.0), (1380, 0.03173900776554345), (1381, 0.0), (1382, 0.006136501600102075), (1383, 0.0066702199966377435), (1384, 0.0), (1385, 0.01891585362028437), (1386, 0.0), (1387, 0.03622591151909254), (1388, 0.0), (1389, 0.0), (1390, 0.0), (1391, 0.0), (1392, 0.02426353520324731), (1393, 0.0), (1394, 0.005126689993009994), (1395, 0.0), (1396, 0.0), (1397, 0.0), (1398, 0.034020689754276856), (1399, 0.0), (1400, 0.006026155523036109), (1401, 0.0), (1402, 0.0), (1403, 0.004382144820526234), (1404, 0.0), (1405, 0.0), (1406, 0.013832157410754144), (1407, 0.0), (1408, 0.04956041687873781), (1409, 0.0), (1410, 0.05571428535951135), (1411, 0.0), (1412, 0.01185393761346947), (1413, 0.006071695728560752), (1414, 0.00536398149156205), (1415, 0.004716220282584968), (1416, 0.0), (1417, 0.014160174652315269), (1418, 0.022428386558217103), (1419, 0.013714250883652), (1420, 0.0), (1421, 0.005828551453889408), (1422, 0.006420941967040342), (1423, 0.005012281133749096), (1424, 0.0), (1425, 0.0), (1426, 0.031147590028992568), (1427, 0.005930691758291702), (1428, 0.0), (1429, 0.006879297363793425), (1430, 0.0), (1431, 0.0), (1432, 0.014831134555725331), (1433, 0.0), (1434, 0.0), (1435, 0.0), (1436, 0.014144784395408049), (1437, 0.0), (1438, 0.00540770761512348), (1439, 0.0), (1440, 0.038355328752840465), (1441, 0.0), (1442, 0.005347375932952094), (1443, 0.02987571778171657), (1444, 0.0), (1445, 0.0), (1446, 0.005509262101034763), (1447, 0.0), (1448, 0.006085561026800105), (1449, 0.0), (1450, 0.0), (1451, 0.02925421558214325), (1452, 0.0), (1453, 0.030055432152302292), (1454, 0.006048924517445158), (1455, 0.05301672628575188), (1456, 0.0), (1457, 0.0), (1458, 0.0), (1459, 0.022577356401954844), (1460, 0.0), (1461, 0.0), (1462, 0.005307021666581063), (1463, 0.0057255745047324605), (1464, 0.0), (1465, 0.0), (1466, 0.08053279210342335), (1467, 0.0), (1468, 0.0), (1469, 0.02689883096531277), (1470, 0.0), (1471, 0.01420326446549906), (1472, 0.0054625231176196175), (1473, 0.0), (1474, 0.00659344237755418), (1475, 0.00592128338203344), (1476, 0.0057636093606499225), (1477, 0.00559378150449339), (1478, 0.005162276883805171), (1479, 0.027455583864006677), (1480, 0.0), (1481, 0.005344460694776038), (1482, 0.0), (1483, 0.005472295640701022), (1484, 0.0), (1485, 0.0), (1486, 0.0), (1487, 0.04883950233899049), (1488, 0.006136152392372987), (1489, 0.006361089684450542), (1490, 0.0), (1491, 0.0), (1492, 0.0), (1493, 0.02342550481594997), (1494, 0.0), (1495, 0.0), (1496, 0.023639215591466478), (1497, 0.0), (1498, 0.006326110390956057), (1499, 0.0), (1500, 0.0), (1501, 0.0), (1502, 0.029987277672039618), (1503, 0.025817622815709065), (1504, 0.0), (1505, 0.0), (1506, 0.021326576786243816), (1507, 0.0), (1508, 0.0), (1509, 0.003695668259457427), (1510, 0.0053353751983543736), (1511, 0.02620836665147486), (1512, 0.0), (1513, 0.0066875881035624056), (1514, 0.005845562461165054), (1515, 0.0), (1516, 0.0), (1517, 0.0), (1518, 0.05158511076852666), (1519, 0.005536021449083864), (1520, 0.0), (1521, 0.0), (1522, 0.0), (1523, 0.0), (1524, 0.0), (1525, 0.0), (1526, 0.0), (1527, 0.013173393135360945), (1528, 0.0), (1529, 0.0), (1530, 0.0), (1531, 0.0), (1532, 0.0), (1533, 0.005356110636209826), (1534, 0.0), (1535, 0.0), (1536, 0.0), (1537, 0.006305019099917797), (1538, 0.0), (1539, 0.0050616655633967285), (1540, 0.0), (1541, 0.0), (1542, 0.013179604416851367), (1543, 0.0049321447267335105), (1544, 0.035794868038299905), (1545, 0.0), (1546, 0.0), (1547, 0.006826115136813045), (1548, 0.0), (1549, 0.0), (1550, 0.023616350638636086), (1551, 0.0), (1552, 0.0), (1553, 0.0), (1554, 0.0), (1555, 0.0), (1556, 0.0), (1557, 0.0), (1558, 0.005984198466344635), (1559, 0.0), (1560, 0.0), (1561, 0.0), (1562, 0.0), (1563, 0.0), (1564, 0.028112361306844493), (1565, 0.005147196368817517), (1566, 0.0), (1567, 0.0), (1568, 0.0), (1569, 0.0), (1570, 0.006157093123318377), (1571, 0.0), (1572, 0.015487414484876167), (1573, 0.0), (1574, 0.0), (1575, 0.0), (1576, 0.0), (1577, 0.0), (1578, 0.0), (1579, 0.0), (1580, 0.0), (1581, 0.0), (1582, 0.005468952054404654), (1583, 0.0), (1584, 0.0), (1585, 0.01455025666338169), (1586, 0.0), (1587, 0.0), (1588, 0.0), (1589, 0.0), (1590, 0.0), (1591, 0.015441717561196168), (1592, 0.0), (1593, 0.0), (1594, 0.02482959651813526), (1595, 0.017873223591738246), (1596, 0.0), (1597, 0.027783234136322475), (1598, 0.005694119847970902), (1599, 0.0), (1600, 0.0), (1601, 0.0), (1602, 0.0), (1603, 0.0), (1604, 0.0), (1605, 0.0056487527179717835), (1606, 0.0), (1607, 0.024471975330466068), (1608, 0.005345464951277678), (1609, 0.0), (1610, 0.0), (1611, 0.0), (1612, 0.026535595452182408), (1613, 0.024601859263423675), (1614, 0.0), (1615, 0.0), (1616, 0.004836300821405204), (1617, 0.0), (1618, 0.0), (1619, 0.005758605232770282), (1620, 0.0056293057336813355), (1621, 0.09412517820501577), (1622, 0.0), (1623, 0.0), (1624, 0.005149717710340395), (1625, 0.0), (1626, 0.0), (1627, 0.005407832884615124), (1628, 0.005675348386960324), (1629, 0.019994640911745378), (1630, 0.01349754463512618), (1631, 0.0212840854051424), (1632, 0.028109932275396696), (1633, 0.0), (1634, 0.005551555141901312), (1635, 0.0), (1636, 0.0), (1637, 0.0), (1638, 0.026111673879813214), (1639, 0.0), (1640, 0.030094999009089192), (1641, 0.0), (1642, 0.0), (1643, 0.039566816791297095), (1644, 0.0), (1645, 0.005867122527750144), (1646, 0.0), (1647, 0.0), (1648, 0.004256080404048187), (1649, 0.0), (1650, 0.0), (1651, 0.0), (1652, 0.0), (1653, 0.03827527082275245), (1654, 0.0), (1655, 0.006495761844733381), (1656, 0.0), (1657, 0.026552300883182906), (1658, 0.007005388510350015), (1659, 0.0), (1660, 0.0), (1661, 0.0), (1662, 0.0), (1663, 0.0), (1664, 0.0), (1665, 0.018970378858786673), (1666, 0.026997172353544346), (1667, 0.005530787513513105), (1668, 0.0), (1669, 0.0), (1670, 0.0), (1671, 0.0341119873792559), (1672, 0.0), (1673, 0.0), (1674, 0.016272680344702674), (1675, 0.004816935339860309), (1676, 0.0), (1677, 0.004611578915237383), (1678, 0.005875231421015133), (1679, 0.0), (1680, 0.013156642328957736), (1681, 0.0), (1682, 0.005138073675116177), (1683, 0.0), (1684, 0.0), (1685, 0.006385226133199587), (1686, 0.0), (1687, 0.006380043821084585), (1688, 0.0), (1689, 0.0), (1690, 0.005347413127547165), (1691, 0.0), (1692, 0.0), (1693, 0.09359225803082385), (1694, 0.012237477510442756), (1695, 0.0), (1696, 0.0), (1697, 0.0), (1698, 0.0), (1699, 0.0), (1700, 0.022058954754645938), (1701, 0.022727961615899725), (1702, 0.0), (1703, 0.0062875346334910695), (1704, 0.0), (1705, 0.015330615370672497), (1706, 0.005791958352439004), (1707, 0.016626413937193132), (1708, 0.0), (1709, 0.0), (1710, 0.029389410096187073), (1711, 0.03691999303806447), (1712, 0.0), (1713, 0.0), (1714, 0.0), (1715, 0.0), (1716, 0.05376703256953613), (1717, 0.00559631608975844), (1718, 0.0), (1719, 0.004973186674528261), (1720, 0.0), (1721, 0.0), (1722, 0.005741035333556837), (1723, 0.0), (1724, 0.0), (1725, 0.0), (1726, 0.0), (1727, 0.014288216719767594), (1728, 0.0), (1729, 0.0), (1730, 0.0057882780445499835), (1731, 0.0), (1732, 0.0), (1733, 0.0), (1734, 0.0), (1735, 0.013900445153124361), (1736, 0.014517826619665003), (1737, 0.0), (1738, 0.0), (1739, 0.017433515707621774), (1740, 0.005700885934333655), (1741, 0.0), (1742, 0.0), (1743, 0.004936999423194395), (1744, 0.005779628596296399), (1745, 0.0), (1746, 0.0), (1747, 0.004764064218389078), (1748, 0.007169113861324346), (1749, 0.0), (1750, 0.0), (1751, 0.0), (1752, 0.0), (1753, 0.0), (1754, 0.015813367746960346), (1755, 0.0), (1756, 0.0), (1757, 0.0), (1758, 0.0), (1759, 0.0), (1760, 0.00519135781807124), (1761, 0.0), (1762, 0.00506641675321), (1763, 0.0050049421726928185), (1764, 0.004862766564533595), (1765, 0.0), (1766, 0.027393269152203366), (1767, 0.0), (1768, 0.0056409785795777075), (1769, 0.0), (1770, 0.0), (1771, 0.0), (1772, 0.0), (1773, 0.0), (1774, 0.014883736600534235), (1775, 0.0), (1776, 0.011826727112684478), (1777, 0.0), (1778, 0.0), (1779, 0.005932328939883008), (1780, 0.0), (1781, 0.0), (1782, 0.005193519218141192), (1783, 0.0), (1784, 0.03319969190240511), (1785, 0.0), (1786, 0.05479158049868569), (1787, 0.02238433930804825), (1788, 0.026774200970904972), (1789, 0.0), (1790, 0.0), (1791, 0.0), (1792, 0.0), (1793, 0.0), (1794, 0.0), (1795, 0.0), (1796, 0.006050188316643809), (1797, 0.01339348868551965), (1798, 0.006377114438861607), (1799, 0.0), (1800, 0.0), (1801, 0.0), (1802, 0.0), (1803, 0.0262767156892584), (1804, 0.0), (1805, 0.0), (1806, 0.014272999136446146), (1807, 0.0), (1808, 0.0), (1809, 0.027693065268561298), (1810, 0.0), (1811, 0.0), (1812, 0.03179048460546808), (1813, 0.0050701462052234955), (1814, 0.0), (1815, 0.04590604500466261), (1816, 0.012103195361411884), (1817, 0.02664358982535111), (1818, 0.024155487556546923), (1819, 0.0053668793387965505), (1820, 0.0), (1821, 0.05004704518970787), (1822, 0.006634518968897049), (1823, 0.0), (1824, 0.0), (1825, 0.0), (1826, 0.0), (1827, 0.0051504238260330635), (1828, 0.004617588986953739), (1829, 0.0), (1830, 0.005364464374468156), (1831, 0.0), (1832, 0.014553216255315225), (1833, 0.0), (1834, 0.0), (1835, 0.0), (1836, 0.0), (1837, 0.0), (1838, 0.0), (1839, 0.0), (1840, 0.0), (1841, 0.0), (1842, 0.0), (1843, 0.0), (1844, 0.0), (1845, 0.004833193146828032), (1846, 0.0), (1847, 0.0), (1848, 0.0), (1849, 0.0), (1850, 0.0), (1851, 0.05349053698353626), (1852, 0.030773356679054068), (1853, 0.022020925158535924), (1854, 0.014147555379017589), (1855, 0.0), (1856, 0.0), (1857, 0.0), (1858, 0.014550512073302081), (1859, 0.0305891942557477), (1860, 0.0), (1861, 0.009910580460680938), (1862, 0.0), (1863, 0.0), (1864, 0.005403551544208485), (1865, 0.00486378607848993), (1866, 0.006033884381043352), (1867, 0.0), (1868, 0.0), (1869, 0.03843862841427877), (1870, 0.0), (1871, 0.004319782037762049), (1872, 0.0), (1873, 0.0), (1874, 0.01483605675625401), (1875, 0.005101757417522943), (1876, 0.005664470673289442), (1877, 0.0), (1878, 0.005337029135790778), (1879, 0.0), (1880, 0.0), (1881, 0.0), (1882, 0.006227655590293248), (1883, 0.0), (1884, 0.004978411993533454), (1885, 0.006861594609395461), (1886, 0.005172827352505678), (1887, 0.0), (1888, 0.0), (1889, 0.0), (1890, 0.0), (1891, 0.005728000329063548), (1892, 0.005563419480890396), (1893, 0.006374704495743614), (1894, 0.0), (1895, 0.0), (1896, 0.006482515132546967), (1897, 0.006368215554289692), (1898, 0.0), (1899, 0.0), (1900, 0.0), (1901, 0.0), (1902, 0.005792118120945875), (1903, 0.0), (1904, 0.0), (1905, 0.006148413440152676), (1906, 0.0), (1907, 0.006231464923475945), (1908, 0.0), (1909, 0.006767574027181713), (1910, 0.0), (1911, 0.0), (1912, 0.0), (1913, 0.0), (1914, 0.0), (1915, 0.0), (1916, 0.03015855500974275), (1917, 0.0), (1918, 0.03319965914272428), (1919, 0.021979669791440365), (1920, 0.005384643844001597), (1921, 0.0), (1922, 0.0152408713787996), (1923, 0.00600264560916077), (1924, 0.00677089979960031), (1925, 0.0), (1926, 0.024596375300667262), (1927, 0.0), (1928, 0.0), (1929, 0.021327263874918647), (1930, 0.0), (1931, 0.005789120444785831), (1932, 0.0), (1933, 0.0), (1934, 0.005915897375676879), (1935, 0.0), (1936, 0.0), (1937, 0.014720217130512026), (1938, 0.0), (1939, 0.0), (1940, 0.0), (1941, 0.0), (1942, 0.05634555613577539), (1943, 0.005431487402702353), (1944, 0.0), (1945, 0.014555593352353458), (1946, 0.0056444295811981975), (1947, 0.006843593084047017), (1948, 0.0), (1949, 0.014027275829147593), (1950, 0.004744579975367916), (1951, 0.006160231645053725), (1952, 0.0), (1953, 0.0), (1954, 0.0), (1955, 0.0), (1956, 0.0), (1957, 0.0), (1958, 0.0), (1959, 0.02543485909895576), (1960, 0.006967967043063309), (1961, 0.06119418875052336), (1962, 0.0), (1963, 0.0), (1964, 0.005300640285115547), (1965, 0.0), (1966, 0.0), (1967, 0.019892385046995278), (1968, 0.006062688485972756), (1969, 0.03196078886639504), (1970, 0.013925790605887854), (1971, 0.05706032401099423), (1972, 0.0), (1973, 0.0), (1974, 0.0), (1975, 0.0), (1976, 0.0), (1977, 0.005029214658512312), (1978, 0.025256935025403583), (1979, 0.022140418130025347), (1980, 0.030208562710489398), (1981, 0.0), (1982, 0.0), (1983, 0.005607075189872334), (1984, 0.03394235718443589), (1985, 0.018862732842831274), (1986, 0.0), (1987, 0.0), (1988, 0.0), (1989, 0.0047467037338522295), (1990, 0.0), (1991, 0.0), (1992, 0.012635572409822982), (1993, 0.0), (1994, 0.0), (1995, 0.006444219215419311), (1996, 0.04268151545106137), (1997, 0.047036813381114345), (1998, 0.0), (1999, 0.03007110424558981), (2000, 0.004342463517592023), (2001, 0.0), (2002, 0.0), (2003, 0.0), (2004, 0.005358045695134812), (2005, 0.0), (2006, 0.0), (2007, 0.0), (2008, 0.005973535890825568), (2009, 0.0), (2010, 0.005037078880337177), (2011, 0.004904618326559203), (2012, 0.0), (2013, 0.025486952247358613), (2014, 0.0), (2015, 0.11865554691585979), (2016, 0.021698756326601377), (2017, 0.0), (2018, 0.0), (2019, 0.0), (2020, 0.0), (2021, 0.0), (2022, 0.0), (2023, 0.005643991582586172), (2024, 0.019052915885299174), (2025, 0.0), (2026, 0.012969769786195287), (2027, 0.005495773654782344), (2028, 0.0), (2029, 0.0053290495872886), (2030, 0.0), (2031, 0.031093521544586035), (2032, 0.0), (2033, 0.0), (2034, 0.0047116562910863935), (2035, 0.041088381536987496), (2036, 0.0), (2037, 0.019562685472965732), (2038, 0.0), (2039, 0.03331446318310934), (2040, 0.045090404768838396), (2041, 0.0258189992524733), (2042, 0.0), (2043, 0.0), (2044, 0.0), (2045, 0.005874597731209092), (2046, 0.0), (2047, 0.0), (2048, 0.005875235190037647), (2049, 0.00654156800300144), (2050, 0.0), (2051, 0.006892816455793457), (2052, 0.0), (2053, 0.05113191253385285), (2054, 0.0), (2055, 0.017629486112088692), (2056, 0.0), (2057, 0.0), (2058, 0.044149702688051295), (2059, 0.0), (2060, 0.0), (2061, 0.0055551123466379216), (2062, 0.0), (2063, 0.0), (2064, 0.0), (2065, 0.017886873946991618), (2066, 0.0), (2067, 0.09162400387243347), (2068, 0.0054479530506253695), (2069, 0.005743606511163503), (2070, 0.016482873452764554), (2071, 0.026919153688296057), (2072, 0.0), (2073, 0.005665523841822733), (2074, 0.029270035597627916), (2075, 0.006999100372064125), (2076, 0.014075819685644054), (2077, 0.0), (2078, 0.0), (2079, 0.0), (2080, 0.013340781138733295), (2081, 0.0), (2082, 0.04104965447805026), (2083, 0.006200001091451381), (2084, 0.0), (2085, 0.0), (2086, 0.0), (2087, 0.00611105463289134), (2088, 0.006240019619192894), (2089, 0.006772477072672103), (2090, 0.0), (2091, 0.034495677795005224), (2092, 0.0), (2093, 0.05342075226923223), (2094, 0.0), (2095, 0.0), (2096, 0.1371048843099946), (2097, 0.020622535550101476), (2098, 0.0), (2099, 0.0), (2100, 0.0), (2101, 0.0), (2102, 0.005370647368578606), (2103, 0.03018018248425626), (2104, 0.005986394823046124), (2105, 0.0061284231415230095), (2106, 0.0), (2107, 0.0), (2108, 0.006409869981877069), (2109, 0.0), (2110, 0.013288403623628698), (2111, 0.0), (2112, 0.020800694512980507), (2113, 0.0), (2114, 0.0), (2115, 0.0), (2116, 0.0063168650460759335), (2117, 0.0054765943329509745), (2118, 0.0), (2119, 0.01270325132303099), (2120, 0.0), (2121, 0.005242367600982985), (2122, 0.0058499353916721415), (2123, 0.0), (2124, 0.0), (2125, 0.0), (2126, 0.013733359604500178), (2127, 0.005278203814414279), (2128, 0.0), (2129, 0.0), (2130, 0.03549814615834453), (2131, 0.005506330617544567), (2132, 0.004647329133844659), (2133, 0.0), (2134, 0.00705715445575211), (2135, 0.0), (2136, 0.027860760656358424), (2137, 0.0), (2138, 0.0), (2139, 0.029220659743998983), (2140, 0.0), (2141, 0.0), (2142, 0.0292669748816043), (2143, 0.0058880319782999265), (2144, 0.005744562348783372), (2145, 0.0), (2146, 0.0), (2147, 0.0), (2148, 0.006311068056229032), (2149, 0.005070978404522697), (2150, 0.0), (2151, 0.0), (2152, 0.0), (2153, 0.027184983790214244), (2154, 0.00758338849096226), (2155, 0.005968599661801591), (2156, 0.0), (2157, 0.005020599259784961), (2158, 0.0), (2159, 0.006329801466797584), (2160, 0.023026571338152543), (2161, 0.0), (2162, 0.005932176513349124), (2163, 0.0), (2164, 0.0), (2165, 0.0), (2166, 0.0), (2167, 0.0), (2168, 0.0), (2169, 0.0057498235368011385), (2170, 0.0), (2171, 0.0), (2172, 0.0), (2173, 0.0), (2174, 0.0058307676646279375), (2175, 0.0), (2176, 0.006901038656067739), (2177, 0.0), (2178, 0.0), (2179, 0.02515148795457921), (2180, 0.0), (2181, 0.0), (2182, 0.0), (2183, 0.0), (2184, 0.0), (2185, 0.0), (2186, 0.0), (2187, 0.0), (2188, 0.005822324518871635), (2189, 0.0), (2190, 0.04507834096069319), (2191, 0.004520624366761265), (2192, 0.0), (2193, 0.0), (2194, 0.0), (2195, 0.00563667122687392), (2196, 0.013411067121049574), (2197, 0.0), (2198, 0.0), (2199, 0.0068224976501610355), (2200, 0.0), (2201, 0.005540875881696285), (2202, 0.0), (2203, 0.0), (2204, 0.0), (2205, 0.0), (2206, 0.013289570307360455), (2207, 0.02260535165143226), (2208, 0.0), (2209, 0.0), (2210, 0.0466708488139667), (2211, 0.005225891475650894), (2212, 0.01850694476544012), (2213, 0.0), (2214, 0.020730785747938643), (2215, 0.0), (2216, 0.019327852647568103), (2217, 0.0), (2218, 0.0), (2219, 0.0), (2220, 0.0), (2221, 0.0), (2222, 0.0), (2223, 0.006938716219036479), (2224, 0.01715079559214846), (2225, 0.0), (2226, 0.0051246602241208986), (2227, 0.0), (2228, 0.0), (2229, 0.00566759248745746), (2230, 0.04013487666727319), (2231, 0.0), (2232, 0.0), (2233, 0.0), (2234, 0.0), (2235, 0.012385210933642013), (2236, 0.0), (2237, 0.004372552811241878), (2238, 0.0), (2239, 0.0), (2240, 0.006171863974394344), (2241, 0.0), (2242, 0.005820791921484301), (2243, 0.0), (2244, 0.0), (2245, 0.0), (2246, 0.0), (2247, 0.0), (2248, 0.0), (2249, 0.0), (2250, 0.01699207744499624), (2251, 0.006875899263012622), (2252, 0.0), (2253, 0.0), (2254, 0.019918532479255804), (2255, 0.03628231042704692), (2256, 0.0), (2257, 0.006375773461562842), (2258, 0.0), (2259, 0.028514849222352), (2260, 0.006639735052070352), (2261, 0.0), (2262, 0.0), (2263, 0.0), (2264, 0.01237930111312162), (2265, 0.004930961653763141), (2266, 0.006032381881563612), (2267, 0.0), (2268, 0.03766490376790738), (2269, 0.005620132716782319), (2270, 0.022324745117388828), (2271, 0.0), (2272, 0.0), (2273, 0.0), (2274, 0.0), (2275, 0.015805350440708778), (2276, 0.01356084393930393), (2277, 0.005971755525404548), (2278, 0.0), (2279, 0.02241000241889126), (2280, 0.012720202864892692), (2281, 0.0), (2282, 0.0), (2283, 0.03189504499135351), (2284, 0.013514371421849372), (2285, 0.0), (2286, 0.006769897196813563), (2287, 0.005347090503892367), (2288, 0.0), (2289, 0.005326516589314503), (2290, 0.0), (2291, 0.0), (2292, 0.0), (2293, 0.0), (2294, 0.0), (2295, 0.005047829331456069), (2296, 0.0), (2297, 0.02324525064175375), (2298, 0.0), (2299, 0.0), (2300, 0.0), (2301, 0.029752377429323077), (2302, 0.00638898562871112), (2303, 0.0), (2304, 0.0), (2305, 0.0), (2306, 0.0), (2307, 0.0), (2308, 0.0), (2309, 0.02707153489325285), (2310, 0.0), (2311, 0.0), (2312, 0.0), (2313, 0.005994451982591827), (2314, 0.0), (2315, 0.0), (2316, 0.01347633001843742), (2317, 0.0), (2318, 0.02138811135682499), (2319, 0.006007794624631989), (2320, 0.05029650811596201), (2321, 0.005620848316319007), (2322, 0.02096081049722283), (2323, 0.0), (2324, 0.0), (2325, 0.0), (2326, 0.0), (2327, 0.0), (2328, 0.0), (2329, 0.0), (2330, 0.030434831822552678), (2331, 0.0), (2332, 0.0), (2333, 0.0), (2334, 0.020564559095403615), (2335, 0.04634865591303814), (2336, 0.0), (2337, 0.0), (2338, 0.005391937497263171), (2339, 0.02467570700719687), (2340, 0.0), (2341, 0.0), (2342, 0.0), (2343, 0.0), (2344, 0.005470976752442644), (2345, 0.0), (2346, 0.01325104632292584), (2347, 0.00577850601179445), (2348, 0.005786700288162226), (2349, 0.006920677602111726), (2350, 0.006625538587291251), (2351, 0.0), (2352, 0.0), (2353, 0.0), (2354, 0.035382949480698776), (2355, 0.004870198029902484), (2356, 0.0), (2357, 0.0), (2358, 0.0), (2359, 0.0046267523691183865), (2360, 0.0), (2361, 0.006366649774307218), (2362, 0.005284986721884457), (2363, 0.0), (2364, 0.0), (2365, 0.0), (2366, 0.0), (2367, 0.005183463821991132), (2368, 0.0), (2369, 0.0), (2370, 0.0), (2371, 0.0), (2372, 0.0), (2373, 0.0), (2374, 0.0058521806083916255), (2375, 0.005909492467150299), (2376, 0.0), (2377, 0.0), (2378, 0.0), (2379, 0.006826357427021975), (2380, 0.0), (2381, 0.024499692650553396), (2382, 0.0), (2383, 0.0), (2384, 0.0), (2385, 0.0), (2386, 0.005726240137521261), (2387, 0.0), (2388, 0.0062373293741714705), (2389, 0.0), (2390, 0.03698366007428638), (2391, 0.005463664191968), (2392, 0.0), (2393, 0.0060422361394855935), (2394, 0.005401074414839995), (2395, 0.0), (2396, 0.0), (2397, 0.00565500153586411), (2398, 0.0), (2399, 0.005322523787483023), (2400, 0.005487817216943757), (2401, 0.0), (2402, 0.005352743090694856), (2403, 0.0), (2404, 0.0), (2405, 0.005826187225117277), (2406, 0.020092527355184377), (2407, 0.03388873485770515), (2408, 0.0), (2409, 0.0), (2410, 0.022927779616690853), (2411, 0.006324094488911918), (2412, 0.04024095178692616), (2413, 0.0), (2414, 0.0), (2415, 0.006248015296171223), (2416, 0.0), (2417, 0.029764138053930998), (2418, 0.0), (2419, 0.0), (2420, 0.0), (2421, 0.029107214467728713), (2422, 0.005429614996283607), (2423, 0.006376733441924067), (2424, 0.0), (2425, 0.0), (2426, 0.0), (2427, 0.0057509923911140985), (2428, 0.0059984144469811), (2429, 0.0), (2430, 0.0058161443521383424), (2431, 0.031191686376996146), (2432, 0.029446994393379534), (2433, 0.0), (2434, 0.006048716121991689), (2435, 0.0), (2436, 0.005735260599608607), (2437, 0.0062321343575095015), (2438, 0.036313924343941595), (2439, 0.0), (2440, 0.0), (2441, 0.004811564398516941), (2442, 0.0), (2443, 0.0035720037624984067), (2444, 0.0), (2445, 0.0), (2446, 0.0), (2447, 0.015732927192323817), (2448, 0.05980417837196897), (2449, 0.0), (2450, 0.0), (2451, 0.0), (2452, 0.0), (2453, 0.004827798684574937), (2454, 0.0), (2455, 0.0), (2456, 0.0), (2457, 0.005338335657121542), (2458, 0.0), (2459, 0.006006271417832092), (2460, 0.0), (2461, 0.005721480382490143), (2462, 0.0), (2463, 0.0), (2464, 0.013938609482063668), (2465, 0.0), (2466, 0.006314792975087811), (2467, 0.0050280967353720715), (2468, 0.014144530425950678), (2469, 0.004950322336346048), (2470, 0.0), (2471, 0.0), (2472, 0.0), (2473, 0.005444463519223049), (2474, 0.004099488201191702), (2475, 0.005793330788105645), (2476, 0.0), (2477, 0.005839457618188932), (2478, 0.006482925861422873), (2479, 0.0), (2480, 0.0), (2481, 0.06690171941313194), (2482, 0.030716347448474984), (2483, 0.0), (2484, 0.006426405834885678), (2485, 0.02316905674542907), (2486, 0.07522956791429715), (2487, 0.015366986850932558), (2488, 0.00584187919202309), (2489, 0.02029914453491604), (2490, 0.006994776555266972), (2491, 0.0), (2492, 0.004960058339819553), (2493, 0.0), (2494, 0.005111401977219814), (2495, 0.0), (2496, 0.0056739097612256645), (2497, 0.0), (2498, 0.0), (2499, 0.03755362550006243), (2500, 0.0), (2501, 0.0), (2502, 0.0047973487244817115), (2503, 0.051573716673348306), (2504, 0.0), (2505, 0.0), (2506, 0.0), (2507, 0.0), (2508, 0.0), (2509, 0.004870149013343916), (2510, 0.0), (2511, 0.0), (2512, 0.018055726830938118), (2513, 0.0), (2514, 0.0), (2515, 0.0), (2516, 0.0), (2517, 0.0), (2518, 0.0), (2519, 0.07090999679696769), (2520, 0.004526836311083), (2521, 0.02959655979483668), (2522, 0.021112322447960796), (2523, 0.024791832150749607), (2524, 0.0), (2525, 0.0), (2526, 0.004536485541487215), (2527, 0.02821417650717109), (2528, 0.0053432154878923), (2529, 0.0071405157922593224), (2530, 0.006559224940437252), (2531, 0.00515822947301271), (2532, 0.0), (2533, 0.0), (2534, 0.01702930358432093), (2535, 0.006223002414689797), (2536, 0.0), (2537, 0.0), (2538, 0.003326161170579895), (2539, 0.0), (2540, 0.005384082959020211), (2541, 0.0), (2542, 0.0), (2543, 0.0), (2544, 0.0), (2545, 0.0), (2546, 0.014599022055221851), (2547, 0.0), (2548, 0.0), (2549, 0.0), (2550, 0.0036817375951808127), (2551, 0.0), (2552, 0.0), (2553, 0.00562376550353518), (2554, 0.005687231222920813), (2555, 0.006404552488255628), (2556, 0.004884178398736966), (2557, 0.0), (2558, 0.005573151711988185), (2559, 0.006511868770786962), (2560, 0.027886419186541105), (2561, 0.0), (2562, 0.0), (2563, 0.004671786140361548), (2564, 0.0), (2565, 0.0), (2566, 0.0), (2567, 0.0), (2568, 0.011402406586486079), (2569, 0.0), (2570, 0.005986149336868482), (2571, 0.023271984255670015), (2572, 0.0), (2573, 0.0), (2574, 0.0), (2575, 0.0), (2576, 0.028856121314008748), (2577, 0.0), (2578, 0.0), (2579, 0.006458811430565084), (2580, 0.026463927752495293), (2581, 0.0), (2582, 0.0), (2583, 0.0), (2584, 0.11088223082237707), (2585, 0.0), (2586, 0.0), (2587, 0.0), (2588, 0.0), (2589, 0.0), (2590, 0.0), (2591, 0.00439810540549206), (2592, 0.03168604704306367), (2593, 0.005397537542775863), (2594, 0.0), (2595, 0.0), (2596, 0.0), (2597, 0.0), (2598, 0.005298867664257111), (2599, 0.0), (2600, 0.0), (2601, 0.005236478793784896), (2602, 0.016164765926377524), (2603, 0.004757111245313403), (2604, 0.0), (2605, 0.0), (2606, 0.005964095318268419), (2607, 0.017892939664285915), (2608, 0.0), (2609, 0.006385347089806916), (2610, 0.0), (2611, 0.004693088775830365), (2612, 0.0056086968903458455), (2613, 0.0), (2614, 0.006311445081394093), (2615, 0.0), (2616, 0.0), (2617, 0.011303274630096385), (2618, 0.0), (2619, 0.0), (2620, 0.0), (2621, 0.005370748908237595), (2622, 0.0), (2623, 0.006327687578417397), (2624, 0.0), (2625, 0.005915920471417125), (2626, 0.0), (2627, 0.03292338356474864), (2628, 0.0), (2629, 0.006496069310654465), (2630, 0.0), (2631, 0.0), (2632, 0.005582296560755475), (2633, 0.005098679250401456), (2634, 0.005070661480102053), (2635, 0.08636891064386114), (2636, 0.0), (2637, 0.03207261024529231), (2638, 0.048315469924421726), (2639, 0.0), (2640, 0.04031298588638998), (2641, 0.0), (2642, 0.005108664247392879), (2643, 0.006642149054716224), (2644, 0.0), (2645, 0.026807491654187297), (2646, 0.0), (2647, 0.036971714260084734), (2648, 0.0), (2649, 0.018509251250290737), (2650, 0.0), (2651, 0.0), (2652, 0.004956039411807117), (2653, 0.03146528345767108), (2654, 0.0), (2655, 0.0066816972945987095), (2656, 0.0), (2657, 0.0), (2658, 0.0), (2659, 0.0), (2660, 0.0), (2661, 0.006754137600659689), (2662, 0.0), (2663, 0.0), (2664, 0.00662881721400699), (2665, 0.0), (2666, 0.033843536812740826), (2667, 0.0), (2668, 0.005553817375471248), (2669, 0.0), (2670, 0.0), (2671, 0.0), (2672, 0.0), (2673, 0.0), (2674, 0.004938947698468871), (2675, 0.0), (2676, 0.0), (2677, 0.0), (2678, 0.00826331491328787), (2679, 0.0), (2680, 0.0), (2681, 0.0), (2682, 0.0), (2683, 0.0), (2684, 0.0), (2685, 0.0), (2686, 0.0), (2687, 0.005334956581078185), (2688, 0.0), (2689, 0.0), (2690, 0.0), (2691, 0.0), (2692, 0.017089374857113974), (2693, 0.0), (2694, 0.0), (2695, 0.019147109743595098), (2696, 0.0059759615967457805), (2697, 0.004809342287008439), (2698, 0.005388728016941898), (2699, 0.0), (2700, 0.0), (2701, 0.0), (2702, 0.037793781647368116), (2703, 0.0), (2704, 0.0), (2705, 0.0055424380492801175), (2706, 0.005067605916464014), (2707, 0.0), (2708, 0.0), (2709, 0.0), (2710, 0.0), (2711, 0.0), (2712, 0.00509927836215877), (2713, 0.0), (2714, 0.006396881397720469), (2715, 0.0), (2716, 0.005241309904467115), (2717, 0.0), (2718, 0.0), (2719, 0.0), (2720, 0.027668498149101828), (2721, 0.04372236353800072), (2722, 0.0), (2723, 0.0), (2724, 0.004976133139140018), (2725, 0.0), (2726, 0.0), (2727, 0.015855507063926175), (2728, 0.0), (2729, 0.024617920402149426), (2730, 0.0), (2731, 0.006440382794593204), (2732, 0.0), (2733, 0.0), (2734, 0.0), (2735, 0.0), (2736, 0.0), (2737, 0.0), (2738, 0.0), (2739, 0.013182648570605181), (2740, 0.005658200682889323), (2741, 0.00499947193813902), (2742, 0.012633927102577458), (2743, 0.005840745390953335), (2744, 0.005027941214956353), (2745, 0.005824556225304851), (2746, 0.005660064610622573), (2747, 0.004891130188831423), (2748, 0.005804229935593679), (2749, 0.0), (2750, 0.0), (2751, 0.010869173761285001), (2752, 0.013739070986225493), (2753, 0.0), (2754, 0.0), (2755, 0.005798631675082594), (2756, 0.0), (2757, 0.0), (2758, 0.004517533977451518), (2759, 0.0), (2760, 0.0), (2761, 0.005538450769384126), (2762, 0.0), (2763, 0.0), (2764, 0.006794709458743016), (2765, 0.0), (2766, 0.004277747363554954), (2767, 0.004962563273988764), (2768, 0.006783887129765061), (2769, 0.0062486435331324894), (2770, 0.0), (2771, 0.052095626871581986), (2772, 0.005769476487474946), (2773, 0.0), (2774, 0.0), (2775, 0.006828231588098313), (2776, 0.0065912496260578214), (2777, 0.018093178138742838), (2778, 0.005992217474715927), (2779, 0.005417356936643126), (2780, 0.014386109202201625), (2781, 0.030308809497134385), (2782, 0.0056274385753523), (2783, 0.0), (2784, 0.05268461976710255), (2785, 0.0), (2786, 0.0), (2787, 0.0), (2788, 0.0), (2789, 0.0), (2790, 0.0), (2791, 0.012582169314295516), (2792, 0.0), (2793, 0.023436950788867893), (2794, 0.0), (2795, 0.022017762002200264), (2796, 0.006197611799432864), (2797, 0.006895090292471056), (2798, 0.006114529643691504), (2799, 0.0), (2800, 0.005375894356954962), (2801, 0.0), (2802, 0.005239046564231227), (2803, 0.005243645301206269), (2804, 0.0), (2805, 0.0), (2806, 0.0), (2807, 0.0), (2808, 0.018744592447491604), (2809, 0.00604255323464238), (2810, 0.0), (2811, 0.0), (2812, 0.005952315177487943), (2813, 0.0), (2814, 0.0), (2815, 0.0), (2816, 0.0), (2817, 0.0), (2818, 0.0), (2819, 0.0), (2820, 0.0), (2821, 0.005416174145035159), (2822, 0.0), (2823, 0.0), (2824, 0.0), (2825, 0.0), (2826, 0.0), (2827, 0.0), (2828, 0.0), (2829, 0.0), (2830, 0.006332918436633932), (2831, 0.004745600526934308), (2832, 0.006809786512683333), (2833, 0.0), (2834, 0.006047884382950965), (2835, 0.0), (2836, 0.0), (2837, 0.0), (2838, 0.006255983370728954), (2839, 0.0), (2840, 0.03495755502235322), (2841, 0.0), (2842, 0.0), (2843, 0.0), (2844, 0.004353049240096897), (2845, 0.0047650520354172), (2846, 0.0), (2847, 0.0), (2848, 0.006709347489763094), (2849, 0.013300041565195738), (2850, 0.0), (2851, 0.0), (2852, 0.0), (2853, 0.0), (2854, 0.005444429492531895), (2855, 0.0), (2856, 0.0), (2857, 0.005988554830262858), (2858, 0.0), (2859, 0.005708385722474058), (2860, 0.0), (2861, 0.0), (2862, 0.005407749081690358), (2863, 0.0), (2864, 0.0), (2865, 0.0), (2866, 0.0), (2867, 0.0), (2868, 0.0), (2869, 0.027651842814390842), (2870, 0.006872027859450917), (2871, 0.013266439570406704), (2872, 0.0057848875490850785), (2873, 0.0), (2874, 0.011736492665705636), (2875, 0.0), (2876, 0.004722988478018285), (2877, 0.0), (2878, 0.052927379860509716), (2879, 0.006336367484714906), (2880, 0.0), (2881, 0.006302303503733272), (2882, 0.0), (2883, 0.006924390177724322), (2884, 0.0), (2885, 0.0), (2886, 0.018074201602592068), (2887, 0.005688336141228178), (2888, 0.007067691351581246), (2889, 0.00657822453765857), (2890, 0.006076877995758991), (2891, 0.0), (2892, 0.004645250593725912), (2893, 0.006932611308991311), (2894, 0.005909149663912582), (2895, 0.0), (2896, 0.0), (2897, 0.012631477545608864), (2898, 0.0), (2899, 0.032409042671377654), (2900, 0.0), (2901, 0.006492302869761633), (2902, 0.0), (2903, 0.01989739508407959), (2904, 0.005548916170701559), (2905, 0.0), (2906, 0.0), (2907, 0.0047558954431083265), (2908, 0.014086118202927725), (2909, 0.0), (2910, 0.019014065015544087), (2911, 0.005992090539732773), (2912, 0.0), (2913, 0.0), (2914, 0.006084748021422409), (2915, 0.006802985995514712), (2916, 0.005722322701766554), (2917, 0.0043662264946748835), (2918, 0.0619397561146493), (2919, 0.021028300517981182), (2920, 0.005235455848596787), (2921, 0.0), (2922, 0.0), (2923, 0.0), (2924, 0.006398081558002496), (2925, 0.014637582853984796), (2926, 0.0061195143845493155), (2927, 0.0), (2928, 0.0), (2929, 0.025917856926309664), (2930, 0.0), (2931, 0.016927206164832086), (2932, 0.02212307222755433), (2933, 0.004847927594178254), (2934, 0.019822685137663703), (2935, 0.0), (2936, 0.0), (2937, 0.0), (2938, 0.0), (2939, 0.014774249012011333), (2940, 0.0), (2941, 0.0), (2942, 0.0), (2943, 0.006028924767692859), (2944, 0.013821405111869004), (2945, 0.031153669342543544), (2946, 0.005345545874734693), (2947, 0.0), (2948, 0.0), (2949, 0.0), (2950, 0.0), (2951, 0.0), (2952, 0.0), (2953, 0.0), (2954, 0.0), (2955, 0.0), (2956, 0.0), (2957, 0.0), (2958, 0.0), (2959, 0.0), (2960, 0.0), (2961, 0.01980112261093109), (2962, 0.0), (2963, 0.0), (2964, 0.0), (2965, 0.005522447989870204), (2966, 0.006299925741526095), (2967, 0.0), (2968, 0.0), (2969, 0.004345401097825047), (2970, 0.0), (2971, 0.0), (2972, 0.0054025747102248774), (2973, 0.0), (2974, 0.006295493650999647), (2975, 0.004894823248074595), (2976, 0.004830103390780335), (2977, 0.005794326481578019), (2978, 0.014003235856187084), (2979, 0.0), (2980, 0.00549511819057228), (2981, 0.005044965000424007), (2982, 0.0), (2983, 0.0), (2984, 0.0), (2985, 0.0), (2986, 0.005962092709799417), (2987, 0.0), (2988, 0.006162805972483753), (2989, 0.0069043865197301124), (2990, 0.0), (2991, 0.0), (2992, 0.027481100217998992), (2993, 0.0), (2994, 0.0), (2995, 0.005301837636810387), (2996, 0.019656421062080737), (2997, 0.0), (2998, 0.007085906541965374), (2999, 0.006466495042493171), (3000, 0.0), (3001, 0.0), (3002, 0.0), (3003, 0.0), (3004, 0.005996142439201192), (3005, 0.0), (3006, 0.0), (3007, 0.0), (3008, 0.0), (3009, 0.0), (3010, 0.0), (3011, 0.0), (3012, 0.005855042019881415), (3013, 0.09058706493385797), (3014, 0.0052229355531488485), (3015, 0.006491588181533592), (3016, 0.0), (3017, 0.0), (3018, 0.0), (3019, 0.021014508439663803), (3020, 0.0), (3021, 0.0), (3022, 0.0), (3023, 0.0), (3024, 0.004547471900584284), (3025, 0.0), (3026, 0.0), (3027, 0.004743954303625808), (3028, 0.005465196512364046), (3029, 0.0), (3030, 0.05123773922558748), (3031, 0.0), (3032, 0.006465890442932019), (3033, 0.0), (3034, 0.0), (3035, 0.0), (3036, 0.005556055294863248), (3037, 0.005440823937740521), (3038, 0.0), (3039, 0.0), (3040, 0.0), (3041, 0.0), (3042, 0.0), (3043, 0.020469061516119123), (3044, 0.006005926060154581), (3045, 0.0), (3046, 0.0), (3047, 0.0), (3048, 0.0), (3049, 0.0), (3050, 0.005534257616189062), (3051, 0.006820481138106099), (3052, 0.03045620420195626), (3053, 0.0), (3054, 0.0), (3055, 0.0), (3056, 0.004494169024942327), (3057, 0.0), (3058, 0.0), (3059, 0.0), (3060, 0.0), (3061, 0.0), (3062, 0.005702184108178229), (3063, 0.0), (3064, 0.0), (3065, 0.0049015364745416765), (3066, 0.0), (3067, 0.005047399333869054), (3068, 0.0), (3069, 0.0), (3070, 0.03648382873296403), (3071, 0.005325234203803706), (3072, 0.006666074119449924), (3073, 0.0), (3074, 0.006234403355239938), (3075, 0.0059757722303550856), (3076, 0.00643159954163837), (3077, 0.0), (3078, 0.0), (3079, 0.0), (3080, 0.0), (3081, 0.006423218965095001), (3082, 0.0), (3083, 0.0), (3084, 0.0), (3085, 0.0), (3086, 0.018702854854363418), (3087, 0.0), (3088, 0.0), (3089, 0.0), (3090, 0.0), (3091, 0.004481206011104108), (3092, 0.027429806233588587), (3093, 0.0), (3094, 0.007326227646075008), (3095, 0.012917566048474185), (3096, 0.005099098962026175), (3097, 0.005763942651900222), (3098, 0.0), (3099, 0.013497502420193895), (3100, 0.0), (3101, 0.0), (3102, 0.042645106354067826), (3103, 0.0), (3104, 0.0), (3105, 0.0), (3106, 0.0), (3107, 0.0), (3108, 0.004997854863772404), (3109, 0.0), (3110, 0.013124378599275758), (3111, 0.004818256228737623), (3112, 0.006125466219713343), (3113, 0.02690118014713243), (3114, 0.0), (3115, 0.03334779719152766), (3116, 0.005522608151018924), (3117, 0.0), (3118, 0.012376798278198554), (3119, 0.016114214909947484), (3120, 0.005096842275694315), (3121, 0.0), (3122, 0.005400524620835159), (3123, 0.006085289063353338), (3124, 0.0), (3125, 0.005429200410632441), (3126, 0.0), (3127, 0.0), (3128, 0.0), (3129, 0.0), (3130, 0.0), (3131, 0.0), (3132, 0.0), (3133, 0.028824698730417007), (3134, 0.0), (3135, 0.0), (3136, 0.0), (3137, 0.004907351909730869), (3138, 0.0), (3139, 0.0), (3140, 0.006340684697327576), (3141, 0.0), (3142, 0.01608370793614327), (3143, 0.06485247135396793), (3144, 0.0), (3145, 0.0), (3146, 0.0059926622765651034), (3147, 0.005347107647120458), (3148, 0.006824341833608083), (3149, 0.0), (3150, 0.0), (3151, 0.004982493026738598), (3152, 0.0044245080720737295), (3153, 0.00596301370373208), (3154, 0.02190864814070855), (3155, 0.16689760244451163), (3156, 0.0), (3157, 0.0), (3158, 0.0), (3159, 0.0), (3160, 0.0), (3161, 0.0), (3162, 0.0), (3163, 0.0), (3164, 0.0), (3165, 0.0058407459686070475), (3166, 0.006565610958825507), (3167, 0.0), (3168, 0.0), (3169, 0.0), (3170, 0.005682826907349544), (3171, 0.018969737592994092), (3172, 0.0), (3173, 0.0), (3174, 0.0), (3175, 0.0), (3176, 0.0), (3177, 0.019538869168970165), (3178, 0.007592033600232746), (3179, 0.0), (3180, 0.0), (3181, 0.0), (3182, 0.005913756226482594), (3183, 0.005525010668588065), (3184, 0.0058290504159857984), (3185, 0.0), (3186, 0.0), (3187, 0.006145507309359108), (3188, 0.0), (3189, 0.02750562227431086), (3190, 0.0), (3191, 0.0), (3192, 0.014044613376402136), (3193, 0.0), (3194, 0.006172003528275506), (3195, 0.005632692275887418), (3196, 0.006349149671222215), (3197, 0.0), (3198, 0.005552515459279604), (3199, 0.004040779931968116), (3200, 0.005002360943085123), (3201, 0.0), (3202, 0.0), (3203, 0.0), (3204, 0.0), (3205, 0.0), (3206, 0.0), (3207, 0.0), (3208, 0.0), (3209, 0.0), (3210, 0.020147971297498415), (3211, 0.0), (3212, 0.0), (3213, 0.0), (3214, 0.0051474728183651605), (3215, 0.0), (3216, 0.02397387482676639), (3217, 0.0), (3218, 0.005251574114845223), (3219, 0.006511892259078251), (3220, 0.004765911076542545), (3221, 0.0), (3222, 0.029912948281270883), (3223, 0.0), (3224, 0.0), (3225, 0.023848870672148005), (3226, 0.005294815592632131), (3227, 0.005178609127543603), (3228, 0.036348817773240595), (3229, 0.0), (3230, 0.0), (3231, 0.0), (3232, 0.012769022358763102), (3233, 0.006098928904082232), (3234, 0.027966033904201694), (3235, 0.005277872356880527), (3236, 0.0), (3237, 0.0056239258105384125), (3238, 0.0), (3239, 0.0), (3240, 0.0), (3241, 0.005196562495481189), (3242, 0.0), (3243, 0.0), (3244, 0.0), (3245, 0.03969602607163833), (3246, 0.0), (3247, 0.0), (3248, 0.005657586223130671), (3249, 0.0), (3250, 0.0), (3251, 0.0), (3252, 0.0), (3253, 0.0), (3254, 0.004873183278241494), (3255, 0.0), (3256, 0.0), (3257, 0.007968881716505031), (3258, 0.005628986476111626), (3259, 0.014394433128389828), (3260, 0.0), (3261, 0.0), (3262, 0.006779762742550451), (3263, 0.09165425191129759), (3264, 0.0), (3265, 0.0), (3266, 0.0), (3267, 0.01089668408206328), (3268, 0.0058200575321653205), (3269, 0.0), (3270, 0.0), (3271, 0.0), (3272, 0.0), (3273, 0.005688228388604606), (3274, 0.005704114314825237), (3275, 0.020552277163615865), (3276, 0.007190196976435088), (3277, 0.0), (3278, 0.005299360704371609), (3279, 0.0), (3280, 0.0), (3281, 0.0), (3282, 0.0063198240364788095), (3283, 0.0), (3284, 0.004343395313715852), (3285, 0.0), (3286, 0.0), (3287, 0.0), (3288, 0.025417511968950285), (3289, 0.0), (3290, 0.0), (3291, 0.007054193241365621), (3292, 0.0), (3293, 0.004736977002476052), (3294, 0.020542301847526572), (3295, 0.0), (3296, 0.005672623617524199), (3297, 0.005372958500424354), (3298, 0.005270736585130937), (3299, 0.0), (3300, 0.00604540545325529), (3301, 0.006918902233250066), (3302, 0.006386608376952457), (3303, 0.005272579000788084), (3304, 0.005569383196103447), (3305, 0.0), (3306, 0.04472090728363435), (3307, 0.0), (3308, 0.0067708379011723035), (3309, 0.0), (3310, 0.0), (3311, 0.005235965954995285), (3312, 0.04333997805705411), (3313, 0.0), (3314, 0.005553266784722063), (3315, 0.04707147631599913), (3316, 0.0038072312474510678), (3317, 0.01544166077043509), (3318, 0.005267567351889095), (3319, 0.02437714363439754), (3320, 0.0), (3321, 0.0), (3322, 0.0), (3323, 0.0), (3324, 0.0), (3325, 0.008862591817151797), (3326, 0.005820525713159394), (3327, 0.005215927989192195), (3328, 0.00345251394312841), (3329, 0.0), (3330, 0.0055969464866751), (3331, 0.004590849955906716), (3332, 0.0), (3333, 0.0), (3334, 0.014173298957857497), (3335, 0.0), (3336, 0.0), (3337, 0.0), (3338, 0.0), (3339, 0.018257457295162132), (3340, 0.0), (3341, 0.0), (3342, 0.00520054947053657), (3343, 0.024967393479638778), (3344, 0.03279080096644965), (3345, 0.02848191769947352), (3346, 0.006123953960934999), (3347, 0.004712435060487742), (3348, 0.0), (3349, 0.005244243608430134), (3350, 0.0), (3351, 0.022885358259038813), (3352, 0.005411142850893821), (3353, 0.005102071777202329), (3354, 0.0), (3355, 0.0069732216996103115), (3356, 0.0), (3357, 0.06367392431179443), (3358, 0.0), (3359, 0.005986448635921443), (3360, 0.004750735090308906), (3361, 0.03471963965267983), (3362, 0.0), (3363, 0.0060038588851131025), (3364, 0.005726070439841624), (3365, 0.004124937431430097), (3366, 0.02614541120002654), (3367, 0.0), (3368, 0.0), (3369, 0.0), (3370, 0.017263409276393325), (3371, 0.0), (3372, 0.0), (3373, 0.04231422174456819), (3374, 0.017472986873740208), (3375, 0.0), (3376, 0.0), (3377, 0.013857902893136645), (3378, 0.0), (3379, 0.0062459854418119055), (3380, 0.004843335271786305), (3381, 0.0), (3382, 0.034248709879998576), (3383, 0.0), (3384, 0.0), (3385, 0.048522103381214134), (3386, 0.005498050902283641), (3387, 0.0), (3388, 0.00600110424515327), (3389, 0.004879798214895662), (3390, 0.0), (3391, 0.0), (3392, 0.0), (3393, 0.005093503812385647), (3394, 0.0), (3395, 0.0), (3396, 0.0), (3397, 0.0), (3398, 0.0), (3399, 0.0051991995852901235), (3400, 0.0), (3401, 0.0), (3402, 0.005762344861487222), (3403, 0.03079719785106736), (3404, 0.0), (3405, 0.0), (3406, 0.005985468924944161), (3407, 0.00549283072593914), (3408, 0.005625578912935315), (3409, 0.03445874756662525), (3410, 0.0), (3411, 0.0), (3412, 0.0), (3413, 0.0068791822203001065), (3414, 0.0), (3415, 0.02323932835696508), (3416, 0.0), (3417, 0.006233438584866481), (3418, 0.012110749798424192), (3419, 0.0), (3420, 0.0), (3421, 0.0), (3422, 0.0), (3423, 0.0), (3424, 0.0), (3425, 0.005708789401179327), (3426, 0.0), (3427, 0.024742773295958122), (3428, 0.0), (3429, 0.0), (3430, 0.0), (3431, 0.0), (3432, 0.0), (3433, 0.005508450925615712), (3434, 0.0), (3435, 0.0059143964815114684), (3436, 0.006131382496805802), (3437, 0.02056479221920548), (3438, 0.030763388423025808), (3439, 0.0), (3440, 0.0), (3441, 0.0), (3442, 0.0), (3443, 0.03594167820601044), (3444, 0.0), (3445, 0.005855450178666209), (3446, 0.0), (3447, 0.005312048101771805), (3448, 0.0), (3449, 0.00575135437880245), (3450, 0.06105043551603359), (3451, 0.08714169142347145), (3452, 0.0), (3453, 0.0), (3454, 0.0), (3455, 0.0), (3456, 0.018832200088303205), (3457, 0.0), (3458, 0.0), (3459, 0.0), (3460, 0.005188230251736764), (3461, 0.0), (3462, 0.0), (3463, 0.025606816026019472), (3464, 0.024291438093983223), (3465, 0.013754518043744413), (3466, 0.0), (3467, 0.0), (3468, 0.0), (3469, 0.026022633518791076), (3470, 0.0), (3471, 0.0049010082384660664), (3472, 0.0), (3473, 0.0), (3474, 0.004867477655228243), (3475, 0.0), (3476, 0.0), (3477, 0.03661533481363788), (3478, 0.0), (3479, 0.058650412226638055), (3480, 0.0), (3481, 0.0), (3482, 0.0), (3483, 0.020084705258004182), (3484, 0.0), (3485, 0.0), (3486, 0.0), (3487, 0.0052754985253058335), (3488, 0.0), (3489, 0.0), (3490, 0.0), (3491, 0.0), (3492, 0.005813427669759685), (3493, 0.006800927488312493), (3494, 0.0), (3495, 0.0), (3496, 0.0061881106885834135), (3497, 0.0), (3498, 0.005648608016520207), (3499, 0.02429305295378586), (3500, 0.005461821460262421), (3501, 0.005975865195339291), (3502, 0.0), (3503, 0.029376806579059417), (3504, 0.042461685615513264), (3505, 0.0), (3506, 0.0056453118497994175), (3507, 0.0), (3508, 0.0), (3509, 0.0), (3510, 0.0), (3511, 0.006017920806078216), (3512, 0.00802672893709107), (3513, 0.0), (3514, 0.0), (3515, 0.0), (3516, 0.0056481651759284785), (3517, 0.0), (3518, 0.0), (3519, 0.0), (3520, 0.0), (3521, 0.006165712923487667), (3522, 0.0), (3523, 0.0), (3524, 0.006514380541676419), (3525, 0.0), (3526, 0.005420446886155796), (3527, 0.005295994537406635), (3528, 0.0), (3529, 0.0), (3530, 0.0), (3531, 0.0), (3532, 0.0), (3533, 0.0), (3534, 0.0), (3535, 0.017473500992158084), (3536, 0.0), (3537, 0.0), (3538, 0.0), (3539, 0.0), (3540, 0.0), (3541, 0.005778121264964648), (3542, 0.0058579486596037145), (3543, 0.0), (3544, 0.0), (3545, 0.0), (3546, 0.004742792862414249), (3547, 0.0), (3548, 0.0), (3549, 0.0), (3550, 0.0), (3551, 0.005645253434014251), (3552, 0.008214881587879936), (3553, 0.01688018701876559), (3554, 0.0), (3555, 0.0), (3556, 0.004586125990334857), (3557, 0.005299788874678403), (3558, 0.005440967094023336), (3559, 0.0), (3560, 0.006460539925275612), (3561, 0.0), (3562, 0.025861247860608207), (3563, 0.005277451439884459), (3564, 0.005942978795182851), (3565, 0.0), (3566, 0.0), (3567, 0.0), (3568, 0.0), (3569, 0.0048536772346740005), (3570, 0.0), (3571, 0.005809778412234513), (3572, 0.0), (3573, 0.0), (3574, 0.0), (3575, 0.005094442826668258), (3576, 0.0), (3577, 0.0058442938694296415), (3578, 0.03883489675596961), (3579, 0.0044268826122964055), (3580, 0.0), (3581, 0.0), (3582, 0.014291359532416403), (3583, 0.04936921593025819), (3584, 0.0), (3585, 0.0), (3586, 0.014815737384537992), (3587, 0.0), (3588, 0.0), (3589, 0.0), (3590, 0.005926394023891883), (3591, 0.0), (3592, 0.0), (3593, 0.0), (3594, 0.0), (3595, 0.04939395162864912), (3596, 0.0), (3597, 0.0), (3598, 0.0), (3599, 0.0), (3600, 0.0), (3601, 0.005393978056616438), (3602, 0.0), (3603, 0.0), (3604, 0.0), (3605, 0.0), (3606, 0.0), (3607, 0.0), (3608, 0.0), (3609, 0.0), (3610, 0.0), (3611, 0.0), (3612, 0.0430688279013675), (3613, 0.006216497729889914), (3614, 0.005297908307997737), (3615, 0.0), (3616, 0.0), (3617, 0.0), (3618, 0.006081548808782361), (3619, 0.0), (3620, 0.006685818069092489), (3621, 0.0), (3622, 0.0), (3623, 0.006248386451332908), (3624, 0.005753967173207019), (3625, 0.0), (3626, 0.0048460157667641396), (3627, 0.0), (3628, 0.026508055940088295), (3629, 0.0), (3630, 0.0), (3631, 0.0), (3632, 0.0), (3633, 0.0), (3634, 0.005366527567274644), (3635, 0.006579424963802125), (3636, 0.0), (3637, 0.016076742703084596), (3638, 0.037366148114520006), (3639, 0.005882392667697481), (3640, 0.006353507883915637), (3641, 0.005821704430150826), (3642, 0.014315999800529897), (3643, 0.005682990438389896), (3644, 0.0), (3645, 0.015134748489112339), (3646, 0.0056027735766683105), (3647, 0.0), (3648, 0.0), (3649, 0.0), (3650, 0.0), (3651, 0.0), (3652, 0.013250637567750039), (3653, 0.005968957779279586), (3654, 0.005993192482026588), (3655, 0.004921784804813956), (3656, 0.0), (3657, 0.005134259347319226), (3658, 0.0), (3659, 0.014623824307462698), (3660, 0.005582754704268204), (3661, 0.0), (3662, 0.026458913374735625), (3663, 0.0), (3664, 0.05112817520130089), (3665, 0.0), (3666, 0.00568608470402491), (3667, 0.00879948213953497), (3668, 0.0), (3669, 0.0050058748571679326), (3670, 0.01324428579015662), (3671, 0.0), (3672, 0.0), (3673, 0.005876282002438009), (3674, 0.0), (3675, 0.020532202390319755), (3676, 0.0), (3677, 0.0), (3678, 0.0), (3679, 0.0), (3680, 0.00617810954082387), (3681, 0.025937681182348148), (3682, 0.0), (3683, 0.0), (3684, 0.0), (3685, 0.0), (3686, 0.0), (3687, 0.0), (3688, 0.0), (3689, 0.005731559359938505), (3690, 0.0), (3691, 0.0), (3692, 0.00598225212936706), (3693, 0.0), (3694, 0.022743813900522762), (3695, 0.0), (3696, 0.03531637542262336), (3697, 0.0), (3698, 0.0), (3699, 0.013468042604232847), (3700, 0.0), (3701, 0.023506507308483745), (3702, 0.0), (3703, 0.0), (3704, 0.005952548494680652), (3705, 0.005229798104951386), (3706, 0.005111193143294844), (3707, 0.005732012700515197), (3708, 0.013819214246445756), (3709, 0.0), (3710, 0.08295096787167347), (3711, 0.03463235175192958), (3712, 0.0), (3713, 0.0), (3714, 0.0), (3715, 0.0), (3716, 0.0), (3717, 0.0), (3718, 0.0), (3719, 0.0), (3720, 0.0), (3721, 0.0), (3722, 0.0), (3723, 0.0), (3724, 0.0), (3725, 0.0), (3726, 0.0), (3727, 0.006506761817076538), (3728, 0.005862688011912999), (3729, 0.0), (3730, 0.0), (3731, 0.010386207159484146), (3732, 0.0), (3733, 0.0), (3734, 0.005663007320859722), (3735, 0.0), (3736, 0.0), (3737, 0.059868523770570115), (3738, 0.0), (3739, 0.005315833954290964), (3740, 0.0), (3741, 0.014556622439709989), (3742, 0.005151348103847487), (3743, 0.0), (3744, 0.0), (3745, 0.0070833387624188275), (3746, 0.0), (3747, 0.0), (3748, 0.0), (3749, 0.006164333964546263), (3750, 0.0), (3751, 0.0), (3752, 0.040428761670744814), (3753, 0.0), (3754, 0.0055871677675823055), (3755, 0.005310779721412552), (3756, 0.016328539072572448), (3757, 0.0), (3758, 0.0), (3759, 0.0), (3760, 0.0), (3761, 0.0), (3762, 0.0), (3763, 0.0061513785288393585), (3764, 0.025909050876839854), (3765, 0.03349817385380478), (3766, 0.006127836104294893), (3767, 0.0051560645876768995), (3768, 0.0), (3769, 0.0), (3770, 0.0), (3771, 0.00595523269535858), (3772, 0.006227535548829053), (3773, 0.0), (3774, 0.0), (3775, 0.0), (3776, 0.0), (3777, 0.051271028100067895), (3778, 0.005214029907479681), (3779, 0.0), (3780, 0.005966656730324396), (3781, 0.0), (3782, 0.0), (3783, 0.0), (3784, 0.005602500369282156), (3785, 0.0), (3786, 0.0), (3787, 0.0), (3788, 0.0), (3789, 0.0), (3790, 0.0241938032210397), (3791, 0.0), (3792, 0.0), (3793, 0.025927965130337263), (3794, 0.012502178193231737), (3795, 0.0), (3796, 0.0), (3797, 0.006389256253890547), (3798, 0.0), (3799, 0.005464167458250539), (3800, 0.0), (3801, 0.06646077301190559), (3802, 0.0), (3803, 0.0), (3804, 0.0), (3805, 0.0), (3806, 0.0), (3807, 0.005874747097095215), (3808, 0.0), (3809, 0.006463433664912079), (3810, 0.0), (3811, 0.005731904952902111), (3812, 0.0), (3813, 0.005317252262005167), (3814, 0.0), (3815, 0.0), (3816, 0.0), (3817, 0.0), (3818, 0.0), (3819, 0.005851881920982381), (3820, 0.0), (3821, 0.0), (3822, 0.005567404508203259), (3823, 0.0), (3824, 0.0), (3825, 0.0), (3826, 0.005229478549320513), (3827, 0.005513609555070301), (3828, 0.02047156704271691), (3829, 0.005106630746758973), (3830, 0.0), (3831, 0.0), (3832, 0.006183521364053578), (3833, 0.0), (3834, 0.0), (3835, 0.003672511537664358), (3836, 0.0), (3837, 0.0), (3838, 0.0), (3839, 0.005226442763212705), (3840, 0.0), (3841, 0.0), (3842, 0.0), (3843, 0.0), (3844, 0.02459465711273878), (3845, 0.006106556106384069), (3846, 0.0), (3847, 0.0), (3848, 0.0), (3849, 0.0), (3850, 0.0), (3851, 0.0), (3852, 0.0), (3853, 0.0), (3854, 0.019464750965967767), (3855, 0.005048991519162696), (3856, 0.0), (3857, 0.04351327116076772), (3858, 0.0), (3859, 0.0), (3860, 0.01241119264725318), (3861, 0.0), (3862, 0.01976025193211837), (3863, 0.0), (3864, 0.0), (3865, 0.0), (3866, 0.006839497218948918), (3867, 0.006134765880511704), (3868, 0.005329562705228012), (3869, 0.0), (3870, 0.0), (3871, 0.0), (3872, 0.0), (3873, 0.006260878137818908), (3874, 0.0), (3875, 0.025207454003781455), (3876, 0.006120248704134225), (3877, 0.0), (3878, 0.0), (3879, 0.0), (3880, 0.005050609844274301), (3881, 0.0), (3882, 0.006195192506532234), (3883, 0.005532114035978104), (3884, 0.0), (3885, 0.0), (3886, 0.0), (3887, 0.02985942292948737), (3888, 0.005900412593893642), (3889, 0.0), (3890, 0.0054830008616171926), (3891, 0.0), (3892, 0.006313588145953999), (3893, 0.006277014924590932), (3894, 0.0), (3895, 0.005789982089573556), (3896, 0.0), (3897, 0.0), (3898, 0.005126937680541648), (3899, 0.0), (3900, 0.005911617626908378), (3901, 0.005988859444500989), (3902, 0.0068075180045164595), (3903, 0.0063246981390576405), (3904, 0.006152846147478634), (3905, 0.0), (3906, 0.0), (3907, 0.0), (3908, 0.0), (3909, 0.0), (3910, 0.005274059954416843), (3911, 0.0), (3912, 0.0), (3913, 0.004790208922320793), (3914, 0.0), (3915, 0.04577687037725328), (3916, 0.022222731226629416), (3917, 0.005708940252420452), (3918, 0.0), (3919, 0.006103749716297093), (3920, 0.005800389011373632), (3921, 0.0), (3922, 0.006387397698624329), (3923, 0.0), (3924, 0.020314858000564665), (3925, 0.03806702505457921), (3926, 0.0), (3927, 0.0046267462315798015), (3928, 0.005106178939412209), (3929, 0.0), (3930, 0.0), (3931, 0.0), (3932, 0.005625006800686897), (3933, 0.0), (3934, 0.0), (3935, 0.0), (3936, 0.0), (3937, 0.0), (3938, 0.0), (3939, 0.0), (3940, 0.0), (3941, 0.014123903202217769), (3942, 0.0), (3943, 0.0), (3944, 0.0), (3945, 0.0), (3946, 0.010930838695811206), (3947, 0.014771793812063743), (3948, 0.0), (3949, 0.0), (3950, 0.02584858550756471), (3951, 0.0), (3952, 0.005875322086271624), (3953, 0.005856621105434215), (3954, 0.006559126538027618), (3955, 0.0), (3956, 0.004896538371530155), (3957, 0.0), (3958, 0.0), (3959, 0.020248948468348765), (3960, 0.006243522403455857), (3961, 0.015034942820817255), (3962, 0.005827504368178062), (3963, 0.0), (3964, 0.0), (3965, 0.0), (3966, 0.05119391179660267), (3967, 0.0), (3968, 0.0), (3969, 0.0), (3970, 0.02401242282447107), (3971, 0.0), (3972, 0.061818286794409226), (3973, 0.005721648323482564), (3974, 0.005209476539710113), (3975, 0.0), (3976, 0.0), (3977, 0.0), (3978, 0.013398942545293726), (3979, 0.0), (3980, 0.0), (3981, 0.0), (3982, 0.0), (3983, 0.0043236271968308424), (3984, 0.005426873146859428), (3985, 0.0), (3986, 0.0), (3987, 0.0), (3988, 0.0), (3989, 0.0), (3990, 0.0066203443242506795), (3991, 0.0), (3992, 0.021429425602705172), (3993, 0.012739855941287228), (3994, 0.0), (3995, 0.0), (3996, 0.0), (3997, 0.0), (3998, 0.0), (3999, 0.0), (4000, 0.015039942439161225), (4001, 0.0), (4002, 0.0), (4003, 0.021970447313559384), (4004, 0.01407716437296916), (4005, 0.006092454080554867), (4006, 0.0), (4007, 0.0), (4008, 0.0), (4009, 0.0), (4010, 0.029750704704208326), (4011, 0.005628684788001562), (4012, 0.0), (4013, 0.0), (4014, 0.005327464084170934), (4015, 0.0), (4016, 0.0050305664996344165), (4017, 0.0), (4018, 0.0), (4019, 0.0), (4020, 0.005384512261642355), (4021, 0.0), (4022, 0.0), (4023, 0.0), (4024, 0.005350477905706167), (4025, 0.00585632157209263), (4026, 0.0), (4027, 0.0), (4028, 0.0), (4029, 0.0), (4030, 0.0), (4031, 0.0), (4032, 0.0), (4033, 0.00547130419301561), (4034, 0.0), (4035, 0.0), (4036, 0.005613729057890389), (4037, 0.0), (4038, 0.05322218903532735), (4039, 0.0), (4040, 0.0), (4041, 0.0), (4042, 0.0), (4043, 0.0), (4044, 0.0), (4045, 0.0), (4046, 0.006246826001189595), (4047, 0.0), (4048, 0.013322955012220037), (4049, 0.0), (4050, 0.0), (4051, 0.006125828972133718), (4052, 0.0), (4053, 0.0054468886360931265), (4054, 0.031399362799517126), (4055, 0.0), (4056, 0.030787821630497564), (4057, 0.0), (4058, 0.0), (4059, 0.0), (4060, 0.01235576355963098), (4061, 0.0), (4062, 0.0), (4063, 0.0), (4064, 0.0), (4065, 0.0), (4066, 0.004881134487552662), (4067, 0.0), (4068, 0.019024795962159415), (4069, 0.005887182633931596), (4070, 0.0), (4071, 0.0), (4072, 0.0), (4073, 0.026208534766995424), (4074, 0.004993899379716724), (4075, 0.0), (4076, 0.0), (4077, 0.0), (4078, 0.0), (4079, 0.005729531113487211), (4080, 0.0), (4081, 0.0), (4082, 0.006946356254232959), (4083, 0.0), (4084, 0.0), (4085, 0.005428364553615956), (4086, 0.0), (4087, 0.005796086540840832), (4088, 0.01406012650131957), (4089, 0.0), (4090, 0.0), (4091, 0.034318942327496244), (4092, 0.005572211032666493), (4093, 0.07894952882343344), (4094, 0.0), (4095, 0.017951094302201424), (4096, 0.0110817344078449), (4097, 0.028487260397200027), (4098, 0.031511775928284934), (4099, 0.0), (4100, 0.08364336935252434), (4101, 0.005647847748623947), (4102, 0.0), (4103, 0.0), (4104, 0.0), (4105, 0.01674177713460664), (4106, 0.0), (4107, 0.0), (4108, 0.0), (4109, 0.0), (4110, 0.0), (4111, 0.031693851609783746), (4112, 0.0), (4113, 0.005790174792587627), (4114, 0.0), (4115, 0.0), (4116, 0.005816237651159507), (4117, 0.006487463102637258), (4118, 0.013958964051761887), (4119, 0.031241184994378546), (4120, 0.030780791608212496), (4121, 0.05091441663894418), (4122, 0.0), (4123, 0.05546870844573687), (4124, 0.014895752768692355), (4125, 0.0), (4126, 0.0), (4127, 0.0), (4128, 0.0), (4129, 0.0), (4130, 0.006620404534532878), (4131, 0.0), (4132, 0.0), (4133, 0.005991725526390504), (4134, 0.0), (4135, 0.032212247129801724), (4136, 0.0), (4137, 0.00545860755104755), (4138, 0.006425861047772359), (4139, 0.0), (4140, 0.0), (4141, 0.030869825928905387), (4142, 0.0), (4143, 0.03241176781428433), (4144, 0.0), (4145, 0.0), (4146, 0.029363805017985956), (4147, 0.0), (4148, 0.03337818345062389), (4149, 0.0), (4150, 0.0), (4151, 0.004694044829575971), (4152, 0.005440723838105129), (4153, 0.0), (4154, 0.005627640621446845), (4155, 0.023347730307630193), (4156, 0.005032076905864521), (4157, 0.0), (4158, 0.0), (4159, 0.0), (4160, 0.005834781978182281), (4161, 0.0), (4162, 0.0), (4163, 0.006017263291316406), (4164, 0.011882933851558877), (4165, 0.013378939433854079), (4166, 0.0), (4167, 0.0), (4168, 0.0), (4169, 0.0), (4170, 0.0), (4171, 0.003562566989684937), (4172, 0.0), (4173, 0.024721996976778626), (4174, 0.0), (4175, 0.0), (4176, 0.005395008769699892), (4177, 0.0), (4178, 0.00615220574637267), (4179, 0.0), (4180, 0.0), (4181, 0.0), (4182, 0.004421450895502542), (4183, 0.005654752079328381), (4184, 0.0), (4185, 0.0), (4186, 0.023851369707810936), (4187, 0.006560638764277181), (4188, 0.0), (4189, 0.019105059289177655), (4190, 0.0), (4191, 0.0), (4192, 0.019230899232859755), (4193, 0.0), (4194, 0.0), (4195, 0.0), (4196, 0.0), (4197, 0.0), (4198, 0.0), (4199, 0.0), (4200, 0.0), (4201, 0.0), (4202, 0.006980886626656584), (4203, 0.056506951600342206), (4204, 0.0), (4205, 0.005893373142728232), (4206, 0.0), (4207, 0.0), (4208, 0.0), (4209, 0.0), (4210, 0.0), (4211, 0.0), (4212, 0.0), (4213, 0.0), (4214, 0.025032606143465384), (4215, 0.0), (4216, 0.013410724311978485), (4217, 0.0), (4218, 0.0), (4219, 0.0), (4220, 0.0), (4221, 0.0), (4222, 0.0), (4223, 0.0), (4224, 0.0), (4225, 0.0), (4226, 0.0), (4227, 0.014963708882263423), (4228, 0.0), (4229, 0.0), (4230, 0.0), (4231, 0.017750626437709655), (4232, 0.010601603101387986), (4233, 0.01453280988036956), (4234, 0.0), (4235, 0.038065039057271675), (4236, 0.0), (4237, 0.0), (4238, 0.0), (4239, 0.0), (4240, 0.0), (4241, 0.0), (4242, 0.014441244245405502), (4243, 0.005933516517489387), (4244, 0.006719371581672679), (4245, 0.0), (4246, 0.012460840604270424), (4247, 0.004909319896717681), (4248, 0.0), (4249, 0.006229626795988494), (4250, 0.0), (4251, 0.0), (4252, 0.0), (4253, 0.0), (4254, 0.0), (4255, 0.00580210705380916), (4256, 0.0), (4257, 0.0053755191493300505), (4258, 0.0), (4259, 0.005938663164030273), (4260, 0.0), (4261, 0.009827738587972876), (4262, 0.07232091764671014), (4263, 0.0), (4264, 0.0), (4265, 0.0), (4266, 0.005398290598712482), (4267, 0.02464377495621067), (4268, 0.019465445938049403), (4269, 0.00592186482304597), (4270, 0.0), (4271, 0.0), (4272, 0.0), (4273, 0.0), (4274, 0.0), (4275, 0.0), (4276, 0.0), (4277, 0.0), (4278, 0.0), (4279, 0.0), (4280, 0.0), (4281, 0.0), (4282, 0.005230132415793705), (4283, 0.0055543433792373635), (4284, 0.032520930705715066), (4285, 0.0), (4286, 0.027217883179507733), (4287, 0.005440909935264399), (4288, 0.01854361466830971), (4289, 0.0), (4290, 0.027115483936576684), (4291, 0.0), (4292, 0.0), (4293, 0.005678135824372987), (4294, 0.0), (4295, 0.006742395452554391), (4296, 0.0), (4297, 0.0), (4298, 0.0), (4299, 0.0), (4300, 0.0), (4301, 0.0), (4302, 0.0), (4303, 0.0), (4304, 0.0), (4305, 0.0), (4306, 0.0), (4307, 0.0), (4308, 0.0), (4309, 0.005647859543249251), (4310, 0.0), (4311, 0.00454557692553298), (4312, 0.0), (4313, 0.0), (4314, 0.0), (4315, 0.0), (4316, 0.0), (4317, 0.0), (4318, 0.0), (4319, 0.02166297420698346), (4320, 0.0), (4321, 0.029788487349186918), (4322, 0.0), (4323, 0.029170047717267816), (4324, 0.0), (4325, 0.012382269014805377), (4326, 0.0), (4327, 0.0), (4328, 0.0), (4329, 0.0), (4330, 0.0060573826579309355), (4331, 0.0), (4332, 0.0), (4333, 0.006005202433570094), (4334, 0.00568821532271053), (4335, 0.04189502793908561), (4336, 0.005958402346630896), (4337, 0.0), (4338, 0.0), (4339, 0.0), (4340, 0.0), (4341, 0.0), (4342, 0.02371781262551986), (4343, 0.0), (4344, 0.005483709008890801), (4345, 0.005853725604572821), (4346, 0.0), (4347, 0.02619826712122335), (4348, 0.0), (4349, 0.023945449321380527), (4350, 0.005372461300244138), (4351, 0.0), (4352, 0.03386328556075638), (4353, 0.0), (4354, 0.0), (4355, 0.0), (4356, 0.005399058643863939), (4357, 0.006144163602075702), (4358, 0.0), (4359, 0.0), (4360, 0.0), (4361, 0.0), (4362, 0.005611705582973685), (4363, 0.0), (4364, 0.0), (4365, 0.0), (4366, 0.01209295915660478), (4367, 0.0), (4368, 0.006079401336623744), (4369, 0.006044813042078527), (4370, 0.0), (4371, 0.006220595569215622), (4372, 0.0), (4373, 0.0), (4374, 0.044815144116494024), (4375, 0.0), (4376, 0.0), (4377, 0.0), (4378, 0.0), (4379, 0.01975676327405764), (4380, 0.07833562135010078), (4381, 0.0), (4382, 0.005421531333116387), (4383, 0.0), (4384, 0.02955103563559297), (4385, 0.0), (4386, 0.0), (4387, 1.0000000000000004), (4388, 0.0), (4389, 0.0), (4390, 0.0), (4391, 0.0), (4392, 0.0), (4393, 0.0), (4394, 0.005537236938054705), (4395, 0.0), (4396, 0.029209571400589492), (4397, 0.0), (4398, 0.0), (4399, 0.0), (4400, 0.0), (4401, 0.006236556427169839), (4402, 0.00561766220093847), (4403, 0.020407984645571392), (4404, 0.0), (4405, 0.0), (4406, 0.0), (4407, 0.0), (4408, 0.0), (4409, 0.0), (4410, 0.0), (4411, 0.00549013527363557), (4412, 0.006293730107316266), (4413, 0.0), (4414, 0.0), (4415, 0.0), (4416, 0.0), (4417, 0.0), (4418, 0.0), (4419, 0.005632924820154599), (4420, 0.006337141566996504), (4421, 0.0), (4422, 0.006484109739600366), (4423, 0.0), (4424, 0.0), (4425, 0.0), (4426, 0.0), (4427, 0.02359992177658024), (4428, 0.04922779566211678), (4429, 0.005474540057606578), (4430, 0.006541949376298903), (4431, 0.0), (4432, 0.004949112683199812), (4433, 0.0), (4434, 0.0), (4435, 0.014913761342502994), (4436, 0.04033209873882852), (4437, 0.0), (4438, 0.0), (4439, 0.0), (4440, 0.0), (4441, 0.02818553282162658), (4442, 0.01453483304306434), (4443, 0.005855364300884208), (4444, 0.041588781599219214), (4445, 0.0), (4446, 0.005526108764384882), (4447, 0.022705565877813347), (4448, 0.005989983025641071), (4449, 0.0), (4450, 0.04267416828479949), (4451, 0.027436072286349904), (4452, 0.12201826498064233), (4453, 0.028389482942440578), (4454, 0.0), (4455, 0.0), (4456, 0.0), (4457, 0.0), (4458, 0.0), (4459, 0.0), (4460, 0.0), (4461, 0.0), (4462, 0.0), (4463, 0.0), (4464, 0.0), (4465, 0.0413590665210952), (4466, 0.0), (4467, 0.0), (4468, 0.0), (4469, 0.014863719868250514), (4470, 0.006065762694113417), (4471, 0.0), (4472, 0.005366887621035737), (4473, 0.03050549174062897), (4474, 0.01295817742629486), (4475, 0.01903480798933084), (4476, 0.0), (4477, 0.006250074848317814), (4478, 0.0), (4479, 0.005493598523978475), (4480, 0.0), (4481, 0.04170899469557849), (4482, 0.025412169727760465), (4483, 0.0), (4484, 0.04073122317360898), (4485, 0.02560774428859329), (4486, 0.0), (4487, 0.005521553586361858), (4488, 0.0), (4489, 0.0060376046564896285), (4490, 0.006039405049099946), (4491, 0.0), (4492, 0.0), (4493, 0.06079564656712035), (4494, 0.006220860093101113), (4495, 0.0), (4496, 0.029630670736150253), (4497, 0.0), (4498, 0.0), (4499, 0.0), (4500, 0.027103825257492276), (4501, 0.005628734948458211), (4502, 0.017892252353324888), (4503, 0.04756786421110358), (4504, 0.0), (4505, 0.0), (4506, 0.0), (4507, 0.006509908254634698), (4508, 0.0), (4509, 0.0), (4510, 0.013802525992529758), (4511, 0.006111236188915824), (4512, 0.013005309881552456), (4513, 0.0), (4514, 0.0), (4515, 0.025032696834702484), (4516, 0.03844323484470094), (4517, 0.005316839531278641), (4518, 0.0), (4519, 0.0), (4520, 0.033871185482097436), (4521, 0.006271526770824597), (4522, 0.005634792653807149), (4523, 0.005190974121578078), (4524, 0.0), (4525, 0.03130711214529313), (4526, 0.0), (4527, 0.0), (4528, 0.006237197974411399), (4529, 0.0), (4530, 0.0065054671782908), (4531, 0.014960956654177347), (4532, 0.0), (4533, 0.005842019824272229), (4534, 0.0), (4535, 0.006562881576108367), (4536, 0.0056100607886538575), (4537, 0.0), (4538, 0.0), (4539, 0.027713351543758778), (4540, 0.0), (4541, 0.0), (4542, 0.0), (4543, 0.0), (4544, 0.0), (4545, 0.0), (4546, 0.006761528163386546), (4547, 0.0), (4548, 0.0), (4549, 0.0), (4550, 0.0), (4551, 0.0192502532769736), (4552, 0.0), (4553, 0.012757042230232394), (4554, 0.012843695896792063), (4555, 0.008432256794996412), (4556, 0.0), (4557, 0.014292618119012843), (4558, 0.0), (4559, 0.0), (4560, 0.0), (4561, 0.0), (4562, 0.029796950316091638), (4563, 0.005917585407547771), (4564, 0.0), (4565, 0.0), (4566, 0.005760449976330683), (4567, 0.0), (4568, 0.0), (4569, 0.0), (4570, 0.0), (4571, 0.007568712280843152), (4572, 0.0), (4573, 0.00514852857294691), (4574, 0.0), (4575, 0.0065678037632013), (4576, 0.0), (4577, 0.0), (4578, 0.0), (4579, 0.0), (4580, 0.0), (4581, 0.014545663052261787), (4582, 0.0), (4583, 0.0), (4584, 0.040183005458134205), (4585, 0.0), (4586, 0.0), (4587, 0.0), (4588, 0.0), (4589, 0.005825092930430615), (4590, 0.004941000692151051), (4591, 0.0056897061094751955), (4592, 0.0), (4593, 0.0054850393374737995), (4594, 0.006076110264776361), (4595, 0.0), (4596, 0.0), (4597, 0.0), (4598, 0.03944153761511825), (4599, 0.0), (4600, 0.02331540533286699), (4601, 0.0), (4602, 0.0), (4603, 0.0058119898152804855), (4604, 0.0), (4605, 0.0), (4606, 0.049321870112241206), (4607, 0.0), (4608, 0.0), (4609, 0.0), (4610, 0.01756687637975281), (4611, 0.0), (4612, 0.0), (4613, 0.0), (4614, 0.0), (4615, 0.0), (4616, 0.0), (4617, 0.006586415636481542), (4618, 0.0), (4619, 0.005883609025608534), (4620, 0.0), (4621, 0.0), (4622, 0.0), (4623, 0.013208117810288019), (4624, 0.006344341739529587), (4625, 0.006125629582212688), (4626, 0.04832232966031914), (4627, 0.0), (4628, 0.04599797053736848), (4629, 0.005530780053485914), (4630, 0.0), (4631, 0.0), (4632, 0.0058418638857797925), (4633, 0.0), (4634, 0.0), (4635, 0.0), (4636, 0.004925840785544961), (4637, 0.006104882164667516), (4638, 0.005020207762352319), (4639, 0.0), (4640, 0.006101438624330665), (4641, 0.0), (4642, 0.0), (4643, 0.005263613632673278), (4644, 0.0), (4645, 0.0), (4646, 0.0), (4647, 0.0), (4648, 0.0), (4649, 0.0), (4650, 0.005884691179020968), (4651, 0.0), (4652, 0.019007105607797482), (4653, 0.0), (4654, 0.0), (4655, 0.0), (4656, 0.012872347331396082), (4657, 0.0065123057274991515), (4658, 0.0461336198532151), (4659, 0.0), (4660, 0.0061702837899901075), (4661, 0.0), (4662, 0.024336745047374746), (4663, 0.0), (4664, 0.0), (4665, 0.0), (4666, 0.0), (4667, 0.0), (4668, 0.005644267317523051), (4669, 0.020647286580017212), (4670, 0.005434632823778589), (4671, 0.0), (4672, 0.0), (4673, 0.0184172890560429), (4674, 0.004287250464457227), (4675, 0.0), (4676, 0.0), (4677, 0.0), (4678, 0.0), (4679, 0.025052637642273858), (4680, 0.0), (4681, 0.0), (4682, 0.0), (4683, 0.0), (4684, 0.013367684169609815), (4685, 0.0), (4686, 0.0), (4687, 0.0), (4688, 0.0), (4689, 0.0), (4690, 0.0), (4691, 0.0), (4692, 0.0), (4693, 0.0), (4694, 0.0), (4695, 0.0), (4696, 0.0), (4697, 0.0), (4698, 0.0), (4699, 0.005498775011260053), (4700, 0.0), (4701, 0.005737018344756527), (4702, 0.0), (4703, 0.0), (4704, 0.0), (4705, 0.0), (4706, 0.005733646396773189), (4707, 0.0), (4708, 0.0), (4709, 0.0), (4710, 0.006525851748208581), (4711, 0.0), (4712, 0.005018592383447963), (4713, 0.005859745288809401), (4714, 0.0), (4715, 0.03613586115353112), (4716, 0.0), (4717, 0.0), (4718, 0.005632421612140559), (4719, 0.0), (4720, 0.0), (4721, 0.0), (4722, 0.0058677264053637705), (4723, 0.006246856854917693), (4724, 0.01397233280848375), (4725, 0.0312581998418985), (4726, 0.0), (4727, 0.014435391271163202), (4728, 0.0), (4729, 0.0), (4730, 0.0), (4731, 0.005765854292962797), (4732, 0.0), (4733, 0.004709948681540464), (4734, 0.005695429803808829), (4735, 0.013642155274526424), (4736, 0.03032977385771204), (4737, 0.0), (4738, 0.0), (4739, 0.010174734171961167), (4740, 0.0), (4741, 0.0), (4742, 0.0), (4743, 0.0), (4744, 0.0), (4745, 0.0), (4746, 0.0), (4747, 0.013535831302677997), (4748, 0.0), (4749, 0.0), (4750, 0.0), (4751, 0.0), (4752, 0.004295868778752067), (4753, 0.0), (4754, 0.0), (4755, 0.0), (4756, 0.0), (4757, 0.0), (4758, 0.0), (4759, 0.0)]\n"
          ]
        }
      ]
    },
    {
      "cell_type": "code",
      "source": [
        "len(Recommendation_Score)"
      ],
      "metadata": {
        "colab": {
          "base_uri": "https://localhost:8080/"
        },
        "id": "Yurlv3suvBN7",
        "outputId": "782659d4-1adb-488f-f083-979cf6542522"
      },
      "execution_count": 48,
      "outputs": [
        {
          "output_type": "execute_result",
          "data": {
            "text/plain": [
              "4760"
            ]
          },
          "metadata": {},
          "execution_count": 48
        }
      ]
    },
    {
      "cell_type": "code",
      "source": [
        "Sorted_Similar_Movies=sorted(Recommendation_Score,key=lambda x:x[1],reverse=True)\n",
        "print(Sorted_Similar_Movies)"
      ],
      "metadata": {
        "colab": {
          "base_uri": "https://localhost:8080/"
        },
        "id": "trw9R6XxvNVt",
        "outputId": "bf1d6adb-9ed1-495f-d2e1-668da0ed07ff"
      },
      "execution_count": 57,
      "outputs": [
        {
          "output_type": "stream",
          "name": "stdout",
          "text": [
            "[(4387, 1.0000000000000004), (3155, 0.16689760244451163), (418, 0.16264707753148328), (408, 0.13955155194334715), (2096, 0.1371048843099946), (809, 0.12485089165711391), (417, 0.12452402010129435), (4452, 0.12201826498064233), (981, 0.11941148804989306), (2015, 0.11865554691585979), (235, 0.11789284896921698), (1047, 0.11179805423382175), (2584, 0.11088223082237707), (61, 0.09693740291507605), (690, 0.09646545960324196), (910, 0.09512327834300363), (1621, 0.09412517820501577), (1693, 0.09359225803082385), (3263, 0.09165425191129759), (2067, 0.09162400387243347), (3013, 0.09058706493385797), (864, 0.0893924901930268), (3451, 0.08714169142347145), (2635, 0.08636891064386114), (4100, 0.08364336935252434), (3710, 0.08295096787167347), (1466, 0.08053279210342335), (4093, 0.07894952882343344), (1185, 0.07883162841827851), (4380, 0.07833562135010078), (636, 0.07592495284899746), (292, 0.07592136481893672), (2486, 0.07522956791429715), (458, 0.07333219661360865), (590, 0.0727811947258573), (4262, 0.07232091764671014), (2519, 0.07090999679696769), (804, 0.07057011979065979), (74, 0.06762537739820634), (2481, 0.06690171941313194), (3801, 0.06646077301190559), (3143, 0.06485247135396793), (622, 0.06455346558186209), (3357, 0.06367392431179443), (2918, 0.0619397561146493), (3972, 0.061818286794409226), (402, 0.061475473313234615), (1961, 0.06119418875052336), (3450, 0.06105043551603359), (4493, 0.06079564656712035), (582, 0.06069963920330828), (3737, 0.059868523770570115), (2448, 0.05980417837196897), (1237, 0.05974773241689973), (371, 0.05967133762745833), (198, 0.05910260290359686), (11, 0.058907785597904314), (3479, 0.058650412226638055), (1308, 0.058633940745246846), (62, 0.057659884879572375), (1971, 0.05706032401099423), (43, 0.05692974602973108), (4203, 0.056506951600342206), (1942, 0.05634555613577539), (668, 0.05606799171854847), (1410, 0.05571428535951135), (4123, 0.05546870844573687), (48, 0.05534310887745109), (1786, 0.05479158049868569), (1227, 0.05461535500028335), (1716, 0.05376703256953613), (1851, 0.05349053698353626), (2093, 0.05342075226923223), (4038, 0.05322218903532735), (1455, 0.05301672628575188), (2878, 0.052927379860509716), (2784, 0.05268461976710255), (1064, 0.052416051618858164), (2771, 0.052095626871581986), (266, 0.05186189337172043), (878, 0.051734832692175395), (1518, 0.05158511076852666), (2503, 0.051573716673348306), (1009, 0.05131888473255677), (3777, 0.051271028100067895), (3030, 0.05123773922558748), (3966, 0.05119391179660267), (2053, 0.05113191253385285), (3664, 0.05112817520130089), (4121, 0.05091441663894418), (456, 0.05066362048001639), (2320, 0.05029650811596201), (345, 0.050095926268378915), (1821, 0.05004704518970787), (1346, 0.04976965920400262), (495, 0.049645827759408116), (1408, 0.04956041687873781), (189, 0.049455645171362014), (3595, 0.04939395162864912), (3583, 0.04936921593025819), (698, 0.049359875397045325), (4606, 0.049321870112241206), (4428, 0.04922779566211678), (1487, 0.04883950233899049), (842, 0.048795698756053024), (543, 0.048613951671509475), (3385, 0.048522103381214134), (4626, 0.04832232966031914), (2638, 0.048315469924421726), (900, 0.04810254999964596), (88, 0.04758721476461443), (904, 0.04757585032309287), (4503, 0.04756786421110358), (3315, 0.04707147631599913), (1997, 0.047036813381114345), (2210, 0.0466708488139667), (83, 0.04649640303203152), (2335, 0.04634865591303814), (4658, 0.0461336198532151), (4628, 0.04599797053736848), (1815, 0.04590604500466261), (3915, 0.04577687037725328), (52, 0.04547733204944711), (370, 0.04533168190503262), (669, 0.04518564075307675), (216, 0.045095056915320696), (2040, 0.045090404768838396), (2190, 0.04507834096069319), (653, 0.04482423154898593), (4374, 0.044815144116494024), (3306, 0.04472090728363435), (270, 0.04470260334013732), (2058, 0.044149702688051295), (2721, 0.04372236353800072), (3857, 0.04351327116076772), (3312, 0.04333997805705411), (3612, 0.0430688279013675), (276, 0.04283472928366391), (170, 0.04282284917879667), (1996, 0.04268151545106137), (4450, 0.04267416828479949), (3102, 0.042645106354067826), (3504, 0.042461685615513264), (3373, 0.04231422174456819), (4335, 0.04189502793908561), (4481, 0.04170899469557849), (4444, 0.041588781599219214), (1058, 0.041414488740285665), (4465, 0.0413590665210952), (2035, 0.041088381536987496), (2082, 0.04104965447805026), (705, 0.04098332264717129), (4484, 0.04073122317360898), (147, 0.04043803851712291), (3752, 0.040428761670744814), (916, 0.04034327575436507), (4436, 0.04033209873882852), (2640, 0.04031298588638998), (2412, 0.04024095178692616), (4584, 0.040183005458134205), (2230, 0.04013487666727319), (3245, 0.03969602607163833), (1643, 0.039566816791297095), (676, 0.039556698851072665), (4598, 0.03944153761511825), (3578, 0.03883489675596961), (440, 0.03860375566077232), (4516, 0.03844323484470094), (1869, 0.03843862841427877), (1440, 0.038355328752840465), (1653, 0.03827527082275245), (3925, 0.03806702505457921), (4235, 0.038065039057271675), (1292, 0.03804048380966911), (360, 0.03788824404271117), (2702, 0.037793781647368116), (2268, 0.03766490376790738), (2499, 0.03755362550006243), (3638, 0.037366148114520006), (1080, 0.037272306809410904), (2390, 0.03698366007428638), (2647, 0.036971714260084734), (1711, 0.03691999303806447), (3477, 0.03661533481363788), (3070, 0.03648382873296403), (3228, 0.036348817773240595), (1193, 0.036346192141561914), (2438, 0.036313924343941595), (2255, 0.03628231042704692), (1387, 0.03622591151909254), (4715, 0.03613586115353112), (930, 0.03610318550683782), (3443, 0.03594167820601044), (1061, 0.03591628075028003), (1544, 0.035794868038299905), (689, 0.03564689757567911), (1318, 0.035612646670419724), (2130, 0.03549814615834453), (998, 0.03541468446984725), (2354, 0.035382949480698776), (3696, 0.03531637542262336), (2840, 0.03495755502235322), (3361, 0.03471963965267983), (899, 0.03468596611463281), (3711, 0.03463235175192958), (1025, 0.03453447536188147), (2091, 0.034495677795005224), (3409, 0.03445874756662525), (1375, 0.034433029407490864), (441, 0.034341850459060574), (741, 0.03432254916146884), (4091, 0.034318942327496244), (3382, 0.034248709879998576), (832, 0.03414618368499598), (1671, 0.0341119873792559), (1398, 0.034020689754276856), (173, 0.03395489147506035), (1984, 0.03394235718443589), (2407, 0.03388873485770515), (4520, 0.033871185482097436), (4352, 0.03386328556075638), (2666, 0.033843536812740826), (765, 0.03372829002218049), (3765, 0.03349817385380478), (4148, 0.03337818345062389), (3115, 0.03334779719152766), (1266, 0.03332285162946704), (2039, 0.03331446318310934), (1784, 0.03319969190240511), (1918, 0.03319965914272428), (512, 0.033176764711497934), (220, 0.03307739979488494), (553, 0.032985520132217554), (2627, 0.03292338356474864), (3344, 0.03279080096644965), (1257, 0.03272275540520195), (1109, 0.032656793193266136), (984, 0.03264804619845872), (125, 0.03257082250733242), (4284, 0.032520930705715066), (4143, 0.03241176781428433), (2899, 0.032409042671377654), (420, 0.032366580390817495), (78, 0.03229247686693335), (4135, 0.032212247129801724), (2637, 0.03207261024529231), (1969, 0.03196078886639504), (2283, 0.03189504499135351), (914, 0.03186549192762829), (1812, 0.03179048460546808), (562, 0.0317828671981781), (1380, 0.03173900776554345), (4111, 0.031693851609783746), (2592, 0.03168604704306367), (652, 0.03156017174783566), (898, 0.03154690146357054), (80, 0.03153230728407489), (442, 0.03152157125083423), (509, 0.031520335540268465), (685, 0.031515116896497906), (4098, 0.031511775928284934), (2653, 0.03146528345767108), (4054, 0.031399362799517126), (907, 0.031355738674465464), (4525, 0.03130711214529313), (4725, 0.0312581998418985), (4119, 0.031241184994378546), (2431, 0.031191686376996146), (2945, 0.031153669342543544), (1426, 0.031147590028992568), (2031, 0.031093521544586035), (4141, 0.030869825928905387), (3403, 0.03079719785106736), (4056, 0.030787821630497564), (4120, 0.030780791608212496), (1852, 0.030773356679054068), (3438, 0.030763388423025808), (696, 0.030759748154058117), (2482, 0.030716347448474984), (1859, 0.0305891942557477), (4473, 0.03050549174062897), (3052, 0.03045620420195626), (2330, 0.030434831822552678), (1132, 0.03041129557647171), (222, 0.030383259317879788), (4736, 0.03032977385771204), (2781, 0.030308809497134385), (1980, 0.030208562710489398), (2103, 0.03018018248425626), (1916, 0.03015855500974275), (1640, 0.030094999009089192), (1999, 0.03007110424558981), (1453, 0.030055432152302292), (305, 0.029994166424408202), (1502, 0.029987277672039618), (3222, 0.029912948281270883), (1443, 0.02987571778171657), (3887, 0.02985942292948737), (4562, 0.029796950316091638), (4321, 0.029788487349186918), (2417, 0.029764138053930998), (2301, 0.029752377429323077), (4010, 0.029750704704208326), (461, 0.029653116678834752), (4496, 0.029630670736150253), (491, 0.029618438940519038), (2521, 0.02959655979483668), (4384, 0.02955103563559297), (2432, 0.029446994393379534), (94, 0.029429715830941026), (166, 0.029395227904058054), (1710, 0.029389410096187073), (3503, 0.029376806579059417), (17, 0.0293733121426406), (4146, 0.029363805017985956), (1089, 0.029306334633980732), (2074, 0.029270035597627916), (2142, 0.0292669748816043), (1451, 0.02925421558214325), (60, 0.02924111815627462), (2139, 0.029220659743998983), (4396, 0.029209571400589492), (1142, 0.02917902647037234), (4323, 0.029170047717267816), (66, 0.029169659982047992), (2421, 0.029107214467728713), (2576, 0.028856121314008748), (3133, 0.028824698730417007), (1347, 0.02864542121577242), (1011, 0.028530441275220548), (1336, 0.028518965104157044), (2259, 0.028514849222352), (4097, 0.028487260397200027), (3345, 0.02848191769947352), (4453, 0.028389482942440578), (182, 0.028251113709599145), (2527, 0.02821417650717109), (4441, 0.02818553282162658), (1564, 0.028112361306844493), (1632, 0.028109932275396696), (3234, 0.027966033904201694), (2560, 0.027886419186541105), (2136, 0.027860760656358424), (366, 0.027806737906142978), (959, 0.02779795169346824), (163, 0.027785714470984126), (1597, 0.027783234136322475), (4539, 0.027713351543758778), (1809, 0.027693065268561298), (1270, 0.027683656460185207), (2720, 0.027668498149101828), (2869, 0.027651842814390842), (306, 0.02759364546807326), (1155, 0.027565363209240065), (3189, 0.02750562227431086), (2992, 0.027481100217998992), (1479, 0.027455583864006677), (4451, 0.027436072286349904), (3092, 0.027429806233588587), (558, 0.027416991894908115), (1766, 0.027393269152203366), (467, 0.027342487471085412), (795, 0.02726626306399476), (4286, 0.027217883179507733), (258, 0.027185623704097234), (2153, 0.027184983790214244), (962, 0.027160167110409493), (4290, 0.027115483936576684), (4500, 0.027103825257492276), (2309, 0.02707153489325285), (1666, 0.026997172353544346), (2071, 0.026919153688296057), (3113, 0.02690118014713243), (1469, 0.02689883096531277), (2645, 0.026807491654187297), (1788, 0.026774200970904972), (426, 0.02671713316753442), (1817, 0.02664358982535111), (1657, 0.026552300883182906), (1612, 0.026535595452182408), (3628, 0.026508055940088295), (2580, 0.026463927752495293), (3662, 0.026458913374735625), (1803, 0.0262767156892584), (4, 0.0262474337750479), (4073, 0.026208534766995424), (1511, 0.02620836665147486), (4347, 0.02619826712122335), (633, 0.026172340705560338), (427, 0.026156136147933405), (3366, 0.02614541120002654), (1638, 0.026111673879813214), (3469, 0.026022633518791076), (145, 0.025944763500675636), (3681, 0.025937681182348148), (3793, 0.025927965130337263), (2929, 0.025917856926309664), (3764, 0.025909050876839854), (1166, 0.02590552192613407), (3562, 0.025861247860608207), (3950, 0.02584858550756471), (2041, 0.0258189992524733), (1503, 0.025817622815709065), (4485, 0.02560774428859329), (3463, 0.025606816026019472), (1108, 0.02554883263523625), (2013, 0.025486952247358613), (242, 0.025482277756703205), (336, 0.025462495555945222), (1959, 0.02543485909895576), (3288, 0.025417511968950285), (4482, 0.025412169727760465), (46, 0.025363899226413432), (840, 0.025329161131437822), (718, 0.025292025964971633), (1978, 0.025256935025403583), (3875, 0.025207454003781455), (711, 0.025201608216019758), (2179, 0.02515148795457921), (1210, 0.025091562329474612), (4679, 0.025052637642273858), (4515, 0.025032696834702484), (4214, 0.025032606143465384), (3343, 0.024967393479638778), (1594, 0.02482959651813526), (1315, 0.02480121832114487), (2523, 0.024791832150749607), (3427, 0.024742773295958122), (4173, 0.024721996976778626), (2339, 0.02467570700719687), (4267, 0.02464377495621067), (2729, 0.024617920402149426), (1053, 0.024610734505243134), (1613, 0.024601859263423675), (1926, 0.024596375300667262), (3844, 0.02459465711273878), (592, 0.024550458601040544), (2381, 0.024499692650553396), (1607, 0.024471975330466068), (3319, 0.02437714363439754), (746, 0.02437708230363093), (4662, 0.024336745047374746), (3499, 0.02429305295378586), (3464, 0.024291438093983223), (1392, 0.02426353520324731), (937, 0.02425945214707118), (3790, 0.0241938032210397), (1818, 0.024155487556546923), (3970, 0.02401242282447107), (3216, 0.02397387482676639), (4349, 0.023945449321380527), (947, 0.023874903933412836), (4186, 0.023851369707810936), (3225, 0.023848870672148005), (4342, 0.02371781262551986), (1496, 0.023639215591466478), (1550, 0.023616350638636086), (4427, 0.02359992177658024), (658, 0.023571153938330192), (3701, 0.023506507308483745), (860, 0.02350007670621254), (2793, 0.023436950788867893), (1493, 0.02342550481594997), (4155, 0.023347730307630193), (4600, 0.02331540533286699), (2571, 0.023271984255670015), (2297, 0.02324525064175375), (3415, 0.02323932835696508), (2485, 0.02316905674542907), (1274, 0.023094999624035172), (226, 0.02307946562735691), (120, 0.023036214313681518), (2160, 0.023026571338152543), (678, 0.022942156252113897), (2410, 0.022927779616690853), (3351, 0.022885358259038813), (708, 0.02287151210575895), (738, 0.0227633165080706), (3694, 0.022743813900522762), (1701, 0.022727961615899725), (995, 0.022710979439856397), (533, 0.02270975362316893), (4447, 0.022705565877813347), (2207, 0.02260535165143226), (1184, 0.022604541792173596), (1459, 0.022577356401954844), (271, 0.022562426196995045), (1119, 0.022524731630836868), (1275, 0.022497325198849734), (1418, 0.022428386558217103), (2279, 0.02241000241889126), (1787, 0.02238433930804825), (1004, 0.022364944635755328), (2270, 0.022324745117388828), (3916, 0.022222731226629416), (1979, 0.022140418130025347), (2932, 0.02212307222755433), (1700, 0.022058954754645938), (1853, 0.022020925158535924), (2795, 0.022017762002200264), (1919, 0.021979669791440365), (4003, 0.021970447313559384), (3154, 0.02190864814070855), (1281, 0.021892043230176756), (664, 0.021727446824375895), (2016, 0.021698756326601377), (68, 0.02166466890752839), (4319, 0.02166297420698346), (701, 0.021519170948409903), (1327, 0.021517311627668817), (21, 0.021441142762409486), (3992, 0.021429425602705172), (214, 0.021409963448212745), (2318, 0.02138811135682499), (1929, 0.021327263874918647), (1506, 0.021326576786243816), (1631, 0.0212840854051424), (2522, 0.021112322447960796), (989, 0.021056733184571328), (2919, 0.021028300517981182), (3019, 0.021014508439663803), (2322, 0.02096081049722283), (1234, 0.020960040558024622), (51, 0.020943132076333512), (502, 0.02090873975316656), (534, 0.020893937508760584), (1141, 0.02085149255602099), (2112, 0.020800694512980507), (2214, 0.020730785747938643), (4669, 0.020647286580017212), (2097, 0.020622535550101476), (3437, 0.02056479221920548), (2334, 0.020564559095403615), (3275, 0.020552277163615865), (3294, 0.020542301847526572), (896, 0.020534270266913714), (3675, 0.020532202390319755), (3828, 0.02047156704271691), (3043, 0.020469061516119123), (4403, 0.020407984645571392), (3924, 0.020314858000564665), (2489, 0.02029914453491604), (831, 0.02025127607819828), (3959, 0.020248948468348765), (210, 0.02018912236089761), (3210, 0.020147971297498415), (2406, 0.020092527355184377), (3483, 0.020084705258004182), (1090, 0.020080140468813543), (1232, 0.020058263808482475), (1252, 0.020026707985119404), (1629, 0.019994640911745378), (450, 0.019921258147809474), (2254, 0.019918532479255804), (2903, 0.01989739508407959), (1967, 0.019892385046995278), (2934, 0.019822685137663703), (2961, 0.01980112261093109), (3862, 0.01976025193211837), (4379, 0.01975676327405764), (1224, 0.019736170511674766), (2996, 0.019656421062080737), (879, 0.019644504190028802), (76, 0.019618790606246102), (1000, 0.019606983281599148), (2037, 0.019562685472965732), (1160, 0.019553396679045477), (3177, 0.019538869168970165), (584, 0.01950352858611716), (479, 0.01948779322163358), (4268, 0.019465445938049403), (3854, 0.019464750965967767), (1334, 0.019453814646194195), (429, 0.019373145416069583), (2216, 0.019327852647568103), (799, 0.019303998785360335), (87, 0.019290781796675215), (4551, 0.0192502532769736), (4192, 0.019230899232859755), (2695, 0.019147109743595098), (5, 0.01910824457476542), (4189, 0.019105059289177655), (515, 0.019066539921685933), (2024, 0.019052915885299174), (986, 0.01903756866422813), (4475, 0.01903480798933084), (4068, 0.019024795962159415), (2910, 0.019014065015544087), (4652, 0.019007105607797482), (1665, 0.018970378858786673), (3171, 0.018969737592994092), (1385, 0.01891585362028437), (112, 0.018911802885890727), (1985, 0.018862732842831274), (3456, 0.018832200088303205), (2808, 0.018744592447491604), (1337, 0.018729194651454624), (870, 0.018720147745859273), (3086, 0.018702854854363418), (988, 0.018595820467130438), (1035, 0.018589578293855578), (4288, 0.01854361466830971), (2649, 0.018509251250290737), (2212, 0.01850694476544012), (4673, 0.0184172890560429), (866, 0.018388749068445218), (85, 0.018336595086157044), (3339, 0.018257457295162132), (1050, 0.018170949145184162), (1248, 0.018123458544038552), (2777, 0.018093178138742838), (2886, 0.018074201602592068), (2512, 0.018055726830938118), (806, 0.01803795922778337), (4095, 0.017951094302201424), (1183, 0.017917923822724682), (2607, 0.017892939664285915), (4502, 0.017892252353324888), (2065, 0.017886873946991618), (1595, 0.017873223591738246), (199, 0.017845037762968183), (455, 0.017789677179012184), (4231, 0.017750626437709655), (1360, 0.017711135517272415), (1377, 0.017705676778181734), (2055, 0.017629486112088692), (4610, 0.01756687637975281), (3535, 0.017473500992158084), (3374, 0.017472986873740208), (1739, 0.017433515707621774), (3370, 0.017263409276393325), (643, 0.01718654388738012), (2224, 0.01715079559214846), (2692, 0.017089374857113974), (236, 0.017085380783244536), (251, 0.01707017052161611), (149, 0.01704617110321497), (2534, 0.01702930358432093), (434, 0.017020979779132542), (2250, 0.01699207744499624), (2931, 0.016927206164832086), (1290, 0.016914372940069335), (3553, 0.01688018701876559), (566, 0.016742230281691958), (4105, 0.01674177713460664), (281, 0.016677858386692244), (1707, 0.016626413937193132), (124, 0.016538043090130114), (733, 0.016485989632458252), (2070, 0.016482873452764554), (816, 0.016466257162320204), (3756, 0.016328539072572448), (1148, 0.01628136247751271), (1674, 0.016272680344702674), (2602, 0.016164765926377524), (3119, 0.016114214909947484), (3142, 0.01608370793614327), (3637, 0.016076742703084596), (254, 0.01592533829802029), (207, 0.015872776664149463), (2727, 0.015855507063926175), (1754, 0.015813367746960346), (2275, 0.015805350440708778), (1343, 0.015762173167314302), (667, 0.01575546140258405), (2447, 0.015732927192323817), (547, 0.01566731971281614), (948, 0.015587419259965202), (368, 0.015540114901217832), (1572, 0.015487414484876167), (1591, 0.015441717561196168), (3317, 0.01544166077043509), (180, 0.015408173169166367), (2487, 0.015366986850932558), (1705, 0.015330615370672497), (942, 0.015292853297118218), (123, 0.01528995376388853), (829, 0.015242768725908915), (1922, 0.0152408713787996), (753, 0.015235514583130527), (244, 0.015213774746049194), (683, 0.015147699721018868), (3645, 0.015134748489112339), (385, 0.01507753135746833), (4000, 0.015039942439161225), (3961, 0.015034942820817255), (760, 0.014971075476103678), (4227, 0.014963708882263423), (4531, 0.014960956654177347), (976, 0.014957892431023117), (4435, 0.014913761342502994), (4124, 0.014895752768692355), (1774, 0.014883736600534235), (4469, 0.014863719868250514), (1230, 0.01486116666089271), (1874, 0.01483605675625401), (1432, 0.014831134555725331), (3586, 0.014815737384537992), (2939, 0.014774249012011333), (3947, 0.014771793812063743), (1116, 0.01473224707349494), (1937, 0.014720217130512026), (828, 0.014698958811262007), (89, 0.014682475914024645), (994, 0.014653014532644266), (2925, 0.014637582853984796), (3659, 0.014623824307462698), (2546, 0.014599022055221851), (3741, 0.014556622439709989), (1945, 0.014555593352353458), (1832, 0.014553216255315225), (1858, 0.014550512073302081), (1585, 0.01455025666338169), (931, 0.014547931412780275), (4581, 0.014545663052261787), (4442, 0.01453483304306434), (4233, 0.01453280988036956), (1736, 0.014517826619665003), (201, 0.014506912247274158), (181, 0.014455200299945738), (675, 0.014451812973951234), (4242, 0.014441244245405502), (4727, 0.014435391271163202), (3259, 0.014394433128389828), (2780, 0.014386109202201625), (544, 0.014386072642314405), (3642, 0.014315999800529897), (1128, 0.01430005747414083), (4557, 0.014292618119012843), (3582, 0.014291359532416403), (1727, 0.014288216719767594), (1806, 0.014272999136446146), (485, 0.014259088609049834), (654, 0.014244424520331872), (1024, 0.01422090137562757), (1471, 0.01420326446549906), (3334, 0.014173298957857497), (1339, 0.014163372103352086), (1417, 0.014160174652315269), (1854, 0.014147555379017589), (1436, 0.014144784395408049), (2468, 0.014144530425950678), (137, 0.014136036347926751), (3941, 0.014123903202217769), (2908, 0.014086118202927725), (1068, 0.01408374853731418), (4004, 0.01407716437296916), (2076, 0.014075819685644054), (4088, 0.01406012650131957), (3192, 0.014044613376402136), (1949, 0.014027275829147593), (2978, 0.014003235856187084), (4724, 0.01397233280848375), (4118, 0.013958964051761887), (2464, 0.013938609482063668), (1970, 0.013925790605887854), (1735, 0.013900445153124361), (684, 0.013896114199154696), (682, 0.013887857587165351), (172, 0.013882503498285233), (3377, 0.013857902893136645), (908, 0.01385566805114794), (1406, 0.013832157410754144), (2944, 0.013821405111869004), (3708, 0.013819214246445756), (4510, 0.013802525992529758), (3465, 0.013754518043744413), (2752, 0.013739070986225493), (2126, 0.013733359604500178), (1419, 0.013714250883652), (790, 0.013679080464116599), (209, 0.013666245482415147), (1074, 0.013645198161041807), (4735, 0.013642155274526424), (2276, 0.01356084393930393), (483, 0.013541289066588873), (4747, 0.013535831302677997), (905, 0.013520444719375949), (2284, 0.013514371421849372), (1630, 0.01349754463512618), (3099, 0.013497502420193895), (918, 0.013492997122274456), (2316, 0.01347633001843742), (3699, 0.013468042604232847), (447, 0.013430440484751956), (2196, 0.013411067121049574), (4216, 0.013410724311978485), (3978, 0.013398942545293726), (1797, 0.01339348868551965), (4165, 0.013378939433854079), (4684, 0.013367684169609815), (1125, 0.013364240583413156), (2080, 0.013340781138733295), (4048, 0.013322955012220037), (494, 0.013304125737669344), (2849, 0.013300041565195738), (2206, 0.013289570307360455), (2110, 0.013288403623628698), (1063, 0.013273735621978732), (2871, 0.013266439570406704), (2346, 0.01325104632292584), (3652, 0.013250637567750039), (3670, 0.01324428579015662), (4623, 0.013208117810288019), (2739, 0.013182648570605181), (1542, 0.013179604416851367), (1527, 0.013173393135360945), (1680, 0.013156642328957736), (3110, 0.013124378599275758), (144, 0.013109758699256223), (4512, 0.013005309881552456), (2026, 0.012969769786195287), (4474, 0.01295817742629486), (333, 0.012957400126874404), (869, 0.012925799122478068), (3095, 0.012917566048474185), (542, 0.0128830382876787), (4656, 0.012872347331396082), (4554, 0.012843695896792063), (105, 0.012836730845331603), (530, 0.012796322324989286), (3232, 0.012769022358763102), (4553, 0.012757042230232394), (287, 0.012742286552365966), (3993, 0.012739855941287228), (2280, 0.012720202864892692), (2119, 0.01270325132303099), (1992, 0.012635572409822982), (2742, 0.012633927102577458), (2897, 0.012631477545608864), (801, 0.012621041813412151), (827, 0.012610575476938776), (1231, 0.01258957339280903), (2791, 0.012582169314295516), (833, 0.012578061223725982), (1314, 0.012574885211019519), (3794, 0.012502178193231737), (4246, 0.012460840604270424), (1348, 0.012427067362618333), (396, 0.012414214118361735), (3860, 0.01241119264725318), (2235, 0.012385210933642013), (4325, 0.012382269014805377), (2264, 0.01237930111312162), (3118, 0.012376798278198554), (4060, 0.01235576355963098), (1371, 0.01227470157742978), (1694, 0.012237477510442756), (500, 0.012227280614115578), (285, 0.012160032447266133), (3418, 0.012110749798424192), (1816, 0.012103195361411884), (695, 0.01210175789742148), (4366, 0.01209295915660478), (915, 0.012066595164049822), (4164, 0.011882933851558877), (1412, 0.01185393761346947), (1018, 0.011850233428441607), (1776, 0.011826727112684478), (874, 0.01180471791871851), (2874, 0.011736492665705636), (1236, 0.011728777915068074), (629, 0.011720446022383136), (148, 0.01167954626268437), (1300, 0.01164663521609548), (939, 0.01164294181384897), (501, 0.011563778376823545), (2568, 0.011402406586486079), (2617, 0.011303274630096385), (692, 0.011213845124805298), (4096, 0.0110817344078449), (86, 0.011065152617669171), (1369, 0.01100347693419438), (3946, 0.010930838695811206), (3267, 0.01089668408206328), (2751, 0.010869173761285001), (435, 0.010859859159089855), (106, 0.010622213918199896), (1276, 0.010618533419027725), (4232, 0.010601603101387986), (1320, 0.010559180948778071), (3731, 0.010386207159484146), (1317, 0.010368323444465028), (4739, 0.010174734171961167), (757, 0.010160293313910346), (369, 0.009927771092138623), (1861, 0.009910580460680938), (4261, 0.009827738587972876), (0, 0.0097362115761412), (853, 0.009708574950741141), (108, 0.009317422646339583), (627, 0.009091200109648402), (3325, 0.008862591817151797), (3667, 0.00879948213953497), (4555, 0.008432256794996412), (2678, 0.00826331491328787), (3552, 0.008214881587879936), (3512, 0.00802672893709107), (3257, 0.007968881716505031), (3178, 0.007592033600232746), (2154, 0.00758338849096226), (4571, 0.007568712280843152), (3094, 0.007326227646075008), (596, 0.007223928741795846), (735, 0.007210087932646356), (3276, 0.007190196976435088), (1748, 0.007169113861324346), (876, 0.007156705751777069), (2529, 0.0071405157922593224), (2998, 0.007085906541965374), (3745, 0.0070833387624188275), (2888, 0.007067691351581246), (2134, 0.00705715445575211), (3291, 0.007054193241365621), (1658, 0.007005388510350015), (2075, 0.006999100372064125), (2490, 0.006994776555266972), (999, 0.006993093624956259), (4202, 0.006980886626656584), (326, 0.006980674642930272), (3355, 0.0069732216996103115), (1960, 0.006967967043063309), (4082, 0.006946356254232959), (2223, 0.006938716219036479), (2893, 0.006932611308991311), (2883, 0.006924390177724322), (2349, 0.006920677602111726), (3301, 0.006918902233250066), (448, 0.006917796354388295), (2989, 0.0069043865197301124), (2176, 0.006901038656067739), (576, 0.0068959088518653535), (2797, 0.006895090292471056), (2051, 0.006892816455793457), (1429, 0.006879297363793425), (3413, 0.0068791822203001065), (2251, 0.006875899263012622), (2870, 0.006872027859450917), (1885, 0.006861594609395461), (208, 0.006856961087123175), (107, 0.006846562229575279), (1947, 0.006843593084047017), (3866, 0.006839497218948918), (614, 0.006828634373647013), (2775, 0.006828231588098313), (2379, 0.006826357427021975), (1547, 0.006826115136813045), (3148, 0.006824341833608083), (2199, 0.0068224976501610355), (1187, 0.006820744739873788), (3051, 0.006820481138106099), (2832, 0.006809786512683333), (3902, 0.0068075180045164595), (564, 0.006803220560056034), (2915, 0.006802985995514712), (3493, 0.006800927488312493), (2764, 0.006794709458743016), (2768, 0.006783887129765061), (3262, 0.006779762742550451), (2089, 0.006772477072672103), (1924, 0.00677089979960031), (3308, 0.0067708379011723035), (2286, 0.006769897196813563), (1909, 0.006767574027181713), (1182, 0.006765446878519877), (4546, 0.006761528163386546), (2661, 0.006754137600659689), (4295, 0.006742395452554391), (431, 0.006729077541597811), (4244, 0.006719371581672679), (482, 0.0067099032034151004), (2848, 0.006709347489763094), (318, 0.006690532549181991), (419, 0.006688901385672144), (1349, 0.006688869287975801), (1513, 0.0066875881035624056), (3620, 0.006685818069092489), (2655, 0.0066816972945987095), (1383, 0.0066702199966377435), (3072, 0.006666074119449924), (8, 0.0066480674547670085), (2643, 0.006642149054716224), (2260, 0.006639735052070352), (1822, 0.006634518968897049), (2664, 0.00662881721400699), (2350, 0.006625538587291251), (4130, 0.006620404534532878), (3990, 0.0066203443242506795), (41, 0.006619635804883469), (1077, 0.006612014515917176), (1049, 0.006611788441539627), (628, 0.006594520267807935), (1474, 0.00659344237755418), (2776, 0.0065912496260578214), (4617, 0.006586415636481542), (3635, 0.006579424963802125), (2889, 0.00657822453765857), (1264, 0.006575580504966938), (274, 0.006569690373179864), (688, 0.006568787570874929), (4575, 0.0065678037632013), (3166, 0.006565610958825507), (4535, 0.006562881576108367), (4187, 0.006560638764277181), (2530, 0.006559224940437252), (3954, 0.006559126538027618), (387, 0.006556734688233896), (4430, 0.006541949376298903), (2049, 0.00654156800300144), (436, 0.0065379228379101925), (227, 0.006530577770891976), (739, 0.00652751268174542), (4710, 0.006525851748208581), (206, 0.006523320857949492), (3524, 0.006514380541676419), (4657, 0.0065123057274991515), (3219, 0.006511892259078251), (2559, 0.006511868770786962), (4507, 0.006509908254634698), (3727, 0.006506761817076538), (4530, 0.0065054671782908), (755, 0.006498302410903459), (2629, 0.006496069310654465), (1655, 0.006495761844733381), (2901, 0.006492302869761633), (3015, 0.006491588181533592), (4117, 0.006487463102637258), (4422, 0.006484109739600366), (2478, 0.006482925861422873), (1896, 0.006482515132546967), (985, 0.0064746463210756345), (2999, 0.006466495042493171), (3032, 0.006465890442932019), (12, 0.006465573970815134), (3809, 0.006463433664912079), (3560, 0.006460539925275612), (2579, 0.006458811430565084), (1006, 0.0064455580888879635), (1995, 0.006444219215419311), (2731, 0.006440382794593204), (3076, 0.00643159954163837), (280, 0.006429658811755729), (350, 0.006428887101448282), (2484, 0.006426405834885678), (4138, 0.006425861047772359), (3081, 0.006423218965095001), (1422, 0.006420941967040342), (2108, 0.006409869981877069), (2555, 0.006404552488255628), (2924, 0.006398081558002496), (2714, 0.006396881397720469), (721, 0.0063917718331378175), (3797, 0.006389256253890547), (2302, 0.00638898562871112), (3922, 0.006387397698624329), (3302, 0.006386608376952457), (2609, 0.006385347089806916), (1685, 0.006385226133199587), (1687, 0.006380043821084585), (1798, 0.006377114438861607), (2423, 0.006376733441924067), (2257, 0.006375773461562842), (1893, 0.006374704495743614), (1897, 0.006368215554289692), (1364, 0.006367267598764229), (1083, 0.006366996119425374), (2361, 0.006366649774307218), (1489, 0.006361089684450542), (3640, 0.006353507883915637), (3196, 0.006349149671222215), (4624, 0.006344341739529587), (3140, 0.006340684697327576), (4420, 0.006337141566996504), (2879, 0.006336367484714906), (443, 0.00633589832291018), (1208, 0.006333691551332302), (2830, 0.006332918436633932), (2159, 0.006329801466797584), (2623, 0.006327687578417397), (1498, 0.006326110390956057), (3903, 0.0063246981390576405), (2411, 0.006324094488911918), (3282, 0.0063198240364788095), (2116, 0.0063168650460759335), (2466, 0.006314792975087811), (3892, 0.006313588145953999), (2614, 0.006311445081394093), (2148, 0.006311068056229032), (1537, 0.006305019099917797), (2881, 0.006302303503733272), (174, 0.006301446573181171), (2966, 0.006299925741526095), (2974, 0.006295493650999647), (4412, 0.006293730107316266), (1703, 0.0062875346334910695), (697, 0.006287118591088489), (857, 0.006286480419170462), (844, 0.006281761830411658), (3893, 0.006277014924590932), (4521, 0.006271526770824597), (813, 0.006270771135084058), (3873, 0.006260878137818908), (2838, 0.006255983370728954), (729, 0.00625464123175363), (4477, 0.006250074848317814), (2769, 0.0062486435331324894), (3623, 0.006248386451332908), (2415, 0.006248015296171223), (4723, 0.006246856854917693), (4046, 0.006246826001189595), (3379, 0.0062459854418119055), (3960, 0.006243522403455857), (2088, 0.006240019619192894), (2388, 0.0062373293741714705), (4528, 0.006237197974411399), (4401, 0.006236556427169839), (1350, 0.006235325810969376), (3074, 0.006234403355239938), (3417, 0.006233438584866481), (2437, 0.0062321343575095015), (1907, 0.006231464923475945), (1020, 0.006230706124863195), (4249, 0.006229626795988494), (1882, 0.006227655590293248), (3772, 0.006227535548829053), (2535, 0.006223002414689797), (119, 0.006222900355681219), (4494, 0.006220860093101113), (4371, 0.006220595569215622), (3613, 0.006216497729889914), (847, 0.006213138059405306), (1225, 0.006210230401355774), (493, 0.00620220033992732), (192, 0.006200930424908783), (2083, 0.006200001091451381), (2796, 0.006197611799432864), (872, 0.006196522691010251), (3882, 0.006195192506532234), (3496, 0.0061881106885834135), (3832, 0.006183521364053578), (1140, 0.006182188358435547), (23, 0.006181430596625102), (3680, 0.00617810954082387), (670, 0.006175562663447751), (116, 0.006172289076241584), (3194, 0.006172003528275506), (2240, 0.006171863974394344), (34, 0.006171377143306484), (4660, 0.0061702837899901075), (3521, 0.006165712923487667), (3749, 0.006164333964546263), (2988, 0.006162805972483753), (716, 0.006162212239027433), (865, 0.006160989888671435), (1951, 0.006160231645053725), (1570, 0.006157093123318377), (3904, 0.006152846147478634), (4178, 0.00615220574637267), (3763, 0.0061513785288393585), (1905, 0.006148413440152676), (3187, 0.006145507309359108), (4357, 0.006144163602075702), (1220, 0.006143447299216759), (588, 0.0061420429606901415), (1382, 0.006136501600102075), (1488, 0.006136152392372987), (3867, 0.006134765880511704), (3436, 0.006131382496805802), (792, 0.0061309061030604545), (2105, 0.0061284231415230095), (3766, 0.006127836104294893), (4051, 0.006125828972133718), (4625, 0.006125629582212688), (3112, 0.006125466219713343), (3346, 0.006123953960934999), (3876, 0.006120248704134225), (2926, 0.0061195143845493155), (2798, 0.006114529643691504), (925, 0.006113920429061026), (4511, 0.006111236188915824), (2087, 0.00611105463289134), (871, 0.00610883582936671), (3845, 0.006106556106384069), (1176, 0.006105211434414156), (4637, 0.006104882164667516), (3919, 0.006103749716297093), (4640, 0.006101438624330665), (3233, 0.006098928904082232), (4005, 0.006092454080554867), (472, 0.006085937714058627), (1448, 0.006085561026800105), (3123, 0.006085289063353338), (2914, 0.006084748021422409), (3618, 0.006081548808782361), (1188, 0.006080597480827147), (587, 0.006079814495383221), (4368, 0.006079401336623744), (2890, 0.006076877995758991), (4594, 0.006076110264776361), (1413, 0.006071695728560752), (1034, 0.006068660870895437), (1131, 0.006067143069362562), (966, 0.006066521998313877), (4470, 0.006065762694113417), (1968, 0.006062688485972756), (551, 0.006062469706391879), (4330, 0.0060573826579309355), (1796, 0.006050188316643809), (1454, 0.006048924517445158), (2434, 0.006048716121991689), (2834, 0.006047884382950965), (3300, 0.00604540545325529), (4369, 0.006044813042078527), (2809, 0.00604255323464238), (2393, 0.0060422361394855935), (4490, 0.006039405049099946), (4489, 0.0060376046564896285), (1324, 0.006035406380138252), (255, 0.006034506334854131), (794, 0.006034306388608655), (1866, 0.006033884381043352), (71, 0.006033276563785109), (2266, 0.006032381881563612), (1123, 0.00603116442780364), (2943, 0.006028924767692859), (1400, 0.006026155523036109), (826, 0.006020798980367374), (204, 0.006019102127594864), (3511, 0.006017920806078216), (4163, 0.006017263291316406), (2319, 0.006007794624631989), (2459, 0.006006271417832092), (3044, 0.006005926060154581), (4333, 0.006005202433570094), (3363, 0.0060038588851131025), (1923, 0.00600264560916077), (3388, 0.00600110424515327), (2428, 0.0059984144469811), (3004, 0.005996142439201192), (2313, 0.005994451982591827), (430, 0.005993399510284326), (3654, 0.005993192482026588), (3146, 0.0059926622765651034), (2778, 0.005992217474715927), (2911, 0.005992090539732773), (4133, 0.005991725526390504), (4448, 0.005989983025641071), (3901, 0.005988859444500989), (2857, 0.005988554830262858), (3359, 0.005986448635921443), (2104, 0.005986394823046124), (2570, 0.005986149336868482), (3406, 0.005985468924944161), (1558, 0.005984198466344635), (1122, 0.005983297932087024), (3692, 0.00598225212936706), (109, 0.0059772517489111955), (2696, 0.0059759615967457805), (3501, 0.005975865195339291), (3075, 0.0059757722303550856), (2008, 0.005973535890825568), (2277, 0.005971755525404548), (580, 0.005969010880337623), (3653, 0.005968957779279586), (2155, 0.005968599661801591), (3780, 0.005966656730324396), (2606, 0.005964095318268419), (3153, 0.00596301370373208), (504, 0.0059628853289172435), (2986, 0.005962092709799417), (4336, 0.005958402346630896), (728, 0.005957973013195122), (3771, 0.00595523269535858), (3704, 0.005952548494680652), (2812, 0.005952315177487943), (623, 0.0059518456702809435), (980, 0.005951047459058872), (3564, 0.005942978795182851), (437, 0.0059415728538016735), (1021, 0.00593898311892032), (4259, 0.005938663164030273), (342, 0.005937174047799441), (4243, 0.005933516517489387), (1779, 0.005932328939883008), (2162, 0.005932176513349124), (1427, 0.005930691758291702), (894, 0.005930495612170655), (3590, 0.005926394023891883), (4269, 0.00592186482304597), (1475, 0.00592128338203344), (4563, 0.005917585407547771), (2625, 0.005915920471417125), (1934, 0.005915897375676879), (343, 0.005914773057948544), (3435, 0.0059143964815114684), (3182, 0.005913756226482594), (3900, 0.005911617626908378), (470, 0.005909796274850541), (2375, 0.005909492467150299), (2894, 0.005909149663912582), (1313, 0.005908250293383465), (673, 0.005903123921452274), (3888, 0.005900412593893642), (1044, 0.005898883998329017), (169, 0.005898507277007206), (4205, 0.005893373142728232), (897, 0.005891210055411877), (774, 0.005891103594007292), (353, 0.005890578440502435), (830, 0.005889936837045709), (2143, 0.0058880319782999265), (4069, 0.005887182633931596), (4650, 0.005884691179020968), (4619, 0.005883609025608534), (3639, 0.005882392667697481), (488, 0.005882257037291496), (598, 0.005881504620997325), (3673, 0.005876282002438009), (3952, 0.005875322086271624), (2048, 0.005875235190037647), (1678, 0.005875231421015133), (3807, 0.005874747097095215), (2045, 0.005874597731209092), (178, 0.005871888682088561), (1075, 0.00587010323930012), (4722, 0.0058677264053637705), (1645, 0.005867122527750144), (3728, 0.005862688011912999), (406, 0.005860692819033454), (1163, 0.005860657522896777), (4713, 0.005859745288809401), (1273, 0.005859315617706241), (3542, 0.0058579486596037145), (3953, 0.005856621105434215), (4025, 0.00585632157209263), (3445, 0.005855450178666209), (4443, 0.005855364300884208), (3012, 0.005855042019881415), (4345, 0.005853725604572821), (1223, 0.005852756857932824), (2374, 0.0058521806083916255), (3819, 0.005851881920982381), (2122, 0.0058499353916721415), (481, 0.0058497917802409925), (1514, 0.005845562461165054), (1007, 0.005844930210261289), (1229, 0.005844530737425108), (3577, 0.0058442938694296415), (4533, 0.005842019824272229), (2488, 0.00584187919202309), (4632, 0.0058418638857797925), (769, 0.005841668937657194), (3165, 0.0058407459686070475), (2743, 0.005840745390953335), (2477, 0.005839457618188932), (4160, 0.005834781978182281), (2174, 0.0058307676646279375), (3184, 0.0058290504159857984), (1421, 0.005828551453889408), (3962, 0.005827504368178062), (193, 0.005827265941123027), (2405, 0.005826187225117277), (4589, 0.005825092930430615), (2745, 0.005824556225304851), (79, 0.005822329002325709), (2188, 0.005822324518871635), (3641, 0.005821704430150826), (2242, 0.005820791921484301), (3326, 0.005820525713159394), (348, 0.005820299651024094), (3268, 0.0058200575321653205), (4116, 0.005816237651159507), (2430, 0.0058161443521383424), (1245, 0.005815346678006554), (712, 0.00581521059372022), (3492, 0.005813427669759685), (4603, 0.0058119898152804855), (3571, 0.005809778412234513), (359, 0.005806783650955711), (903, 0.005806747244962201), (2748, 0.005804229935593679), (4255, 0.00580210705380916), (3920, 0.005800389011373632), (2755, 0.005798631675082594), (743, 0.005796698146571524), (4087, 0.005796086540840832), (2977, 0.005794326481578019), (2475, 0.005793330788105645), (1902, 0.005792118120945875), (1706, 0.005791958352439004), (4113, 0.005790174792587627), (3895, 0.005789982089573556), (1931, 0.005789120444785831), (349, 0.005788924868787151), (1730, 0.0057882780445499835), (2348, 0.005786700288162226), (854, 0.00578595448215115), (1060, 0.0057857787528591345), (2872, 0.0057848875490850785), (19, 0.005782814150625345), (852, 0.005781612406780364), (1744, 0.005779628596296399), (2347, 0.00577850601179445), (3541, 0.005778121264964648), (1015, 0.005776340232668216), (1325, 0.005770773760710491), (867, 0.005770492378719545), (2772, 0.005769476487474946), (114, 0.005768406215626861), (4731, 0.005765854292962797), (742, 0.005765021924963218), (3097, 0.005763942651900222), (1476, 0.0057636093606499225), (3402, 0.005762344861487222), (4566, 0.005760449976330683), (1619, 0.005758605232770282), (400, 0.00575716583984629), (850, 0.005755632319276408), (3624, 0.005753967173207019), (3449, 0.00575135437880245), (2427, 0.0057509923911140985), (2169, 0.0057498235368011385), (1286, 0.005748575584755703), (2144, 0.005744562348783372), (2069, 0.005743606511163503), (1722, 0.005741035333556837), (606, 0.005738199632864249), (4701, 0.005737018344756527), (2436, 0.005735260599608607), (4706, 0.005733646396773189), (3707, 0.005732012700515197), (3811, 0.005731904952902111), (3689, 0.005731559359938505), (4079, 0.005729531113487211), (1891, 0.005728000329063548), (2386, 0.005726240137521261), (3364, 0.005726070439841624), (1463, 0.0057255745047324605), (2916, 0.005722322701766554), (3973, 0.005721648323482564), (2461, 0.005721480382490143), (325, 0.0057195407412248735), (749, 0.0057167636544398215), (136, 0.005714895031694379), (3917, 0.005708940252420452), (594, 0.005708833192397037), (3425, 0.005708789401179327), (2859, 0.005708385722474058), (3274, 0.005704114314825237), (3062, 0.005702184108178229), (1740, 0.005700885934333655), (1170, 0.005700777561260741), (761, 0.005696071554332157), (4734, 0.005695429803808829), (1598, 0.005694119847970902), (1027, 0.005691980913980458), (4591, 0.0056897061094751955), (2887, 0.005688336141228178), (3273, 0.005688228388604606), (4334, 0.00568821532271053), (2554, 0.005687231222920813), (3666, 0.00568608470402491), (3643, 0.005682990438389896), (3170, 0.005682826907349544), (238, 0.005682184521722124), (1338, 0.0056786204186792585), (4293, 0.005678135824372987), (410, 0.005676960031187081), (1628, 0.005675348386960324), (2496, 0.0056739097612256645), (1079, 0.005673568227293848), (1023, 0.0056727894060410655), (3296, 0.005672623617524199), (1102, 0.005671873350513863), (1179, 0.005670514691893098), (2229, 0.00566759248745746), (373, 0.005666188344653227), (2073, 0.005665523841822733), (612, 0.005665329584484096), (1876, 0.005664470673289442), (1084, 0.005663687290823074), (3734, 0.005663007320859722), (2746, 0.005660064610622573), (1340, 0.005659615070275407), (2740, 0.005658200682889323), (3248, 0.005657586223130671), (2397, 0.00565500153586411), (4183, 0.005654752079328381), (1378, 0.005651639367787278), (1605, 0.0056487527179717835), (3498, 0.005648608016520207), (3516, 0.0056481651759284785), (4309, 0.005647859543249251), (4101, 0.005647847748623947), (416, 0.005647507129037259), (3506, 0.0056453118497994175), (3551, 0.005645253434014251), (1946, 0.0056444295811981975), (4668, 0.005644267317523051), (2023, 0.005643991582586172), (967, 0.005642125760821275), (104, 0.0056416428888354676), (1161, 0.005641634328904622), (1768, 0.0056409785795777075), (2195, 0.00563667122687392), (4522, 0.005634792653807149), (4419, 0.005632924820154599), (3195, 0.005632692275887418), (4718, 0.005632421612140559), (1620, 0.0056293057336813355), (3258, 0.005628986476111626), (4501, 0.005628734948458211), (4011, 0.005628684788001562), (4154, 0.005627640621446845), (2782, 0.0056274385753523), (3408, 0.005625578912935315), (3932, 0.005625006800686897), (1191, 0.005624385849095057), (3237, 0.0056239258105384125), (2553, 0.00562376550353518), (727, 0.00562203661660851), (693, 0.005620878029461179), (2321, 0.005620848316319007), (2269, 0.005620132716782319), (944, 0.005620047686616912), (372, 0.005619060466695231), (1352, 0.00561877700001996), (4402, 0.00561766220093847), (1002, 0.00561624259557284), (4036, 0.005613729057890389), (4362, 0.005611705582973685), (1017, 0.005610798915999596), (579, 0.005610210855149956), (4536, 0.0056100607886538575), (2612, 0.0056086968903458455), (1983, 0.005607075189872334), (1175, 0.005606965148888056), (1001, 0.005606340172772252), (838, 0.005605241253846327), (1192, 0.005604886633036405), (818, 0.00560458835623983), (969, 0.005602909599245826), (3646, 0.0056027735766683105), (3784, 0.005602500369282156), (3330, 0.0055969464866751), (1717, 0.00559631608975844), (1477, 0.00559378150449339), (1136, 0.00559118832201609), (660, 0.005588305373246721), (3754, 0.0055871677675823055), (358, 0.005583506842774406), (3660, 0.005582754704268204), (2632, 0.005582296560755475), (604, 0.005581429662012298), (644, 0.005581049665094108), (886, 0.00557574663369803), (2558, 0.005573151711988185), (4092, 0.005572211032666493), (3304, 0.005569383196103447), (3822, 0.005567404508203259), (1892, 0.005563419480890396), (1206, 0.005558813872960265), (3036, 0.005556055294863248), (2061, 0.0055551123466379216), (4283, 0.0055543433792373635), (1261, 0.0055540131587194), (2668, 0.005553817375471248), (3314, 0.005553266784722063), (3198, 0.005552515459279604), (963, 0.005552013790321784), (1634, 0.005551555141901312), (637, 0.005549490074302223), (2904, 0.005548916170701559), (1030, 0.0055443488625261), (2705, 0.0055424380492801175), (578, 0.005541918980970571), (2201, 0.005540875881696285), (2761, 0.005538450769384126), (4394, 0.005537236938054705), (252, 0.005536253844285047), (1519, 0.005536021449083864), (3050, 0.005534257616189062), (3883, 0.005532114035978104), (1667, 0.005530787513513105), (4629, 0.005530780053485914), (4446, 0.005526108764384882), (197, 0.005526064826391129), (3183, 0.005525010668588065), (3116, 0.005522608151018924), (2965, 0.005522447989870204), (4487, 0.005521553586361858), (465, 0.005518385768335117), (734, 0.005515590666678242), (3827, 0.005513609555070301), (1217, 0.005509615868285148), (1446, 0.005509262101034763), (3433, 0.005508450925615712), (464, 0.005508346326175), (2131, 0.005506330617544567), (215, 0.0055034309568998754), (4699, 0.005498775011260053), (3386, 0.005498050902283641), (798, 0.0054978593195861535), (200, 0.005496579310224098), (2027, 0.005495773654782344), (2980, 0.00549511819057228), (4479, 0.005493598523978475), (3407, 0.00549283072593914), (1247, 0.005492328420044772), (4411, 0.00549013527363557), (2400, 0.005487817216943757), (4593, 0.0054850393374737995), (4344, 0.005483709008890801), (3890, 0.0054830008616171926), (1177, 0.005478852645474129), (703, 0.005477085105218313), (2117, 0.0054765943329509745), (4429, 0.005474540057606578), (1372, 0.0054739443332098665), (1483, 0.005472295640701022), (4033, 0.00547130419301561), (1041, 0.005471034967412791), (2344, 0.005470976752442644), (1582, 0.005468952054404654), (3028, 0.005465196512364046), (1335, 0.005464846765005572), (31, 0.00546434326254283), (3799, 0.005464167458250539), (783, 0.005463967422329395), (2391, 0.005463664191968), (1472, 0.0054625231176196175), (374, 0.005462396841054301), (3500, 0.005461821460262421), (651, 0.005460751059883164), (4137, 0.00545860755104755), (522, 0.005458234502544924), (1026, 0.005454464223281885), (127, 0.005453406649306368), (282, 0.005448634212981461), (2068, 0.0054479530506253695), (1071, 0.005447875487881542), (4053, 0.0054468886360931265), (2473, 0.005444463519223049), (2854, 0.005444429492531895), (3558, 0.005440967094023336), (4287, 0.005440909935264399), (3037, 0.005440823937740521), (4152, 0.005440723838105129), (4670, 0.005434632823778589), (1943, 0.005431487402702353), (2422, 0.005429614996283607), (3125, 0.005429200410632441), (4085, 0.005428364553615956), (991, 0.005427988927567796), (3984, 0.005426873146859428), (4382, 0.005421531333116387), (3526, 0.005420446886155796), (1138, 0.005417462364172469), (2779, 0.005417356936643126), (2821, 0.005416174145035159), (3352, 0.005411142850893821), (923, 0.005407905014541715), (1627, 0.005407832884615124), (2862, 0.005407749081690358), (1438, 0.00540770761512348), (952, 0.005407175606851766), (750, 0.005403808285720945), (1864, 0.005403551544208485), (29, 0.005402876044721235), (2972, 0.0054025747102248774), (2394, 0.005401074414839995), (3122, 0.005400524620835159), (4356, 0.005399058643863939), (4266, 0.005398290598712482), (2593, 0.005397537542775863), (4176, 0.005395008769699892), (3601, 0.005393978056616438), (2338, 0.005391937497263171), (2698, 0.005388728016941898), (96, 0.005385380486445199), (1920, 0.005384643844001597), (4020, 0.005384512261642355), (2540, 0.005384082959020211), (1107, 0.0053832485323635675), (880, 0.005377999948358262), (2800, 0.005375894356954962), (4257, 0.0053755191493300505), (3297, 0.005372958500424354), (4350, 0.005372461300244138), (2621, 0.005370748908237595), (2102, 0.005370647368578606), (4472, 0.005366887621035737), (1819, 0.0053668793387965505), (3634, 0.005366527567274644), (1830, 0.005364464374468156), (1414, 0.00536398149156205), (356, 0.005359687142578869), (471, 0.0053581301519279876), (2004, 0.005358045695134812), (1533, 0.005356110636209826), (2402, 0.005352743090694856), (194, 0.005350831297805308), (4024, 0.005350477905706167), (1690, 0.005347413127547165), (1442, 0.005347375932952094), (3147, 0.005347107647120458), (2287, 0.005347090503892367), (2946, 0.005345545874734693), (1608, 0.005345464951277678), (1481, 0.005344460694776038), (2528, 0.0053432154878923), (317, 0.005338917560241396), (2457, 0.005338335657121542), (1878, 0.005337029135790778), (1510, 0.0053353751983543736), (2687, 0.005334956581078185), (463, 0.005333230152035304), (3868, 0.005329562705228012), (2029, 0.0053290495872886), (4014, 0.005327464084170934), (2289, 0.005326516589314503), (3071, 0.005325234203803706), (2399, 0.005322523787483023), (490, 0.005320796948675067), (3813, 0.005317252262005167), (4517, 0.005316839531278641), (3739, 0.005315833954290964), (3447, 0.005312048101771805), (3755, 0.005310779721412552), (1462, 0.005307021666581063), (126, 0.00530522522760706), (2995, 0.005301837636810387), (1964, 0.005300640285115547), (307, 0.005300410493943835), (18, 0.005299939299950159), (3557, 0.005299788874678403), (221, 0.005299776129267608), (3278, 0.005299360704371609), (2598, 0.005298867664257111), (1202, 0.005298416825621886), (3614, 0.005297908307997737), (3527, 0.005295994537406635), (3226, 0.005294815592632131), (1078, 0.00529410120305651), (2362, 0.005284986721884457), (2127, 0.005278203814414279), (3235, 0.005277872356880527), (3563, 0.005277451439884459), (3487, 0.0052754985253058335), (3910, 0.005274059954416843), (3303, 0.005272579000788084), (3298, 0.005270736585130937), (111, 0.0052702450062767255), (975, 0.005268623719053659), (3318, 0.005267567351889095), (608, 0.005264571166520957), (4643, 0.005263613632673278), (744, 0.005254707616875311), (888, 0.005251703409388544), (3218, 0.005251574114845223), (659, 0.0052508405887501716), (851, 0.005246323583071037), (3349, 0.005244243608430134), (2803, 0.005243645301206269), (1186, 0.00524289970975148), (2121, 0.005242367600982985), (2716, 0.005241309904467115), (2802, 0.005239046564231227), (2601, 0.005236478793784896), (3311, 0.005235965954995285), (2920, 0.005235455848596787), (4282, 0.005230132415793705), (3705, 0.005229798104951386), (1209, 0.005229652797556288), (3826, 0.005229478549320513), (3839, 0.005226442763212705), (2211, 0.005225891475650894), (3014, 0.0052229355531488485), (1199, 0.005217504627671187), (3327, 0.005215927989192195), (132, 0.005215531743323078), (3778, 0.005214029907479681), (103, 0.0052097535609243704), (3974, 0.005209476539710113), (3342, 0.00520054947053657), (3399, 0.0051991995852901235), (3241, 0.005196562495481189), (184, 0.0051941257724607524), (1782, 0.005193519218141192), (1760, 0.00519135781807124), (4523, 0.005190974121578078), (1052, 0.005188720312654602), (3460, 0.005188230251736764), (815, 0.00518538442238813), (97, 0.005185165145866553), (2367, 0.005183463821991132), (3227, 0.005178609127543603), (1886, 0.005172827352505678), (1065, 0.005172719499146407), (1255, 0.005166877342346706), (1478, 0.005162276883805171), (856, 0.005158934565246268), (2531, 0.00515822947301271), (3767, 0.0051560645876768995), (92, 0.00515497128819758), (428, 0.005152003752758437), (3742, 0.005151348103847487), (1827, 0.0051504238260330635), (1624, 0.005149717710340395), (4573, 0.00514852857294691), (388, 0.005148234249761028), (3214, 0.0051474728183651605), (1565, 0.005147196368817517), (355, 0.005145338253719953), (722, 0.005143930356375261), (1682, 0.005138073675116177), (934, 0.005136937867164416), (3657, 0.005134259347319226), (3898, 0.005126937680541648), (1394, 0.005126689993009994), (655, 0.0051258969577915705), (519, 0.0051255120911969055), (2226, 0.0051246602241208986), (2494, 0.005111401977219814), (3706, 0.005111193143294844), (2642, 0.005108664247392879), (638, 0.005107889690418806), (3829, 0.005106630746758973), (3928, 0.005106178939412209), (936, 0.005105490033300055), (183, 0.005104496591103586), (1216, 0.005103324571499083), (3353, 0.005102071777202329), (1875, 0.005101757417522943), (286, 0.005100074210838373), (2712, 0.00509927836215877), (3096, 0.005099098962026175), (2633, 0.005098679250401456), (3120, 0.005096842275694315), (3575, 0.005094442826668258), (642, 0.005094340626119163), (3393, 0.005093503812385647), (951, 0.005086509851349169), (15, 0.005081138855509416), (2149, 0.005070978404522697), (2634, 0.005070661480102053), (1813, 0.0050701462052234955), (2706, 0.005067605916464014), (1762, 0.00506641675321), (32, 0.005061915821017384), (1539, 0.0050616655633967285), (403, 0.005057422102045288), (161, 0.00505284106327396), (3880, 0.005050609844274301), (3855, 0.005048991519162696), (2295, 0.005047829331456069), (3067, 0.005047399333869054), (2981, 0.005044965000424007), (617, 0.005041811720651793), (2010, 0.005037078880337177), (4156, 0.005032076905864521), (1370, 0.005031300001015044), (4016, 0.0050305664996344165), (672, 0.005030540264650415), (1977, 0.005029214658512312), (2467, 0.0050280967353720715), (2744, 0.005027941214956353), (357, 0.005025361933537059), (2157, 0.005020599259784961), (121, 0.005020303460774529), (4638, 0.005020207762352319), (4712, 0.005018592383447963), (1423, 0.005012281133749096), (3669, 0.0050058748571679326), (1763, 0.0050049421726928185), (3200, 0.005002360943085123), (2741, 0.00499947193813902), (3108, 0.004997854863772404), (4074, 0.004993899379716724), (589, 0.004993545115403645), (1357, 0.004990949293931895), (218, 0.0049853054036455196), (3151, 0.004982493026738598), (1884, 0.004978411993533454), (2724, 0.004976133139140018), (1719, 0.004973186674528261), (3, 0.004968907295604818), (800, 0.004968429173565092), (364, 0.0049664933593278355), (2767, 0.004962563273988764), (707, 0.004962411444672007), (2492, 0.004960058339819553), (2652, 0.004956039411807117), (1241, 0.004951119972859369), (2469, 0.004950322336346048), (4432, 0.004949112683199812), (1215, 0.0049478003308180115), (924, 0.004947322491300386), (4590, 0.004941000692151051), (2674, 0.004938947698468871), (1743, 0.004936999423194395), (788, 0.004935166381876315), (1543, 0.0049321447267335105), (2265, 0.004930961653763141), (496, 0.0049309136599750385), (605, 0.004930731838556788), (4636, 0.004925840785544961), (3655, 0.004921784804813956), (267, 0.004912368224236329), (4247, 0.004909319896717681), (3137, 0.004907351909730869), (457, 0.004905530145785325), (2011, 0.004904618326559203), (563, 0.00490297256932192), (3065, 0.0049015364745416765), (3471, 0.0049010082384660664), (1040, 0.004900939860855903), (3956, 0.004896538371530155), (2975, 0.004894823248074595), (732, 0.004891678846839139), (2747, 0.004891130188831423), (657, 0.004889147470141562), (2556, 0.004884178398736966), (611, 0.004882892413591412), (4066, 0.004881134487552662), (3389, 0.004879798214895662), (3254, 0.004873183278241494), (2355, 0.004870198029902484), (2509, 0.004870149013343916), (3474, 0.004867477655228243), (1865, 0.00486378607848993), (1764, 0.004862766564533595), (3569, 0.0048536772346740005), (2933, 0.004847927594178254), (269, 0.004847889161616426), (3626, 0.0048460157667641396), (1303, 0.004844666087748172), (33, 0.004844546217931876), (195, 0.004843569002062778), (3380, 0.004843335271786305), (968, 0.004838488025658056), (480, 0.0048382432578935675), (1616, 0.004836300821405204), (1845, 0.004833193146828032), (2976, 0.004830103390780335), (2453, 0.004827798684574937), (3111, 0.004818256228737623), (1675, 0.004816935339860309), (2441, 0.004811564398516941), (2697, 0.004809342287008439), (165, 0.004805728370821414), (1251, 0.004798739034210796), (957, 0.004797557868588024), (2502, 0.0047973487244817115), (1356, 0.004797241352392367), (1219, 0.004793810359019733), (3913, 0.004790208922320793), (3220, 0.004765911076542545), (2845, 0.0047650520354172), (1747, 0.004764064218389078), (2603, 0.004757111245313403), (2907, 0.0047558954431083265), (3360, 0.004750735090308906), (1305, 0.004746847980881845), (1989, 0.0047467037338522295), (2831, 0.004745600526934308), (1950, 0.004744579975367916), (3027, 0.004743954303625808), (16, 0.004742804748781449), (3546, 0.004742792862414249), (3293, 0.004736977002476052), (843, 0.00473638854553626), (190, 0.004726682268709118), (2876, 0.004722988478018285), (113, 0.004718446152744363), (1365, 0.0047165572873732325), (1415, 0.004716220282584968), (3347, 0.004712435060487742), (2034, 0.0047116562910863935), (4733, 0.004709948681540464), (25, 0.004701662656585937), (44, 0.004696057561258848), (63, 0.004694369938936289), (4151, 0.004694044829575971), (2611, 0.004693088775830365), (808, 0.0046883258175235915), (2563, 0.004671786140361548), (796, 0.004667039374568331), (1005, 0.004652473748741376), (2132, 0.004647329133844659), (2892, 0.004645250593725912), (2359, 0.0046267523691183865), (3927, 0.0046267462315798015), (1828, 0.004617588986953739), (1677, 0.004611578915237383), (3331, 0.004590849955906716), (3556, 0.004586125990334857), (142, 0.004578621703020294), (156, 0.004551583071371871), (3024, 0.004547471900584284), (4311, 0.00454557692553298), (2526, 0.004536485541487215), (309, 0.004536001975267018), (616, 0.004527185630649473), (2520, 0.004526836311083), (2191, 0.004520624366761265), (2758, 0.004517533977451518), (626, 0.004517428208161711), (3056, 0.004494169024942327), (3091, 0.004481206011104108), (433, 0.004469422627616324), (453, 0.004442778534185203), (571, 0.004430932175868501), (3579, 0.0044268826122964055), (3152, 0.0044245080720737295), (4182, 0.004421450895502542), (953, 0.004416723515851488), (224, 0.004414693629152705), (452, 0.004412959322946631), (2591, 0.00439810540549206), (1403, 0.004382144820526234), (2237, 0.004372552811241878), (2917, 0.0043662264946748835), (609, 0.0043596042648230944), (407, 0.004357725855846129), (2844, 0.004353049240096897), (2969, 0.004345401097825047), (3284, 0.004343395313715852), (2000, 0.004342463517592023), (3983, 0.0043236271968308424), (719, 0.004322643985373432), (1871, 0.004319782037762049), (861, 0.004315548814226713), (1088, 0.004312743923150221), (4752, 0.004295868778752067), (256, 0.004291713023906192), (4674, 0.004287250464457227), (351, 0.004281672194112218), (2766, 0.004277747363554954), (296, 0.0042644896520219865), (607, 0.004256171242842009), (1648, 0.004256080404048187), (510, 0.004211732346517819), (929, 0.0042112223217043885), (7, 0.00412643397970356), (3365, 0.004124937431430097), (243, 0.004109464400826838), (2474, 0.004099488201191702), (228, 0.004082977824177866), (641, 0.004046389656913175), (3199, 0.004040779931968116), (940, 0.004025211330145961), (824, 0.003922590562031552), (858, 0.003898408081506986), (1351, 0.0038812825951741628), (1306, 0.0038760105715585605), (3316, 0.0038072312474510678), (129, 0.00378447592542648), (283, 0.003763457286498428), (330, 0.0037422283049506275), (1509, 0.003695668259457427), (2550, 0.0036817375951808127), (3835, 0.003672511537664358), (2443, 0.0035720037624984067), (4171, 0.003562566989684937), (202, 0.0035441086869237534), (3328, 0.00345251394312841), (2538, 0.003326161170579895), (787, 0.0032709167236530837), (475, 0.0017939988939435845), (1, 0.0), (2, 0.0), (6, 0.0), (9, 0.0), (10, 0.0), (13, 0.0), (14, 0.0), (20, 0.0), (22, 0.0), (24, 0.0), (26, 0.0), (27, 0.0), (28, 0.0), (30, 0.0), (35, 0.0), (36, 0.0), (37, 0.0), (38, 0.0), (39, 0.0), (40, 0.0), (42, 0.0), (45, 0.0), (47, 0.0), (49, 0.0), (50, 0.0), (53, 0.0), (54, 0.0), (55, 0.0), (56, 0.0), (57, 0.0), (58, 0.0), (59, 0.0), (64, 0.0), (65, 0.0), (67, 0.0), (69, 0.0), (70, 0.0), (72, 0.0), (73, 0.0), (75, 0.0), (77, 0.0), (81, 0.0), (82, 0.0), (84, 0.0), (90, 0.0), (91, 0.0), (93, 0.0), (95, 0.0), (98, 0.0), (99, 0.0), (100, 0.0), (101, 0.0), (102, 0.0), (110, 0.0), (115, 0.0), (117, 0.0), (118, 0.0), (122, 0.0), (128, 0.0), (130, 0.0), (131, 0.0), (133, 0.0), (134, 0.0), (135, 0.0), (138, 0.0), (139, 0.0), (140, 0.0), (141, 0.0), (143, 0.0), (146, 0.0), (150, 0.0), (151, 0.0), (152, 0.0), (153, 0.0), (154, 0.0), (155, 0.0), (157, 0.0), (158, 0.0), (159, 0.0), (160, 0.0), (162, 0.0), (164, 0.0), (167, 0.0), (168, 0.0), (171, 0.0), (175, 0.0), (176, 0.0), (177, 0.0), (179, 0.0), (185, 0.0), (186, 0.0), (187, 0.0), (188, 0.0), (191, 0.0), (196, 0.0), (203, 0.0), (205, 0.0), (211, 0.0), (212, 0.0), (213, 0.0), (217, 0.0), (219, 0.0), (223, 0.0), (225, 0.0), (229, 0.0), (230, 0.0), (231, 0.0), (232, 0.0), (233, 0.0), (234, 0.0), (237, 0.0), (239, 0.0), (240, 0.0), (241, 0.0), (245, 0.0), (246, 0.0), (247, 0.0), (248, 0.0), (249, 0.0), (250, 0.0), (253, 0.0), (257, 0.0), (259, 0.0), (260, 0.0), (261, 0.0), (262, 0.0), (263, 0.0), (264, 0.0), (265, 0.0), (268, 0.0), (272, 0.0), (273, 0.0), (275, 0.0), (277, 0.0), (278, 0.0), (279, 0.0), (284, 0.0), (288, 0.0), (289, 0.0), (290, 0.0), (291, 0.0), (293, 0.0), (294, 0.0), (295, 0.0), (297, 0.0), (298, 0.0), (299, 0.0), (300, 0.0), (301, 0.0), (302, 0.0), (303, 0.0), (304, 0.0), (308, 0.0), (310, 0.0), (311, 0.0), (312, 0.0), (313, 0.0), (314, 0.0), (315, 0.0), (316, 0.0), (319, 0.0), (320, 0.0), (321, 0.0), (322, 0.0), (323, 0.0), (324, 0.0), (327, 0.0), (328, 0.0), (329, 0.0), (331, 0.0), (332, 0.0), (334, 0.0), (335, 0.0), (337, 0.0), (338, 0.0), (339, 0.0), (340, 0.0), (341, 0.0), (344, 0.0), (346, 0.0), (347, 0.0), (352, 0.0), (354, 0.0), (361, 0.0), (362, 0.0), (363, 0.0), (365, 0.0), (367, 0.0), (375, 0.0), (376, 0.0), (377, 0.0), (378, 0.0), (379, 0.0), (380, 0.0), (381, 0.0), (382, 0.0), (383, 0.0), (384, 0.0), (386, 0.0), (389, 0.0), (390, 0.0), (391, 0.0), (392, 0.0), (393, 0.0), (394, 0.0), (395, 0.0), (397, 0.0), (398, 0.0), (399, 0.0), (401, 0.0), (404, 0.0), (405, 0.0), (409, 0.0), (411, 0.0), (412, 0.0), (413, 0.0), (414, 0.0), (415, 0.0), (421, 0.0), (422, 0.0), (423, 0.0), (424, 0.0), (425, 0.0), (432, 0.0), (438, 0.0), (439, 0.0), (444, 0.0), (445, 0.0), (446, 0.0), (449, 0.0), (451, 0.0), (454, 0.0), (459, 0.0), (460, 0.0), (462, 0.0), (466, 0.0), (468, 0.0), (469, 0.0), (473, 0.0), (474, 0.0), (476, 0.0), (477, 0.0), (478, 0.0), (484, 0.0), (486, 0.0), (487, 0.0), (489, 0.0), (492, 0.0), (497, 0.0), (498, 0.0), (499, 0.0), (503, 0.0), (505, 0.0), (506, 0.0), (507, 0.0), (508, 0.0), (511, 0.0), (513, 0.0), (514, 0.0), (516, 0.0), (517, 0.0), (518, 0.0), (520, 0.0), (521, 0.0), (523, 0.0), (524, 0.0), (525, 0.0), (526, 0.0), (527, 0.0), (528, 0.0), (529, 0.0), (531, 0.0), (532, 0.0), (535, 0.0), (536, 0.0), (537, 0.0), (538, 0.0), (539, 0.0), (540, 0.0), (541, 0.0), (545, 0.0), (546, 0.0), (548, 0.0), (549, 0.0), (550, 0.0), (552, 0.0), (554, 0.0), (555, 0.0), (556, 0.0), (557, 0.0), (559, 0.0), (560, 0.0), (561, 0.0), (565, 0.0), (567, 0.0), (568, 0.0), (569, 0.0), (570, 0.0), (572, 0.0), (573, 0.0), (574, 0.0), (575, 0.0), (577, 0.0), (581, 0.0), (583, 0.0), (585, 0.0), (586, 0.0), (591, 0.0), (593, 0.0), (595, 0.0), (597, 0.0), (599, 0.0), (600, 0.0), (601, 0.0), (602, 0.0), (603, 0.0), (610, 0.0), (613, 0.0), (615, 0.0), (618, 0.0), (619, 0.0), (620, 0.0), (621, 0.0), (624, 0.0), (625, 0.0), (630, 0.0), (631, 0.0), (632, 0.0), (634, 0.0), (635, 0.0), (639, 0.0), (640, 0.0), (645, 0.0), (646, 0.0), (647, 0.0), (648, 0.0), (649, 0.0), (650, 0.0), (656, 0.0), (661, 0.0), (662, 0.0), (663, 0.0), (665, 0.0), (666, 0.0), (671, 0.0), (674, 0.0), (677, 0.0), (679, 0.0), (680, 0.0), (681, 0.0), (686, 0.0), (687, 0.0), (691, 0.0), (694, 0.0), (699, 0.0), (700, 0.0), (702, 0.0), (704, 0.0), (706, 0.0), (709, 0.0), (710, 0.0), (713, 0.0), (714, 0.0), (715, 0.0), (717, 0.0), (720, 0.0), (723, 0.0), (724, 0.0), (725, 0.0), (726, 0.0), (730, 0.0), (731, 0.0), (736, 0.0), (737, 0.0), (740, 0.0), (745, 0.0), (747, 0.0), (748, 0.0), (751, 0.0), (752, 0.0), (754, 0.0), (756, 0.0), (758, 0.0), (759, 0.0), (762, 0.0), (763, 0.0), (764, 0.0), (766, 0.0), (767, 0.0), (768, 0.0), (770, 0.0), (771, 0.0), (772, 0.0), (773, 0.0), (775, 0.0), (776, 0.0), (777, 0.0), (778, 0.0), (779, 0.0), (780, 0.0), (781, 0.0), (782, 0.0), (784, 0.0), (785, 0.0), (786, 0.0), (789, 0.0), (791, 0.0), (793, 0.0), (797, 0.0), (802, 0.0), (803, 0.0), (805, 0.0), (807, 0.0), (810, 0.0), (811, 0.0), (812, 0.0), (814, 0.0), (817, 0.0), (819, 0.0), (820, 0.0), (821, 0.0), (822, 0.0), (823, 0.0), (825, 0.0), (834, 0.0), (835, 0.0), (836, 0.0), (837, 0.0), (839, 0.0), (841, 0.0), (845, 0.0), (846, 0.0), (848, 0.0), (849, 0.0), (855, 0.0), (859, 0.0), (862, 0.0), (863, 0.0), (868, 0.0), (873, 0.0), (875, 0.0), (877, 0.0), (881, 0.0), (882, 0.0), (883, 0.0), (884, 0.0), (885, 0.0), (887, 0.0), (889, 0.0), (890, 0.0), (891, 0.0), (892, 0.0), (893, 0.0), (895, 0.0), (901, 0.0), (902, 0.0), (906, 0.0), (909, 0.0), (911, 0.0), (912, 0.0), (913, 0.0), (917, 0.0), (919, 0.0), (920, 0.0), (921, 0.0), (922, 0.0), (926, 0.0), (927, 0.0), (928, 0.0), (932, 0.0), (933, 0.0), (935, 0.0), (938, 0.0), (941, 0.0), (943, 0.0), (945, 0.0), (946, 0.0), (949, 0.0), (950, 0.0), (954, 0.0), (955, 0.0), (956, 0.0), (958, 0.0), (960, 0.0), (961, 0.0), (964, 0.0), (965, 0.0), (970, 0.0), (971, 0.0), (972, 0.0), (973, 0.0), (974, 0.0), (977, 0.0), (978, 0.0), (979, 0.0), (982, 0.0), (983, 0.0), (987, 0.0), (990, 0.0), (992, 0.0), (993, 0.0), (996, 0.0), (997, 0.0), (1003, 0.0), (1008, 0.0), (1010, 0.0), (1012, 0.0), (1013, 0.0), (1014, 0.0), (1016, 0.0), (1019, 0.0), (1022, 0.0), (1028, 0.0), (1029, 0.0), (1031, 0.0), (1032, 0.0), (1033, 0.0), (1036, 0.0), (1037, 0.0), (1038, 0.0), (1039, 0.0), (1042, 0.0), (1043, 0.0), (1045, 0.0), (1046, 0.0), (1048, 0.0), (1051, 0.0), (1054, 0.0), (1055, 0.0), (1056, 0.0), (1057, 0.0), (1059, 0.0), (1062, 0.0), (1066, 0.0), (1067, 0.0), (1069, 0.0), (1070, 0.0), (1072, 0.0), (1073, 0.0), (1076, 0.0), (1081, 0.0), (1082, 0.0), (1085, 0.0), (1086, 0.0), (1087, 0.0), (1091, 0.0), (1092, 0.0), (1093, 0.0), (1094, 0.0), (1095, 0.0), (1096, 0.0), (1097, 0.0), (1098, 0.0), (1099, 0.0), (1100, 0.0), (1101, 0.0), (1103, 0.0), (1104, 0.0), (1105, 0.0), (1106, 0.0), (1110, 0.0), (1111, 0.0), (1112, 0.0), (1113, 0.0), (1114, 0.0), (1115, 0.0), (1117, 0.0), (1118, 0.0), (1120, 0.0), (1121, 0.0), (1124, 0.0), (1126, 0.0), (1127, 0.0), (1129, 0.0), (1130, 0.0), (1133, 0.0), (1134, 0.0), (1135, 0.0), (1137, 0.0), (1139, 0.0), (1143, 0.0), (1144, 0.0), (1145, 0.0), (1146, 0.0), (1147, 0.0), (1149, 0.0), (1150, 0.0), (1151, 0.0), (1152, 0.0), (1153, 0.0), (1154, 0.0), (1156, 0.0), (1157, 0.0), (1158, 0.0), (1159, 0.0), (1162, 0.0), (1164, 0.0), (1165, 0.0), (1167, 0.0), (1168, 0.0), (1169, 0.0), (1171, 0.0), (1172, 0.0), (1173, 0.0), (1174, 0.0), (1178, 0.0), (1180, 0.0), (1181, 0.0), (1189, 0.0), (1190, 0.0), (1194, 0.0), (1195, 0.0), (1196, 0.0), (1197, 0.0), (1198, 0.0), (1200, 0.0), (1201, 0.0), (1203, 0.0), (1204, 0.0), (1205, 0.0), (1207, 0.0), (1211, 0.0), (1212, 0.0), (1213, 0.0), (1214, 0.0), (1218, 0.0), (1221, 0.0), (1222, 0.0), (1226, 0.0), (1228, 0.0), (1233, 0.0), (1235, 0.0), (1238, 0.0), (1239, 0.0), (1240, 0.0), (1242, 0.0), (1243, 0.0), (1244, 0.0), (1246, 0.0), (1249, 0.0), (1250, 0.0), (1253, 0.0), (1254, 0.0), (1256, 0.0), (1258, 0.0), (1259, 0.0), (1260, 0.0), (1262, 0.0), (1263, 0.0), (1265, 0.0), (1267, 0.0), (1268, 0.0), (1269, 0.0), (1271, 0.0), (1272, 0.0), (1277, 0.0), (1278, 0.0), (1279, 0.0), (1280, 0.0), (1282, 0.0), (1283, 0.0), (1284, 0.0), (1285, 0.0), (1287, 0.0), (1288, 0.0), (1289, 0.0), (1291, 0.0), (1293, 0.0), (1294, 0.0), (1295, 0.0), (1296, 0.0), (1297, 0.0), (1298, 0.0), (1299, 0.0), (1301, 0.0), (1302, 0.0), (1304, 0.0), (1307, 0.0), (1309, 0.0), (1310, 0.0), (1311, 0.0), (1312, 0.0), (1316, 0.0), (1319, 0.0), (1321, 0.0), (1322, 0.0), (1323, 0.0), (1326, 0.0), (1328, 0.0), (1329, 0.0), (1330, 0.0), (1331, 0.0), (1332, 0.0), (1333, 0.0), (1341, 0.0), (1342, 0.0), (1344, 0.0), (1345, 0.0), (1353, 0.0), (1354, 0.0), (1355, 0.0), (1358, 0.0), (1359, 0.0), (1361, 0.0), (1362, 0.0), (1363, 0.0), (1366, 0.0), (1367, 0.0), (1368, 0.0), (1373, 0.0), (1374, 0.0), (1376, 0.0), (1379, 0.0), (1381, 0.0), (1384, 0.0), (1386, 0.0), (1388, 0.0), (1389, 0.0), (1390, 0.0), (1391, 0.0), (1393, 0.0), (1395, 0.0), (1396, 0.0), (1397, 0.0), (1399, 0.0), (1401, 0.0), (1402, 0.0), (1404, 0.0), (1405, 0.0), (1407, 0.0), (1409, 0.0), (1411, 0.0), (1416, 0.0), (1420, 0.0), (1424, 0.0), (1425, 0.0), (1428, 0.0), (1430, 0.0), (1431, 0.0), (1433, 0.0), (1434, 0.0), (1435, 0.0), (1437, 0.0), (1439, 0.0), (1441, 0.0), (1444, 0.0), (1445, 0.0), (1447, 0.0), (1449, 0.0), (1450, 0.0), (1452, 0.0), (1456, 0.0), (1457, 0.0), (1458, 0.0), (1460, 0.0), (1461, 0.0), (1464, 0.0), (1465, 0.0), (1467, 0.0), (1468, 0.0), (1470, 0.0), (1473, 0.0), (1480, 0.0), (1482, 0.0), (1484, 0.0), (1485, 0.0), (1486, 0.0), (1490, 0.0), (1491, 0.0), (1492, 0.0), (1494, 0.0), (1495, 0.0), (1497, 0.0), (1499, 0.0), (1500, 0.0), (1501, 0.0), (1504, 0.0), (1505, 0.0), (1507, 0.0), (1508, 0.0), (1512, 0.0), (1515, 0.0), (1516, 0.0), (1517, 0.0), (1520, 0.0), (1521, 0.0), (1522, 0.0), (1523, 0.0), (1524, 0.0), (1525, 0.0), (1526, 0.0), (1528, 0.0), (1529, 0.0), (1530, 0.0), (1531, 0.0), (1532, 0.0), (1534, 0.0), (1535, 0.0), (1536, 0.0), (1538, 0.0), (1540, 0.0), (1541, 0.0), (1545, 0.0), (1546, 0.0), (1548, 0.0), (1549, 0.0), (1551, 0.0), (1552, 0.0), (1553, 0.0), (1554, 0.0), (1555, 0.0), (1556, 0.0), (1557, 0.0), (1559, 0.0), (1560, 0.0), (1561, 0.0), (1562, 0.0), (1563, 0.0), (1566, 0.0), (1567, 0.0), (1568, 0.0), (1569, 0.0), (1571, 0.0), (1573, 0.0), (1574, 0.0), (1575, 0.0), (1576, 0.0), (1577, 0.0), (1578, 0.0), (1579, 0.0), (1580, 0.0), (1581, 0.0), (1583, 0.0), (1584, 0.0), (1586, 0.0), (1587, 0.0), (1588, 0.0), (1589, 0.0), (1590, 0.0), (1592, 0.0), (1593, 0.0), (1596, 0.0), (1599, 0.0), (1600, 0.0), (1601, 0.0), (1602, 0.0), (1603, 0.0), (1604, 0.0), (1606, 0.0), (1609, 0.0), (1610, 0.0), (1611, 0.0), (1614, 0.0), (1615, 0.0), (1617, 0.0), (1618, 0.0), (1622, 0.0), (1623, 0.0), (1625, 0.0), (1626, 0.0), (1633, 0.0), (1635, 0.0), (1636, 0.0), (1637, 0.0), (1639, 0.0), (1641, 0.0), (1642, 0.0), (1644, 0.0), (1646, 0.0), (1647, 0.0), (1649, 0.0), (1650, 0.0), (1651, 0.0), (1652, 0.0), (1654, 0.0), (1656, 0.0), (1659, 0.0), (1660, 0.0), (1661, 0.0), (1662, 0.0), (1663, 0.0), (1664, 0.0), (1668, 0.0), (1669, 0.0), (1670, 0.0), (1672, 0.0), (1673, 0.0), (1676, 0.0), (1679, 0.0), (1681, 0.0), (1683, 0.0), (1684, 0.0), (1686, 0.0), (1688, 0.0), (1689, 0.0), (1691, 0.0), (1692, 0.0), (1695, 0.0), (1696, 0.0), (1697, 0.0), (1698, 0.0), (1699, 0.0), (1702, 0.0), (1704, 0.0), (1708, 0.0), (1709, 0.0), (1712, 0.0), (1713, 0.0), (1714, 0.0), (1715, 0.0), (1718, 0.0), (1720, 0.0), (1721, 0.0), (1723, 0.0), (1724, 0.0), (1725, 0.0), (1726, 0.0), (1728, 0.0), (1729, 0.0), (1731, 0.0), (1732, 0.0), (1733, 0.0), (1734, 0.0), (1737, 0.0), (1738, 0.0), (1741, 0.0), (1742, 0.0), (1745, 0.0), (1746, 0.0), (1749, 0.0), (1750, 0.0), (1751, 0.0), (1752, 0.0), (1753, 0.0), (1755, 0.0), (1756, 0.0), (1757, 0.0), (1758, 0.0), (1759, 0.0), (1761, 0.0), (1765, 0.0), (1767, 0.0), (1769, 0.0), (1770, 0.0), (1771, 0.0), (1772, 0.0), (1773, 0.0), (1775, 0.0), (1777, 0.0), (1778, 0.0), (1780, 0.0), (1781, 0.0), (1783, 0.0), (1785, 0.0), (1789, 0.0), (1790, 0.0), (1791, 0.0), (1792, 0.0), (1793, 0.0), (1794, 0.0), (1795, 0.0), (1799, 0.0), (1800, 0.0), (1801, 0.0), (1802, 0.0), (1804, 0.0), (1805, 0.0), (1807, 0.0), (1808, 0.0), (1810, 0.0), (1811, 0.0), (1814, 0.0), (1820, 0.0), (1823, 0.0), (1824, 0.0), (1825, 0.0), (1826, 0.0), (1829, 0.0), (1831, 0.0), (1833, 0.0), (1834, 0.0), (1835, 0.0), (1836, 0.0), (1837, 0.0), (1838, 0.0), (1839, 0.0), (1840, 0.0), (1841, 0.0), (1842, 0.0), (1843, 0.0), (1844, 0.0), (1846, 0.0), (1847, 0.0), (1848, 0.0), (1849, 0.0), (1850, 0.0), (1855, 0.0), (1856, 0.0), (1857, 0.0), (1860, 0.0), (1862, 0.0), (1863, 0.0), (1867, 0.0), (1868, 0.0), (1870, 0.0), (1872, 0.0), (1873, 0.0), (1877, 0.0), (1879, 0.0), (1880, 0.0), (1881, 0.0), (1883, 0.0), (1887, 0.0), (1888, 0.0), (1889, 0.0), (1890, 0.0), (1894, 0.0), (1895, 0.0), (1898, 0.0), (1899, 0.0), (1900, 0.0), (1901, 0.0), (1903, 0.0), (1904, 0.0), (1906, 0.0), (1908, 0.0), (1910, 0.0), (1911, 0.0), (1912, 0.0), (1913, 0.0), (1914, 0.0), (1915, 0.0), (1917, 0.0), (1921, 0.0), (1925, 0.0), (1927, 0.0), (1928, 0.0), (1930, 0.0), (1932, 0.0), (1933, 0.0), (1935, 0.0), (1936, 0.0), (1938, 0.0), (1939, 0.0), (1940, 0.0), (1941, 0.0), (1944, 0.0), (1948, 0.0), (1952, 0.0), (1953, 0.0), (1954, 0.0), (1955, 0.0), (1956, 0.0), (1957, 0.0), (1958, 0.0), (1962, 0.0), (1963, 0.0), (1965, 0.0), (1966, 0.0), (1972, 0.0), (1973, 0.0), (1974, 0.0), (1975, 0.0), (1976, 0.0), (1981, 0.0), (1982, 0.0), (1986, 0.0), (1987, 0.0), (1988, 0.0), (1990, 0.0), (1991, 0.0), (1993, 0.0), (1994, 0.0), (1998, 0.0), (2001, 0.0), (2002, 0.0), (2003, 0.0), (2005, 0.0), (2006, 0.0), (2007, 0.0), (2009, 0.0), (2012, 0.0), (2014, 0.0), (2017, 0.0), (2018, 0.0), (2019, 0.0), (2020, 0.0), (2021, 0.0), (2022, 0.0), (2025, 0.0), (2028, 0.0), (2030, 0.0), (2032, 0.0), (2033, 0.0), (2036, 0.0), (2038, 0.0), (2042, 0.0), (2043, 0.0), (2044, 0.0), (2046, 0.0), (2047, 0.0), (2050, 0.0), (2052, 0.0), (2054, 0.0), (2056, 0.0), (2057, 0.0), (2059, 0.0), (2060, 0.0), (2062, 0.0), (2063, 0.0), (2064, 0.0), (2066, 0.0), (2072, 0.0), (2077, 0.0), (2078, 0.0), (2079, 0.0), (2081, 0.0), (2084, 0.0), (2085, 0.0), (2086, 0.0), (2090, 0.0), (2092, 0.0), (2094, 0.0), (2095, 0.0), (2098, 0.0), (2099, 0.0), (2100, 0.0), (2101, 0.0), (2106, 0.0), (2107, 0.0), (2109, 0.0), (2111, 0.0), (2113, 0.0), (2114, 0.0), (2115, 0.0), (2118, 0.0), (2120, 0.0), (2123, 0.0), (2124, 0.0), (2125, 0.0), (2128, 0.0), (2129, 0.0), (2133, 0.0), (2135, 0.0), (2137, 0.0), (2138, 0.0), (2140, 0.0), (2141, 0.0), (2145, 0.0), (2146, 0.0), (2147, 0.0), (2150, 0.0), (2151, 0.0), (2152, 0.0), (2156, 0.0), (2158, 0.0), (2161, 0.0), (2163, 0.0), (2164, 0.0), (2165, 0.0), (2166, 0.0), (2167, 0.0), (2168, 0.0), (2170, 0.0), (2171, 0.0), (2172, 0.0), (2173, 0.0), (2175, 0.0), (2177, 0.0), (2178, 0.0), (2180, 0.0), (2181, 0.0), (2182, 0.0), (2183, 0.0), (2184, 0.0), (2185, 0.0), (2186, 0.0), (2187, 0.0), (2189, 0.0), (2192, 0.0), (2193, 0.0), (2194, 0.0), (2197, 0.0), (2198, 0.0), (2200, 0.0), (2202, 0.0), (2203, 0.0), (2204, 0.0), (2205, 0.0), (2208, 0.0), (2209, 0.0), (2213, 0.0), (2215, 0.0), (2217, 0.0), (2218, 0.0), (2219, 0.0), (2220, 0.0), (2221, 0.0), (2222, 0.0), (2225, 0.0), (2227, 0.0), (2228, 0.0), (2231, 0.0), (2232, 0.0), (2233, 0.0), (2234, 0.0), (2236, 0.0), (2238, 0.0), (2239, 0.0), (2241, 0.0), (2243, 0.0), (2244, 0.0), (2245, 0.0), (2246, 0.0), (2247, 0.0), (2248, 0.0), (2249, 0.0), (2252, 0.0), (2253, 0.0), (2256, 0.0), (2258, 0.0), (2261, 0.0), (2262, 0.0), (2263, 0.0), (2267, 0.0), (2271, 0.0), (2272, 0.0), (2273, 0.0), (2274, 0.0), (2278, 0.0), (2281, 0.0), (2282, 0.0), (2285, 0.0), (2288, 0.0), (2290, 0.0), (2291, 0.0), (2292, 0.0), (2293, 0.0), (2294, 0.0), (2296, 0.0), (2298, 0.0), (2299, 0.0), (2300, 0.0), (2303, 0.0), (2304, 0.0), (2305, 0.0), (2306, 0.0), (2307, 0.0), (2308, 0.0), (2310, 0.0), (2311, 0.0), (2312, 0.0), (2314, 0.0), (2315, 0.0), (2317, 0.0), (2323, 0.0), (2324, 0.0), (2325, 0.0), (2326, 0.0), (2327, 0.0), (2328, 0.0), (2329, 0.0), (2331, 0.0), (2332, 0.0), (2333, 0.0), (2336, 0.0), (2337, 0.0), (2340, 0.0), (2341, 0.0), (2342, 0.0), (2343, 0.0), (2345, 0.0), (2351, 0.0), (2352, 0.0), (2353, 0.0), (2356, 0.0), (2357, 0.0), (2358, 0.0), (2360, 0.0), (2363, 0.0), (2364, 0.0), (2365, 0.0), (2366, 0.0), (2368, 0.0), (2369, 0.0), (2370, 0.0), (2371, 0.0), (2372, 0.0), (2373, 0.0), (2376, 0.0), (2377, 0.0), (2378, 0.0), (2380, 0.0), (2382, 0.0), (2383, 0.0), (2384, 0.0), (2385, 0.0), (2387, 0.0), (2389, 0.0), (2392, 0.0), (2395, 0.0), (2396, 0.0), (2398, 0.0), (2401, 0.0), (2403, 0.0), (2404, 0.0), (2408, 0.0), (2409, 0.0), (2413, 0.0), (2414, 0.0), (2416, 0.0), (2418, 0.0), (2419, 0.0), (2420, 0.0), (2424, 0.0), (2425, 0.0), (2426, 0.0), (2429, 0.0), (2433, 0.0), (2435, 0.0), (2439, 0.0), (2440, 0.0), (2442, 0.0), (2444, 0.0), (2445, 0.0), (2446, 0.0), (2449, 0.0), (2450, 0.0), (2451, 0.0), (2452, 0.0), (2454, 0.0), (2455, 0.0), (2456, 0.0), (2458, 0.0), (2460, 0.0), (2462, 0.0), (2463, 0.0), (2465, 0.0), (2470, 0.0), (2471, 0.0), (2472, 0.0), (2476, 0.0), (2479, 0.0), (2480, 0.0), (2483, 0.0), (2491, 0.0), (2493, 0.0), (2495, 0.0), (2497, 0.0), (2498, 0.0), (2500, 0.0), (2501, 0.0), (2504, 0.0), (2505, 0.0), (2506, 0.0), (2507, 0.0), (2508, 0.0), (2510, 0.0), (2511, 0.0), (2513, 0.0), (2514, 0.0), (2515, 0.0), (2516, 0.0), (2517, 0.0), (2518, 0.0), (2524, 0.0), (2525, 0.0), (2532, 0.0), (2533, 0.0), (2536, 0.0), (2537, 0.0), (2539, 0.0), (2541, 0.0), (2542, 0.0), (2543, 0.0), (2544, 0.0), (2545, 0.0), (2547, 0.0), (2548, 0.0), (2549, 0.0), (2551, 0.0), (2552, 0.0), (2557, 0.0), (2561, 0.0), (2562, 0.0), (2564, 0.0), (2565, 0.0), (2566, 0.0), (2567, 0.0), (2569, 0.0), (2572, 0.0), (2573, 0.0), (2574, 0.0), (2575, 0.0), (2577, 0.0), (2578, 0.0), (2581, 0.0), (2582, 0.0), (2583, 0.0), (2585, 0.0), (2586, 0.0), (2587, 0.0), (2588, 0.0), (2589, 0.0), (2590, 0.0), (2594, 0.0), (2595, 0.0), (2596, 0.0), (2597, 0.0), (2599, 0.0), (2600, 0.0), (2604, 0.0), (2605, 0.0), (2608, 0.0), (2610, 0.0), (2613, 0.0), (2615, 0.0), (2616, 0.0), (2618, 0.0), (2619, 0.0), (2620, 0.0), (2622, 0.0), (2624, 0.0), (2626, 0.0), (2628, 0.0), (2630, 0.0), (2631, 0.0), (2636, 0.0), (2639, 0.0), (2641, 0.0), (2644, 0.0), (2646, 0.0), (2648, 0.0), (2650, 0.0), (2651, 0.0), (2654, 0.0), (2656, 0.0), (2657, 0.0), (2658, 0.0), (2659, 0.0), (2660, 0.0), (2662, 0.0), (2663, 0.0), (2665, 0.0), (2667, 0.0), (2669, 0.0), (2670, 0.0), (2671, 0.0), (2672, 0.0), (2673, 0.0), (2675, 0.0), (2676, 0.0), (2677, 0.0), (2679, 0.0), (2680, 0.0), (2681, 0.0), (2682, 0.0), (2683, 0.0), (2684, 0.0), (2685, 0.0), (2686, 0.0), (2688, 0.0), (2689, 0.0), (2690, 0.0), (2691, 0.0), (2693, 0.0), (2694, 0.0), (2699, 0.0), (2700, 0.0), (2701, 0.0), (2703, 0.0), (2704, 0.0), (2707, 0.0), (2708, 0.0), (2709, 0.0), (2710, 0.0), (2711, 0.0), (2713, 0.0), (2715, 0.0), (2717, 0.0), (2718, 0.0), (2719, 0.0), (2722, 0.0), (2723, 0.0), (2725, 0.0), (2726, 0.0), (2728, 0.0), (2730, 0.0), (2732, 0.0), (2733, 0.0), (2734, 0.0), (2735, 0.0), (2736, 0.0), (2737, 0.0), (2738, 0.0), (2749, 0.0), (2750, 0.0), (2753, 0.0), (2754, 0.0), (2756, 0.0), (2757, 0.0), (2759, 0.0), (2760, 0.0), (2762, 0.0), (2763, 0.0), (2765, 0.0), (2770, 0.0), (2773, 0.0), (2774, 0.0), (2783, 0.0), (2785, 0.0), (2786, 0.0), (2787, 0.0), (2788, 0.0), (2789, 0.0), (2790, 0.0), (2792, 0.0), (2794, 0.0), (2799, 0.0), (2801, 0.0), (2804, 0.0), (2805, 0.0), (2806, 0.0), (2807, 0.0), (2810, 0.0), (2811, 0.0), (2813, 0.0), (2814, 0.0), (2815, 0.0), (2816, 0.0), (2817, 0.0), (2818, 0.0), (2819, 0.0), (2820, 0.0), (2822, 0.0), (2823, 0.0), (2824, 0.0), (2825, 0.0), (2826, 0.0), (2827, 0.0), (2828, 0.0), (2829, 0.0), (2833, 0.0), (2835, 0.0), (2836, 0.0), (2837, 0.0), (2839, 0.0), (2841, 0.0), (2842, 0.0), (2843, 0.0), (2846, 0.0), (2847, 0.0), (2850, 0.0), (2851, 0.0), (2852, 0.0), (2853, 0.0), (2855, 0.0), (2856, 0.0), (2858, 0.0), (2860, 0.0), (2861, 0.0), (2863, 0.0), (2864, 0.0), (2865, 0.0), (2866, 0.0), (2867, 0.0), (2868, 0.0), (2873, 0.0), (2875, 0.0), (2877, 0.0), (2880, 0.0), (2882, 0.0), (2884, 0.0), (2885, 0.0), (2891, 0.0), (2895, 0.0), (2896, 0.0), (2898, 0.0), (2900, 0.0), (2902, 0.0), (2905, 0.0), (2906, 0.0), (2909, 0.0), (2912, 0.0), (2913, 0.0), (2921, 0.0), (2922, 0.0), (2923, 0.0), (2927, 0.0), (2928, 0.0), (2930, 0.0), (2935, 0.0), (2936, 0.0), (2937, 0.0), (2938, 0.0), (2940, 0.0), (2941, 0.0), (2942, 0.0), (2947, 0.0), (2948, 0.0), (2949, 0.0), (2950, 0.0), (2951, 0.0), (2952, 0.0), (2953, 0.0), (2954, 0.0), (2955, 0.0), (2956, 0.0), (2957, 0.0), (2958, 0.0), (2959, 0.0), (2960, 0.0), (2962, 0.0), (2963, 0.0), (2964, 0.0), (2967, 0.0), (2968, 0.0), (2970, 0.0), (2971, 0.0), (2973, 0.0), (2979, 0.0), (2982, 0.0), (2983, 0.0), (2984, 0.0), (2985, 0.0), (2987, 0.0), (2990, 0.0), (2991, 0.0), (2993, 0.0), (2994, 0.0), (2997, 0.0), (3000, 0.0), (3001, 0.0), (3002, 0.0), (3003, 0.0), (3005, 0.0), (3006, 0.0), (3007, 0.0), (3008, 0.0), (3009, 0.0), (3010, 0.0), (3011, 0.0), (3016, 0.0), (3017, 0.0), (3018, 0.0), (3020, 0.0), (3021, 0.0), (3022, 0.0), (3023, 0.0), (3025, 0.0), (3026, 0.0), (3029, 0.0), (3031, 0.0), (3033, 0.0), (3034, 0.0), (3035, 0.0), (3038, 0.0), (3039, 0.0), (3040, 0.0), (3041, 0.0), (3042, 0.0), (3045, 0.0), (3046, 0.0), (3047, 0.0), (3048, 0.0), (3049, 0.0), (3053, 0.0), (3054, 0.0), (3055, 0.0), (3057, 0.0), (3058, 0.0), (3059, 0.0), (3060, 0.0), (3061, 0.0), (3063, 0.0), (3064, 0.0), (3066, 0.0), (3068, 0.0), (3069, 0.0), (3073, 0.0), (3077, 0.0), (3078, 0.0), (3079, 0.0), (3080, 0.0), (3082, 0.0), (3083, 0.0), (3084, 0.0), (3085, 0.0), (3087, 0.0), (3088, 0.0), (3089, 0.0), (3090, 0.0), (3093, 0.0), (3098, 0.0), (3100, 0.0), (3101, 0.0), (3103, 0.0), (3104, 0.0), (3105, 0.0), (3106, 0.0), (3107, 0.0), (3109, 0.0), (3114, 0.0), (3117, 0.0), (3121, 0.0), (3124, 0.0), (3126, 0.0), (3127, 0.0), (3128, 0.0), (3129, 0.0), (3130, 0.0), (3131, 0.0), (3132, 0.0), (3134, 0.0), (3135, 0.0), (3136, 0.0), (3138, 0.0), (3139, 0.0), (3141, 0.0), (3144, 0.0), (3145, 0.0), (3149, 0.0), (3150, 0.0), (3156, 0.0), (3157, 0.0), (3158, 0.0), (3159, 0.0), (3160, 0.0), (3161, 0.0), (3162, 0.0), (3163, 0.0), (3164, 0.0), (3167, 0.0), (3168, 0.0), (3169, 0.0), (3172, 0.0), (3173, 0.0), (3174, 0.0), (3175, 0.0), (3176, 0.0), (3179, 0.0), (3180, 0.0), (3181, 0.0), (3185, 0.0), (3186, 0.0), (3188, 0.0), (3190, 0.0), (3191, 0.0), (3193, 0.0), (3197, 0.0), (3201, 0.0), (3202, 0.0), (3203, 0.0), (3204, 0.0), (3205, 0.0), (3206, 0.0), (3207, 0.0), (3208, 0.0), (3209, 0.0), (3211, 0.0), (3212, 0.0), (3213, 0.0), (3215, 0.0), (3217, 0.0), (3221, 0.0), (3223, 0.0), (3224, 0.0), (3229, 0.0), (3230, 0.0), (3231, 0.0), (3236, 0.0), (3238, 0.0), (3239, 0.0), (3240, 0.0), (3242, 0.0), (3243, 0.0), (3244, 0.0), (3246, 0.0), (3247, 0.0), (3249, 0.0), (3250, 0.0), (3251, 0.0), (3252, 0.0), (3253, 0.0), (3255, 0.0), (3256, 0.0), (3260, 0.0), (3261, 0.0), (3264, 0.0), (3265, 0.0), (3266, 0.0), (3269, 0.0), (3270, 0.0), (3271, 0.0), (3272, 0.0), (3277, 0.0), (3279, 0.0), (3280, 0.0), (3281, 0.0), (3283, 0.0), (3285, 0.0), (3286, 0.0), (3287, 0.0), (3289, 0.0), (3290, 0.0), (3292, 0.0), (3295, 0.0), (3299, 0.0), (3305, 0.0), (3307, 0.0), (3309, 0.0), (3310, 0.0), (3313, 0.0), (3320, 0.0), (3321, 0.0), (3322, 0.0), (3323, 0.0), (3324, 0.0), (3329, 0.0), (3332, 0.0), (3333, 0.0), (3335, 0.0), (3336, 0.0), (3337, 0.0), (3338, 0.0), (3340, 0.0), (3341, 0.0), (3348, 0.0), (3350, 0.0), (3354, 0.0), (3356, 0.0), (3358, 0.0), (3362, 0.0), (3367, 0.0), (3368, 0.0), (3369, 0.0), (3371, 0.0), (3372, 0.0), (3375, 0.0), (3376, 0.0), (3378, 0.0), (3381, 0.0), (3383, 0.0), (3384, 0.0), (3387, 0.0), (3390, 0.0), (3391, 0.0), (3392, 0.0), (3394, 0.0), (3395, 0.0), (3396, 0.0), (3397, 0.0), (3398, 0.0), (3400, 0.0), (3401, 0.0), (3404, 0.0), (3405, 0.0), (3410, 0.0), (3411, 0.0), (3412, 0.0), (3414, 0.0), (3416, 0.0), (3419, 0.0), (3420, 0.0), (3421, 0.0), (3422, 0.0), (3423, 0.0), (3424, 0.0), (3426, 0.0), (3428, 0.0), (3429, 0.0), (3430, 0.0), (3431, 0.0), (3432, 0.0), (3434, 0.0), (3439, 0.0), (3440, 0.0), (3441, 0.0), (3442, 0.0), (3444, 0.0), (3446, 0.0), (3448, 0.0), (3452, 0.0), (3453, 0.0), (3454, 0.0), (3455, 0.0), (3457, 0.0), (3458, 0.0), (3459, 0.0), (3461, 0.0), (3462, 0.0), (3466, 0.0), (3467, 0.0), (3468, 0.0), (3470, 0.0), (3472, 0.0), (3473, 0.0), (3475, 0.0), (3476, 0.0), (3478, 0.0), (3480, 0.0), (3481, 0.0), (3482, 0.0), (3484, 0.0), (3485, 0.0), (3486, 0.0), (3488, 0.0), (3489, 0.0), (3490, 0.0), (3491, 0.0), (3494, 0.0), (3495, 0.0), (3497, 0.0), (3502, 0.0), (3505, 0.0), (3507, 0.0), (3508, 0.0), (3509, 0.0), (3510, 0.0), (3513, 0.0), (3514, 0.0), (3515, 0.0), (3517, 0.0), (3518, 0.0), (3519, 0.0), (3520, 0.0), (3522, 0.0), (3523, 0.0), (3525, 0.0), (3528, 0.0), (3529, 0.0), (3530, 0.0), (3531, 0.0), (3532, 0.0), (3533, 0.0), (3534, 0.0), (3536, 0.0), (3537, 0.0), (3538, 0.0), (3539, 0.0), (3540, 0.0), (3543, 0.0), (3544, 0.0), (3545, 0.0), (3547, 0.0), (3548, 0.0), (3549, 0.0), (3550, 0.0), (3554, 0.0), (3555, 0.0), (3559, 0.0), (3561, 0.0), (3565, 0.0), (3566, 0.0), (3567, 0.0), (3568, 0.0), (3570, 0.0), (3572, 0.0), (3573, 0.0), (3574, 0.0), (3576, 0.0), (3580, 0.0), (3581, 0.0), (3584, 0.0), (3585, 0.0), (3587, 0.0), (3588, 0.0), (3589, 0.0), (3591, 0.0), (3592, 0.0), (3593, 0.0), (3594, 0.0), (3596, 0.0), (3597, 0.0), (3598, 0.0), (3599, 0.0), (3600, 0.0), (3602, 0.0), (3603, 0.0), (3604, 0.0), (3605, 0.0), (3606, 0.0), (3607, 0.0), (3608, 0.0), (3609, 0.0), (3610, 0.0), (3611, 0.0), (3615, 0.0), (3616, 0.0), (3617, 0.0), (3619, 0.0), (3621, 0.0), (3622, 0.0), (3625, 0.0), (3627, 0.0), (3629, 0.0), (3630, 0.0), (3631, 0.0), (3632, 0.0), (3633, 0.0), (3636, 0.0), (3644, 0.0), (3647, 0.0), (3648, 0.0), (3649, 0.0), (3650, 0.0), (3651, 0.0), (3656, 0.0), (3658, 0.0), (3661, 0.0), (3663, 0.0), (3665, 0.0), (3668, 0.0), (3671, 0.0), (3672, 0.0), (3674, 0.0), (3676, 0.0), (3677, 0.0), (3678, 0.0), (3679, 0.0), (3682, 0.0), (3683, 0.0), (3684, 0.0), (3685, 0.0), (3686, 0.0), (3687, 0.0), (3688, 0.0), (3690, 0.0), (3691, 0.0), (3693, 0.0), (3695, 0.0), (3697, 0.0), (3698, 0.0), (3700, 0.0), (3702, 0.0), (3703, 0.0), (3709, 0.0), (3712, 0.0), (3713, 0.0), (3714, 0.0), (3715, 0.0), (3716, 0.0), (3717, 0.0), (3718, 0.0), (3719, 0.0), (3720, 0.0), (3721, 0.0), (3722, 0.0), (3723, 0.0), (3724, 0.0), (3725, 0.0), (3726, 0.0), (3729, 0.0), (3730, 0.0), (3732, 0.0), (3733, 0.0), (3735, 0.0), (3736, 0.0), (3738, 0.0), (3740, 0.0), (3743, 0.0), (3744, 0.0), (3746, 0.0), (3747, 0.0), (3748, 0.0), (3750, 0.0), (3751, 0.0), (3753, 0.0), (3757, 0.0), (3758, 0.0), (3759, 0.0), (3760, 0.0), (3761, 0.0), (3762, 0.0), (3768, 0.0), (3769, 0.0), (3770, 0.0), (3773, 0.0), (3774, 0.0), (3775, 0.0), (3776, 0.0), (3779, 0.0), (3781, 0.0), (3782, 0.0), (3783, 0.0), (3785, 0.0), (3786, 0.0), (3787, 0.0), (3788, 0.0), (3789, 0.0), (3791, 0.0), (3792, 0.0), (3795, 0.0), (3796, 0.0), (3798, 0.0), (3800, 0.0), (3802, 0.0), (3803, 0.0), (3804, 0.0), (3805, 0.0), (3806, 0.0), (3808, 0.0), (3810, 0.0), (3812, 0.0), (3814, 0.0), (3815, 0.0), (3816, 0.0), (3817, 0.0), (3818, 0.0), (3820, 0.0), (3821, 0.0), (3823, 0.0), (3824, 0.0), (3825, 0.0), (3830, 0.0), (3831, 0.0), (3833, 0.0), (3834, 0.0), (3836, 0.0), (3837, 0.0), (3838, 0.0), (3840, 0.0), (3841, 0.0), (3842, 0.0), (3843, 0.0), (3846, 0.0), (3847, 0.0), (3848, 0.0), (3849, 0.0), (3850, 0.0), (3851, 0.0), (3852, 0.0), (3853, 0.0), (3856, 0.0), (3858, 0.0), (3859, 0.0), (3861, 0.0), (3863, 0.0), (3864, 0.0), (3865, 0.0), (3869, 0.0), (3870, 0.0), (3871, 0.0), (3872, 0.0), (3874, 0.0), (3877, 0.0), (3878, 0.0), (3879, 0.0), (3881, 0.0), (3884, 0.0), (3885, 0.0), (3886, 0.0), (3889, 0.0), (3891, 0.0), (3894, 0.0), (3896, 0.0), (3897, 0.0), (3899, 0.0), (3905, 0.0), (3906, 0.0), (3907, 0.0), (3908, 0.0), (3909, 0.0), (3911, 0.0), (3912, 0.0), (3914, 0.0), (3918, 0.0), (3921, 0.0), (3923, 0.0), (3926, 0.0), (3929, 0.0), (3930, 0.0), (3931, 0.0), (3933, 0.0), (3934, 0.0), (3935, 0.0), (3936, 0.0), (3937, 0.0), (3938, 0.0), (3939, 0.0), (3940, 0.0), (3942, 0.0), (3943, 0.0), (3944, 0.0), (3945, 0.0), (3948, 0.0), (3949, 0.0), (3951, 0.0), (3955, 0.0), (3957, 0.0), (3958, 0.0), (3963, 0.0), (3964, 0.0), (3965, 0.0), (3967, 0.0), (3968, 0.0), (3969, 0.0), (3971, 0.0), (3975, 0.0), (3976, 0.0), (3977, 0.0), (3979, 0.0), (3980, 0.0), (3981, 0.0), (3982, 0.0), (3985, 0.0), (3986, 0.0), (3987, 0.0), (3988, 0.0), (3989, 0.0), (3991, 0.0), (3994, 0.0), (3995, 0.0), (3996, 0.0), (3997, 0.0), (3998, 0.0), (3999, 0.0), (4001, 0.0), (4002, 0.0), (4006, 0.0), (4007, 0.0), (4008, 0.0), (4009, 0.0), (4012, 0.0), (4013, 0.0), (4015, 0.0), (4017, 0.0), (4018, 0.0), (4019, 0.0), (4021, 0.0), (4022, 0.0), (4023, 0.0), (4026, 0.0), (4027, 0.0), (4028, 0.0), (4029, 0.0), (4030, 0.0), (4031, 0.0), (4032, 0.0), (4034, 0.0), (4035, 0.0), (4037, 0.0), (4039, 0.0), (4040, 0.0), (4041, 0.0), (4042, 0.0), (4043, 0.0), (4044, 0.0), (4045, 0.0), (4047, 0.0), (4049, 0.0), (4050, 0.0), (4052, 0.0), (4055, 0.0), (4057, 0.0), (4058, 0.0), (4059, 0.0), (4061, 0.0), (4062, 0.0), (4063, 0.0), (4064, 0.0), (4065, 0.0), (4067, 0.0), (4070, 0.0), (4071, 0.0), (4072, 0.0), (4075, 0.0), (4076, 0.0), (4077, 0.0), (4078, 0.0), (4080, 0.0), (4081, 0.0), (4083, 0.0), (4084, 0.0), (4086, 0.0), (4089, 0.0), (4090, 0.0), (4094, 0.0), (4099, 0.0), (4102, 0.0), (4103, 0.0), (4104, 0.0), (4106, 0.0), (4107, 0.0), (4108, 0.0), (4109, 0.0), (4110, 0.0), (4112, 0.0), (4114, 0.0), (4115, 0.0), (4122, 0.0), (4125, 0.0), (4126, 0.0), (4127, 0.0), (4128, 0.0), (4129, 0.0), (4131, 0.0), (4132, 0.0), (4134, 0.0), (4136, 0.0), (4139, 0.0), (4140, 0.0), (4142, 0.0), (4144, 0.0), (4145, 0.0), (4147, 0.0), (4149, 0.0), (4150, 0.0), (4153, 0.0), (4157, 0.0), (4158, 0.0), (4159, 0.0), (4161, 0.0), (4162, 0.0), (4166, 0.0), (4167, 0.0), (4168, 0.0), (4169, 0.0), (4170, 0.0), (4172, 0.0), (4174, 0.0), (4175, 0.0), (4177, 0.0), (4179, 0.0), (4180, 0.0), (4181, 0.0), (4184, 0.0), (4185, 0.0), (4188, 0.0), (4190, 0.0), (4191, 0.0), (4193, 0.0), (4194, 0.0), (4195, 0.0), (4196, 0.0), (4197, 0.0), (4198, 0.0), (4199, 0.0), (4200, 0.0), (4201, 0.0), (4204, 0.0), (4206, 0.0), (4207, 0.0), (4208, 0.0), (4209, 0.0), (4210, 0.0), (4211, 0.0), (4212, 0.0), (4213, 0.0), (4215, 0.0), (4217, 0.0), (4218, 0.0), (4219, 0.0), (4220, 0.0), (4221, 0.0), (4222, 0.0), (4223, 0.0), (4224, 0.0), (4225, 0.0), (4226, 0.0), (4228, 0.0), (4229, 0.0), (4230, 0.0), (4234, 0.0), (4236, 0.0), (4237, 0.0), (4238, 0.0), (4239, 0.0), (4240, 0.0), (4241, 0.0), (4245, 0.0), (4248, 0.0), (4250, 0.0), (4251, 0.0), (4252, 0.0), (4253, 0.0), (4254, 0.0), (4256, 0.0), (4258, 0.0), (4260, 0.0), (4263, 0.0), (4264, 0.0), (4265, 0.0), (4270, 0.0), (4271, 0.0), (4272, 0.0), (4273, 0.0), (4274, 0.0), (4275, 0.0), (4276, 0.0), (4277, 0.0), (4278, 0.0), (4279, 0.0), (4280, 0.0), (4281, 0.0), (4285, 0.0), (4289, 0.0), (4291, 0.0), (4292, 0.0), (4294, 0.0), (4296, 0.0), (4297, 0.0), (4298, 0.0), (4299, 0.0), (4300, 0.0), (4301, 0.0), (4302, 0.0), (4303, 0.0), (4304, 0.0), (4305, 0.0), (4306, 0.0), (4307, 0.0), (4308, 0.0), (4310, 0.0), (4312, 0.0), (4313, 0.0), (4314, 0.0), (4315, 0.0), (4316, 0.0), (4317, 0.0), (4318, 0.0), (4320, 0.0), (4322, 0.0), (4324, 0.0), (4326, 0.0), (4327, 0.0), (4328, 0.0), (4329, 0.0), (4331, 0.0), (4332, 0.0), (4337, 0.0), (4338, 0.0), (4339, 0.0), (4340, 0.0), (4341, 0.0), (4343, 0.0), (4346, 0.0), (4348, 0.0), (4351, 0.0), (4353, 0.0), (4354, 0.0), (4355, 0.0), (4358, 0.0), (4359, 0.0), (4360, 0.0), (4361, 0.0), (4363, 0.0), (4364, 0.0), (4365, 0.0), (4367, 0.0), (4370, 0.0), (4372, 0.0), (4373, 0.0), (4375, 0.0), (4376, 0.0), (4377, 0.0), (4378, 0.0), (4381, 0.0), (4383, 0.0), (4385, 0.0), (4386, 0.0), (4388, 0.0), (4389, 0.0), (4390, 0.0), (4391, 0.0), (4392, 0.0), (4393, 0.0), (4395, 0.0), (4397, 0.0), (4398, 0.0), (4399, 0.0), (4400, 0.0), (4404, 0.0), (4405, 0.0), (4406, 0.0), (4407, 0.0), (4408, 0.0), (4409, 0.0), (4410, 0.0), (4413, 0.0), (4414, 0.0), (4415, 0.0), (4416, 0.0), (4417, 0.0), (4418, 0.0), (4421, 0.0), (4423, 0.0), (4424, 0.0), (4425, 0.0), (4426, 0.0), (4431, 0.0), (4433, 0.0), (4434, 0.0), (4437, 0.0), (4438, 0.0), (4439, 0.0), (4440, 0.0), (4445, 0.0), (4449, 0.0), (4454, 0.0), (4455, 0.0), (4456, 0.0), (4457, 0.0), (4458, 0.0), (4459, 0.0), (4460, 0.0), (4461, 0.0), (4462, 0.0), (4463, 0.0), (4464, 0.0), (4466, 0.0), (4467, 0.0), (4468, 0.0), (4471, 0.0), (4476, 0.0), (4478, 0.0), (4480, 0.0), (4483, 0.0), (4486, 0.0), (4488, 0.0), (4491, 0.0), (4492, 0.0), (4495, 0.0), (4497, 0.0), (4498, 0.0), (4499, 0.0), (4504, 0.0), (4505, 0.0), (4506, 0.0), (4508, 0.0), (4509, 0.0), (4513, 0.0), (4514, 0.0), (4518, 0.0), (4519, 0.0), (4524, 0.0), (4526, 0.0), (4527, 0.0), (4529, 0.0), (4532, 0.0), (4534, 0.0), (4537, 0.0), (4538, 0.0), (4540, 0.0), (4541, 0.0), (4542, 0.0), (4543, 0.0), (4544, 0.0), (4545, 0.0), (4547, 0.0), (4548, 0.0), (4549, 0.0), (4550, 0.0), (4552, 0.0), (4556, 0.0), (4558, 0.0), (4559, 0.0), (4560, 0.0), (4561, 0.0), (4564, 0.0), (4565, 0.0), (4567, 0.0), (4568, 0.0), (4569, 0.0), (4570, 0.0), (4572, 0.0), (4574, 0.0), (4576, 0.0), (4577, 0.0), (4578, 0.0), (4579, 0.0), (4580, 0.0), (4582, 0.0), (4583, 0.0), (4585, 0.0), (4586, 0.0), (4587, 0.0), (4588, 0.0), (4592, 0.0), (4595, 0.0), (4596, 0.0), (4597, 0.0), (4599, 0.0), (4601, 0.0), (4602, 0.0), (4604, 0.0), (4605, 0.0), (4607, 0.0), (4608, 0.0), (4609, 0.0), (4611, 0.0), (4612, 0.0), (4613, 0.0), (4614, 0.0), (4615, 0.0), (4616, 0.0), (4618, 0.0), (4620, 0.0), (4621, 0.0), (4622, 0.0), (4627, 0.0), (4630, 0.0), (4631, 0.0), (4633, 0.0), (4634, 0.0), (4635, 0.0), (4639, 0.0), (4641, 0.0), (4642, 0.0), (4644, 0.0), (4645, 0.0), (4646, 0.0), (4647, 0.0), (4648, 0.0), (4649, 0.0), (4651, 0.0), (4653, 0.0), (4654, 0.0), (4655, 0.0), (4659, 0.0), (4661, 0.0), (4663, 0.0), (4664, 0.0), (4665, 0.0), (4666, 0.0), (4667, 0.0), (4671, 0.0), (4672, 0.0), (4675, 0.0), (4676, 0.0), (4677, 0.0), (4678, 0.0), (4680, 0.0), (4681, 0.0), (4682, 0.0), (4683, 0.0), (4685, 0.0), (4686, 0.0), (4687, 0.0), (4688, 0.0), (4689, 0.0), (4690, 0.0), (4691, 0.0), (4692, 0.0), (4693, 0.0), (4694, 0.0), (4695, 0.0), (4696, 0.0), (4697, 0.0), (4698, 0.0), (4700, 0.0), (4702, 0.0), (4703, 0.0), (4704, 0.0), (4705, 0.0), (4707, 0.0), (4708, 0.0), (4709, 0.0), (4711, 0.0), (4714, 0.0), (4716, 0.0), (4717, 0.0), (4719, 0.0), (4720, 0.0), (4721, 0.0), (4726, 0.0), (4728, 0.0), (4729, 0.0), (4730, 0.0), (4732, 0.0), (4737, 0.0), (4738, 0.0), (4740, 0.0), (4741, 0.0), (4742, 0.0), (4743, 0.0), (4744, 0.0), (4745, 0.0), (4746, 0.0), (4748, 0.0), (4749, 0.0), (4750, 0.0), (4751, 0.0), (4753, 0.0), (4754, 0.0), (4755, 0.0), (4756, 0.0), (4757, 0.0), (4758, 0.0), (4759, 0.0)]\n"
          ]
        }
      ]
    },
    {
      "cell_type": "code",
      "source": [
        "print('top 10 movies suggested for you :\\n')\n",
        "\n",
        "i=1\n",
        "for movie in Sorted_Similar_Movies:\n",
        "  index=movie[0]\n",
        "  title_from_index=df[df.index==index]['Movie_Title'].values\n",
        "  if(i<9):\n",
        "    print(i,'.',title_from_index)\n",
        "    i+=1\n"
      ],
      "metadata": {
        "colab": {
          "base_uri": "https://localhost:8080/"
        },
        "id": "kPcppG4mwX7m",
        "outputId": "9c7d80bd-3470-447d-e3ee-598a77f60601"
      },
      "execution_count": 58,
      "outputs": [
        {
          "output_type": "stream",
          "name": "stdout",
          "text": [
            "top 10 movies suggested for you :\n",
            "\n",
            "1 . ['Nightcrawler']\n",
            "2 . ['Four Lions']\n",
            "3 . ['Lethal Weapon 4']\n",
            "4 . ['The Thomas Crown Affair']\n",
            "5 . ['Frailty']\n",
            "6 . ['Ransom']\n",
            "7 . ['Lethal Weapon 3']\n",
            "8 . ['The Intern']\n"
          ]
        }
      ]
    },
    {
      "cell_type": "code",
      "source": [
        "Movie_Name=input('enter your favourite movie name:')\n",
        "list_of_all_titles=df['Movie_Title'].tolist()\n",
        "find_Close_Match=difflib.get_close_matches(Movie_Name,list_of_all_titles)\n",
        "Close_Match=find_Close_Match[0]\n",
        "Index_of_Movie=df[df.Movie_Title==Close_Match]['Movie_ID'].values[0]\n",
        "Recommendation_Score=list(enumerate(Similarity_Score[Index_of_Movie]))\n",
        "sorted_similar_movies=sorted(Recommendation_Score,key=lambda x:x[1],reverse=True)\n",
        "print('top 70 movies suggested for you:\\n')\n",
        "i=1\n",
        "for movie in sorted_similar_movies:\n",
        "  index=movie[0]\n",
        "  title_from_index=df[df.Movie_ID==index]['Movie_Title'].values\n",
        "  if(i<9):\n",
        "    print(i,'.',title_from_index)\n",
        "    i+=1\n"
      ],
      "metadata": {
        "colab": {
          "base_uri": "https://localhost:8080/"
        },
        "id": "VRPE5jM4xr6s",
        "outputId": "96f26887-c70b-4241-a802-5cbef0df9dfb"
      },
      "execution_count": 61,
      "outputs": [
        {
          "output_type": "stream",
          "name": "stdout",
          "text": [
            "enter your favourite movie name:The Spy Next Door\n",
            "top 70 movies suggested for you:\n",
            "\n",
            "1 . ['The Spy Next Door']\n",
            "2 . ['Boomerang']\n",
            "3 . ['Brooklyn']\n",
            "4 . ['Faith Like Potatoes']\n",
            "5 . ['Kingdom of Heaven']\n",
            "6 . ['Gremlins 2: The New Batch']\n",
            "7 . ['Going the Distance']\n",
            "8 . ['Rabbit Hole']\n"
          ]
        }
      ]
    },
    {
      "cell_type": "code",
      "source": [],
      "metadata": {
        "id": "8H4n1gE92UDD"
      },
      "execution_count": null,
      "outputs": []
    }
  ]
}